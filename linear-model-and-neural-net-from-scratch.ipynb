{
 "cells": [
  {
   "cell_type": "markdown",
   "id": "af74ecd6",
   "metadata": {
    "papermill": {
     "duration": 0.124969,
     "end_time": "2023-07-04T11:27:10.789719",
     "exception": false,
     "start_time": "2023-07-04T11:27:10.664750",
     "status": "completed"
    },
    "tags": []
   },
   "source": [
    "## Introduction"
   ]
  },
  {
   "cell_type": "markdown",
   "id": "bac2e15d",
   "metadata": {
    "papermill": {
     "duration": 0.122763,
     "end_time": "2023-07-04T11:27:11.036432",
     "exception": false,
     "start_time": "2023-07-04T11:27:10.913669",
     "status": "completed"
    },
    "tags": []
   },
   "source": [
    "In this notebook we're going to build and train a deep learning model \"from scratch\" -- by which I mean that we're not going to use any pre-built architecture, or optimizers, or data loading frameworks, etc.\n",
    "\n",
    "We'll be assuming you already know the basics of how a neural network works. If you don't, read this notebook first: [How does a neural net really work?\n",
    "](https://www.kaggle.com/code/jhoward/how-does-a-neural-net-really-work). We'll be using Kaggle's [Titanic](https://www.kaggle.com/competitions/titanic/) competition in this notebook, because it's very small and simple, but also has displays many of the tricky real-life issues that we need to handle in most practical projects. (Note, however, that this competition is a small \"learner\" competition on Kaggle, so don't expect to actually see much benefits from using a neural net just yet; that will come once we try our some real competitions!)\n",
    "\n",
    "It's great to be able to run the same notebook on your own machine or Colab, as well as Kaggle. To allow for this, we use this code to download the data as needed when not on Kaggle (see [this notebook](https://www.kaggle.com/code/jhoward/getting-started-with-nlp-for-absolute-beginners/) for details about this technique):"
   ]
  },
  {
   "cell_type": "code",
   "execution_count": 1,
   "id": "c253122b",
   "metadata": {
    "execution": {
     "iopub.execute_input": "2023-07-04T11:27:11.284295Z",
     "iopub.status.busy": "2023-07-04T11:27:11.283872Z",
     "iopub.status.idle": "2023-07-04T11:27:11.292970Z",
     "shell.execute_reply": "2023-07-04T11:27:11.292350Z"
    },
    "papermill": {
     "duration": 0.133977,
     "end_time": "2023-07-04T11:27:11.295096",
     "exception": false,
     "start_time": "2023-07-04T11:27:11.161119",
     "status": "completed"
    },
    "tags": []
   },
   "outputs": [],
   "source": [
    "import os\n",
    "from pathlib import Path\n",
    "\n",
    "iskaggle = os.environ.get('KAGGLE_KERNEL_RUN_TYPE', '')\n",
    "if iskaggle: path = Path('../input/titanic')\n",
    "else:\n",
    "    path = Path('titanic')\n",
    "    if not path.exists():\n",
    "        import zipfile,kaggle\n",
    "        kaggle.api.competition_download_cli(str(path))\n",
    "        zipfile.ZipFile(f'{path}.zip').extractall(path)"
   ]
  },
  {
   "cell_type": "markdown",
   "id": "94590e11",
   "metadata": {
    "hidden": true,
    "papermill": {
     "duration": 0.120893,
     "end_time": "2023-07-04T11:27:11.539117",
     "exception": false,
     "start_time": "2023-07-04T11:27:11.418224",
     "status": "completed"
    },
    "tags": []
   },
   "source": [
    "Note that the data for Kaggle comps always lives in the `../input` folder. The easiest way to get the path is to click the \"K\" button in the top-right of the Kaggle notebook, click on the folder shown there, and click the copy button.\n",
    "\n",
    "We'll be using *numpy* and *pytorch* for array calculations in this notebook, and *pandas* for working with tabular data, so we'll import them and set them to display using a bit more space than they default to."
   ]
  },
  {
   "cell_type": "code",
   "execution_count": 2,
   "id": "7bf221f1",
   "metadata": {
    "execution": {
     "iopub.execute_input": "2023-07-04T11:27:11.785150Z",
     "iopub.status.busy": "2023-07-04T11:27:11.784833Z",
     "iopub.status.idle": "2023-07-04T11:27:13.196146Z",
     "shell.execute_reply": "2023-07-04T11:27:13.195600Z"
    },
    "papermill": {
     "duration": 1.536588,
     "end_time": "2023-07-04T11:27:13.198228",
     "exception": false,
     "start_time": "2023-07-04T11:27:11.661640",
     "status": "completed"
    },
    "tags": []
   },
   "outputs": [],
   "source": [
    "import torch, numpy as np, pandas as pd\n",
    "np.set_printoptions(linewidth=140)\n",
    "torch.set_printoptions(linewidth=140, sci_mode=False, edgeitems=7)\n",
    "pd.set_option('display.width', 140)"
   ]
  },
  {
   "cell_type": "markdown",
   "id": "b3ee42ce",
   "metadata": {
    "heading_collapsed": true,
    "papermill": {
     "duration": 0.120402,
     "end_time": "2023-07-04T11:27:13.440519",
     "exception": false,
     "start_time": "2023-07-04T11:27:13.320117",
     "status": "completed"
    },
    "tags": []
   },
   "source": [
    "## Cleaning the data"
   ]
  },
  {
   "cell_type": "markdown",
   "id": "d2bd72f1",
   "metadata": {
    "hidden": true,
    "papermill": {
     "duration": 0.120335,
     "end_time": "2023-07-04T11:27:13.681763",
     "exception": false,
     "start_time": "2023-07-04T11:27:13.561428",
     "status": "completed"
    },
    "tags": []
   },
   "source": [
    "This is a *tabular data* competition -- the data is in the form of a table. It's provided as a Comma Separated Values (CSV) file. We can open it using the *pandas* library, which will create a `DataFrame`."
   ]
  },
  {
   "cell_type": "code",
   "execution_count": 3,
   "id": "1a8a652e",
   "metadata": {
    "execution": {
     "iopub.execute_input": "2023-07-04T11:27:13.927410Z",
     "iopub.status.busy": "2023-07-04T11:27:13.926958Z",
     "iopub.status.idle": "2023-07-04T11:27:13.971400Z",
     "shell.execute_reply": "2023-07-04T11:27:13.970851Z"
    },
    "hidden": true,
    "papermill": {
     "duration": 0.169729,
     "end_time": "2023-07-04T11:27:13.973636",
     "exception": false,
     "start_time": "2023-07-04T11:27:13.803907",
     "status": "completed"
    },
    "scrolled": true,
    "tags": []
   },
   "outputs": [
    {
     "data": {
      "text/html": [
       "<div>\n",
       "<style scoped>\n",
       "    .dataframe tbody tr th:only-of-type {\n",
       "        vertical-align: middle;\n",
       "    }\n",
       "\n",
       "    .dataframe tbody tr th {\n",
       "        vertical-align: top;\n",
       "    }\n",
       "\n",
       "    .dataframe thead th {\n",
       "        text-align: right;\n",
       "    }\n",
       "</style>\n",
       "<table border=\"1\" class=\"dataframe\">\n",
       "  <thead>\n",
       "    <tr style=\"text-align: right;\">\n",
       "      <th></th>\n",
       "      <th>PassengerId</th>\n",
       "      <th>Survived</th>\n",
       "      <th>Pclass</th>\n",
       "      <th>Name</th>\n",
       "      <th>Sex</th>\n",
       "      <th>Age</th>\n",
       "      <th>SibSp</th>\n",
       "      <th>Parch</th>\n",
       "      <th>Ticket</th>\n",
       "      <th>Fare</th>\n",
       "      <th>Cabin</th>\n",
       "      <th>Embarked</th>\n",
       "    </tr>\n",
       "  </thead>\n",
       "  <tbody>\n",
       "    <tr>\n",
       "      <th>0</th>\n",
       "      <td>1</td>\n",
       "      <td>0</td>\n",
       "      <td>3</td>\n",
       "      <td>Braund, Mr. Owen Harris</td>\n",
       "      <td>male</td>\n",
       "      <td>22.0</td>\n",
       "      <td>1</td>\n",
       "      <td>0</td>\n",
       "      <td>A/5 21171</td>\n",
       "      <td>7.2500</td>\n",
       "      <td>NaN</td>\n",
       "      <td>S</td>\n",
       "    </tr>\n",
       "    <tr>\n",
       "      <th>1</th>\n",
       "      <td>2</td>\n",
       "      <td>1</td>\n",
       "      <td>1</td>\n",
       "      <td>Cumings, Mrs. John Bradley (Florence Briggs Th...</td>\n",
       "      <td>female</td>\n",
       "      <td>38.0</td>\n",
       "      <td>1</td>\n",
       "      <td>0</td>\n",
       "      <td>PC 17599</td>\n",
       "      <td>71.2833</td>\n",
       "      <td>C85</td>\n",
       "      <td>C</td>\n",
       "    </tr>\n",
       "    <tr>\n",
       "      <th>2</th>\n",
       "      <td>3</td>\n",
       "      <td>1</td>\n",
       "      <td>3</td>\n",
       "      <td>Heikkinen, Miss. Laina</td>\n",
       "      <td>female</td>\n",
       "      <td>26.0</td>\n",
       "      <td>0</td>\n",
       "      <td>0</td>\n",
       "      <td>STON/O2. 3101282</td>\n",
       "      <td>7.9250</td>\n",
       "      <td>NaN</td>\n",
       "      <td>S</td>\n",
       "    </tr>\n",
       "    <tr>\n",
       "      <th>3</th>\n",
       "      <td>4</td>\n",
       "      <td>1</td>\n",
       "      <td>1</td>\n",
       "      <td>Futrelle, Mrs. Jacques Heath (Lily May Peel)</td>\n",
       "      <td>female</td>\n",
       "      <td>35.0</td>\n",
       "      <td>1</td>\n",
       "      <td>0</td>\n",
       "      <td>113803</td>\n",
       "      <td>53.1000</td>\n",
       "      <td>C123</td>\n",
       "      <td>S</td>\n",
       "    </tr>\n",
       "    <tr>\n",
       "      <th>4</th>\n",
       "      <td>5</td>\n",
       "      <td>0</td>\n",
       "      <td>3</td>\n",
       "      <td>Allen, Mr. William Henry</td>\n",
       "      <td>male</td>\n",
       "      <td>35.0</td>\n",
       "      <td>0</td>\n",
       "      <td>0</td>\n",
       "      <td>373450</td>\n",
       "      <td>8.0500</td>\n",
       "      <td>NaN</td>\n",
       "      <td>S</td>\n",
       "    </tr>\n",
       "    <tr>\n",
       "      <th>...</th>\n",
       "      <td>...</td>\n",
       "      <td>...</td>\n",
       "      <td>...</td>\n",
       "      <td>...</td>\n",
       "      <td>...</td>\n",
       "      <td>...</td>\n",
       "      <td>...</td>\n",
       "      <td>...</td>\n",
       "      <td>...</td>\n",
       "      <td>...</td>\n",
       "      <td>...</td>\n",
       "      <td>...</td>\n",
       "    </tr>\n",
       "    <tr>\n",
       "      <th>886</th>\n",
       "      <td>887</td>\n",
       "      <td>0</td>\n",
       "      <td>2</td>\n",
       "      <td>Montvila, Rev. Juozas</td>\n",
       "      <td>male</td>\n",
       "      <td>27.0</td>\n",
       "      <td>0</td>\n",
       "      <td>0</td>\n",
       "      <td>211536</td>\n",
       "      <td>13.0000</td>\n",
       "      <td>NaN</td>\n",
       "      <td>S</td>\n",
       "    </tr>\n",
       "    <tr>\n",
       "      <th>887</th>\n",
       "      <td>888</td>\n",
       "      <td>1</td>\n",
       "      <td>1</td>\n",
       "      <td>Graham, Miss. Margaret Edith</td>\n",
       "      <td>female</td>\n",
       "      <td>19.0</td>\n",
       "      <td>0</td>\n",
       "      <td>0</td>\n",
       "      <td>112053</td>\n",
       "      <td>30.0000</td>\n",
       "      <td>B42</td>\n",
       "      <td>S</td>\n",
       "    </tr>\n",
       "    <tr>\n",
       "      <th>888</th>\n",
       "      <td>889</td>\n",
       "      <td>0</td>\n",
       "      <td>3</td>\n",
       "      <td>Johnston, Miss. Catherine Helen \"Carrie\"</td>\n",
       "      <td>female</td>\n",
       "      <td>NaN</td>\n",
       "      <td>1</td>\n",
       "      <td>2</td>\n",
       "      <td>W./C. 6607</td>\n",
       "      <td>23.4500</td>\n",
       "      <td>NaN</td>\n",
       "      <td>S</td>\n",
       "    </tr>\n",
       "    <tr>\n",
       "      <th>889</th>\n",
       "      <td>890</td>\n",
       "      <td>1</td>\n",
       "      <td>1</td>\n",
       "      <td>Behr, Mr. Karl Howell</td>\n",
       "      <td>male</td>\n",
       "      <td>26.0</td>\n",
       "      <td>0</td>\n",
       "      <td>0</td>\n",
       "      <td>111369</td>\n",
       "      <td>30.0000</td>\n",
       "      <td>C148</td>\n",
       "      <td>C</td>\n",
       "    </tr>\n",
       "    <tr>\n",
       "      <th>890</th>\n",
       "      <td>891</td>\n",
       "      <td>0</td>\n",
       "      <td>3</td>\n",
       "      <td>Dooley, Mr. Patrick</td>\n",
       "      <td>male</td>\n",
       "      <td>32.0</td>\n",
       "      <td>0</td>\n",
       "      <td>0</td>\n",
       "      <td>370376</td>\n",
       "      <td>7.7500</td>\n",
       "      <td>NaN</td>\n",
       "      <td>Q</td>\n",
       "    </tr>\n",
       "  </tbody>\n",
       "</table>\n",
       "<p>891 rows × 12 columns</p>\n",
       "</div>"
      ],
      "text/plain": [
       "     PassengerId  Survived  Pclass                                               Name     Sex   Age  SibSp  Parch            Ticket  \\\n",
       "0              1         0       3                            Braund, Mr. Owen Harris    male  22.0      1      0         A/5 21171   \n",
       "1              2         1       1  Cumings, Mrs. John Bradley (Florence Briggs Th...  female  38.0      1      0          PC 17599   \n",
       "2              3         1       3                             Heikkinen, Miss. Laina  female  26.0      0      0  STON/O2. 3101282   \n",
       "3              4         1       1       Futrelle, Mrs. Jacques Heath (Lily May Peel)  female  35.0      1      0            113803   \n",
       "4              5         0       3                           Allen, Mr. William Henry    male  35.0      0      0            373450   \n",
       "..           ...       ...     ...                                                ...     ...   ...    ...    ...               ...   \n",
       "886          887         0       2                              Montvila, Rev. Juozas    male  27.0      0      0            211536   \n",
       "887          888         1       1                       Graham, Miss. Margaret Edith  female  19.0      0      0            112053   \n",
       "888          889         0       3           Johnston, Miss. Catherine Helen \"Carrie\"  female   NaN      1      2        W./C. 6607   \n",
       "889          890         1       1                              Behr, Mr. Karl Howell    male  26.0      0      0            111369   \n",
       "890          891         0       3                                Dooley, Mr. Patrick    male  32.0      0      0            370376   \n",
       "\n",
       "        Fare Cabin Embarked  \n",
       "0     7.2500   NaN        S  \n",
       "1    71.2833   C85        C  \n",
       "2     7.9250   NaN        S  \n",
       "3    53.1000  C123        S  \n",
       "4     8.0500   NaN        S  \n",
       "..       ...   ...      ...  \n",
       "886  13.0000   NaN        S  \n",
       "887  30.0000   B42        S  \n",
       "888  23.4500   NaN        S  \n",
       "889  30.0000  C148        C  \n",
       "890   7.7500   NaN        Q  \n",
       "\n",
       "[891 rows x 12 columns]"
      ]
     },
     "execution_count": 3,
     "metadata": {},
     "output_type": "execute_result"
    }
   ],
   "source": [
    "df = pd.read_csv(path/'train.csv')\n",
    "df"
   ]
  },
  {
   "cell_type": "markdown",
   "id": "75dc9d85",
   "metadata": {
    "hidden": true,
    "papermill": {
     "duration": 0.121099,
     "end_time": "2023-07-04T11:27:14.219279",
     "exception": false,
     "start_time": "2023-07-04T11:27:14.098180",
     "status": "completed"
    },
    "tags": []
   },
   "source": [
    "As we learned in the *How does a neural net really work* notebook, we going to want to multiply each column by some coefficients. But we can see in the `Cabin` column that there are `NaN` values, which is how Pandas refers to missing values. We can't multiply something by a missing value!\n",
    "\n",
    "Let's check which columns contain `NaN` values. Pandas' `isna()` function returns `True` (which is treated as `1` when used as a number) for `NaN` values, so we can just add them up for each column:"
   ]
  },
  {
   "cell_type": "code",
   "execution_count": 4,
   "id": "63d087a8",
   "metadata": {
    "execution": {
     "iopub.execute_input": "2023-07-04T11:27:14.468902Z",
     "iopub.status.busy": "2023-07-04T11:27:14.468498Z",
     "iopub.status.idle": "2023-07-04T11:27:14.476003Z",
     "shell.execute_reply": "2023-07-04T11:27:14.475057Z"
    },
    "hidden": true,
    "papermill": {
     "duration": 0.136045,
     "end_time": "2023-07-04T11:27:14.478287",
     "exception": false,
     "start_time": "2023-07-04T11:27:14.342242",
     "status": "completed"
    },
    "tags": []
   },
   "outputs": [
    {
     "data": {
      "text/plain": [
       "PassengerId      0\n",
       "Survived         0\n",
       "Pclass           0\n",
       "Name             0\n",
       "Sex              0\n",
       "Age            177\n",
       "SibSp            0\n",
       "Parch            0\n",
       "Ticket           0\n",
       "Fare             0\n",
       "Cabin          687\n",
       "Embarked         2\n",
       "dtype: int64"
      ]
     },
     "execution_count": 4,
     "metadata": {},
     "output_type": "execute_result"
    }
   ],
   "source": [
    "df.isna().sum()"
   ]
  },
  {
   "cell_type": "markdown",
   "id": "b9bdafec",
   "metadata": {
    "hidden": true,
    "papermill": {
     "duration": 0.122668,
     "end_time": "2023-07-04T11:27:14.724011",
     "exception": false,
     "start_time": "2023-07-04T11:27:14.601343",
     "status": "completed"
    },
    "tags": []
   },
   "source": [
    "Notice that by default Pandas sums over columns.\n",
    "\n",
    "We'll need to replace the missing values with something. It doesn't generally matter too much what we choose. We'll use the most common value (the \"*mode*\"). We can use the `mode` function for that. One wrinkle is that it returns more than one row in the case of ties, so we just grab the first row with `iloc[0]`:"
   ]
  },
  {
   "cell_type": "code",
   "execution_count": 5,
   "id": "cd172957",
   "metadata": {
    "execution": {
     "iopub.execute_input": "2023-07-04T11:27:14.971558Z",
     "iopub.status.busy": "2023-07-04T11:27:14.971008Z",
     "iopub.status.idle": "2023-07-04T11:27:14.988869Z",
     "shell.execute_reply": "2023-07-04T11:27:14.988040Z"
    },
    "hidden": true,
    "papermill": {
     "duration": 0.143468,
     "end_time": "2023-07-04T11:27:14.990473",
     "exception": false,
     "start_time": "2023-07-04T11:27:14.847005",
     "status": "completed"
    },
    "tags": []
   },
   "outputs": [
    {
     "data": {
      "text/plain": [
       "PassengerId                      1\n",
       "Survived                       0.0\n",
       "Pclass                         3.0\n",
       "Name           Abbing, Mr. Anthony\n",
       "Sex                           male\n",
       "Age                           24.0\n",
       "SibSp                          0.0\n",
       "Parch                          0.0\n",
       "Ticket                        1601\n",
       "Fare                          8.05\n",
       "Cabin                      B96 B98\n",
       "Embarked                         S\n",
       "Name: 0, dtype: object"
      ]
     },
     "execution_count": 5,
     "metadata": {},
     "output_type": "execute_result"
    }
   ],
   "source": [
    "modes = df.mode().iloc[0]\n",
    "modes"
   ]
  },
  {
   "cell_type": "markdown",
   "id": "28c0453d",
   "metadata": {
    "hidden": true,
    "papermill": {
     "duration": 0.124902,
     "end_time": "2023-07-04T11:27:15.239745",
     "exception": false,
     "start_time": "2023-07-04T11:27:15.114843",
     "status": "completed"
    },
    "tags": []
   },
   "source": [
    "BTW, it's never a good idea to use functions without understanding them. So be sure to google for anything you're not familiar with. E.g if you want to learn about `iloc` (which is a very important function indeed!) then Google will give you a link to a [great tutorial](https://www.shanelynn.ie/pandas-iloc-loc-select-rows-and-columns-dataframe/).\n",
    "\n",
    "Now that we've got the mode of each column, we can use `fillna` to replace the missing values with the mode of each column. We'll do it \"in place\" -- meaning that we'll change the dataframe itself, rather than returning a new one."
   ]
  },
  {
   "cell_type": "code",
   "execution_count": 6,
   "id": "17afbd97",
   "metadata": {
    "execution": {
     "iopub.execute_input": "2023-07-04T11:27:15.488435Z",
     "iopub.status.busy": "2023-07-04T11:27:15.487949Z",
     "iopub.status.idle": "2023-07-04T11:27:15.498040Z",
     "shell.execute_reply": "2023-07-04T11:27:15.496908Z"
    },
    "hidden": true,
    "papermill": {
     "duration": 0.136454,
     "end_time": "2023-07-04T11:27:15.500303",
     "exception": false,
     "start_time": "2023-07-04T11:27:15.363849",
     "status": "completed"
    },
    "tags": []
   },
   "outputs": [],
   "source": [
    "df.fillna(modes, inplace=True)"
   ]
  },
  {
   "cell_type": "code",
   "execution_count": 7,
   "id": "6c0301ce",
   "metadata": {
    "execution": {
     "iopub.execute_input": "2023-07-04T11:27:15.746326Z",
     "iopub.status.busy": "2023-07-04T11:27:15.746064Z",
     "iopub.status.idle": "2023-07-04T11:27:15.754802Z",
     "shell.execute_reply": "2023-07-04T11:27:15.754096Z"
    },
    "papermill": {
     "duration": 0.135498,
     "end_time": "2023-07-04T11:27:15.757696",
     "exception": false,
     "start_time": "2023-07-04T11:27:15.622198",
     "status": "completed"
    },
    "tags": []
   },
   "outputs": [
    {
     "data": {
      "text/plain": [
       "PassengerId    0\n",
       "Survived       0\n",
       "Pclass         0\n",
       "Name           0\n",
       "Sex            0\n",
       "Age            0\n",
       "SibSp          0\n",
       "Parch          0\n",
       "Ticket         0\n",
       "Fare           0\n",
       "Cabin          0\n",
       "Embarked       0\n",
       "dtype: int64"
      ]
     },
     "execution_count": 7,
     "metadata": {},
     "output_type": "execute_result"
    }
   ],
   "source": [
    "df.isna().sum()"
   ]
  },
  {
   "cell_type": "markdown",
   "id": "121059b7",
   "metadata": {
    "hidden": true,
    "papermill": {
     "duration": 0.124711,
     "end_time": "2023-07-04T11:27:16.008361",
     "exception": false,
     "start_time": "2023-07-04T11:27:15.883650",
     "status": "completed"
    },
    "tags": []
   },
   "source": [
    "We can now check there's no missing values left:"
   ]
  },
  {
   "cell_type": "code",
   "execution_count": 8,
   "id": "e1e409df",
   "metadata": {
    "execution": {
     "iopub.execute_input": "2023-07-04T11:27:16.262352Z",
     "iopub.status.busy": "2023-07-04T11:27:16.262046Z",
     "iopub.status.idle": "2023-07-04T11:27:16.271161Z",
     "shell.execute_reply": "2023-07-04T11:27:16.270225Z"
    },
    "hidden": true,
    "papermill": {
     "duration": 0.138891,
     "end_time": "2023-07-04T11:27:16.272789",
     "exception": false,
     "start_time": "2023-07-04T11:27:16.133898",
     "status": "completed"
    },
    "tags": []
   },
   "outputs": [
    {
     "data": {
      "text/plain": [
       "PassengerId    0\n",
       "Survived       0\n",
       "Pclass         0\n",
       "Name           0\n",
       "Sex            0\n",
       "Age            0\n",
       "SibSp          0\n",
       "Parch          0\n",
       "Ticket         0\n",
       "Fare           0\n",
       "Cabin          0\n",
       "Embarked       0\n",
       "dtype: int64"
      ]
     },
     "execution_count": 8,
     "metadata": {},
     "output_type": "execute_result"
    }
   ],
   "source": [
    "df.isna().sum()"
   ]
  },
  {
   "cell_type": "markdown",
   "id": "f9d0f301",
   "metadata": {
    "hidden": true,
    "papermill": {
     "duration": 0.125746,
     "end_time": "2023-07-04T11:27:16.523480",
     "exception": false,
     "start_time": "2023-07-04T11:27:16.397734",
     "status": "completed"
    },
    "tags": []
   },
   "source": [
    "Here's how we get a quick summary of all the numeric columns in the dataset:"
   ]
  },
  {
   "cell_type": "code",
   "execution_count": 9,
   "id": "8c13644d",
   "metadata": {
    "execution": {
     "iopub.execute_input": "2023-07-04T11:27:16.773659Z",
     "iopub.status.busy": "2023-07-04T11:27:16.773354Z",
     "iopub.status.idle": "2023-07-04T11:27:16.801275Z",
     "shell.execute_reply": "2023-07-04T11:27:16.800808Z"
    },
    "hidden": true,
    "papermill": {
     "duration": 0.15563,
     "end_time": "2023-07-04T11:27:16.802744",
     "exception": false,
     "start_time": "2023-07-04T11:27:16.647114",
     "status": "completed"
    },
    "tags": []
   },
   "outputs": [
    {
     "data": {
      "text/html": [
       "<div>\n",
       "<style scoped>\n",
       "    .dataframe tbody tr th:only-of-type {\n",
       "        vertical-align: middle;\n",
       "    }\n",
       "\n",
       "    .dataframe tbody tr th {\n",
       "        vertical-align: top;\n",
       "    }\n",
       "\n",
       "    .dataframe thead th {\n",
       "        text-align: right;\n",
       "    }\n",
       "</style>\n",
       "<table border=\"1\" class=\"dataframe\">\n",
       "  <thead>\n",
       "    <tr style=\"text-align: right;\">\n",
       "      <th></th>\n",
       "      <th>PassengerId</th>\n",
       "      <th>Survived</th>\n",
       "      <th>Pclass</th>\n",
       "      <th>Age</th>\n",
       "      <th>SibSp</th>\n",
       "      <th>Parch</th>\n",
       "      <th>Fare</th>\n",
       "    </tr>\n",
       "  </thead>\n",
       "  <tbody>\n",
       "    <tr>\n",
       "      <th>count</th>\n",
       "      <td>891.000000</td>\n",
       "      <td>891.000000</td>\n",
       "      <td>891.000000</td>\n",
       "      <td>891.000000</td>\n",
       "      <td>891.000000</td>\n",
       "      <td>891.000000</td>\n",
       "      <td>891.000000</td>\n",
       "    </tr>\n",
       "    <tr>\n",
       "      <th>mean</th>\n",
       "      <td>446.000000</td>\n",
       "      <td>0.383838</td>\n",
       "      <td>2.308642</td>\n",
       "      <td>28.566970</td>\n",
       "      <td>0.523008</td>\n",
       "      <td>0.381594</td>\n",
       "      <td>32.204208</td>\n",
       "    </tr>\n",
       "    <tr>\n",
       "      <th>std</th>\n",
       "      <td>257.353842</td>\n",
       "      <td>0.486592</td>\n",
       "      <td>0.836071</td>\n",
       "      <td>13.199572</td>\n",
       "      <td>1.102743</td>\n",
       "      <td>0.806057</td>\n",
       "      <td>49.693429</td>\n",
       "    </tr>\n",
       "    <tr>\n",
       "      <th>min</th>\n",
       "      <td>1.000000</td>\n",
       "      <td>0.000000</td>\n",
       "      <td>1.000000</td>\n",
       "      <td>0.420000</td>\n",
       "      <td>0.000000</td>\n",
       "      <td>0.000000</td>\n",
       "      <td>0.000000</td>\n",
       "    </tr>\n",
       "    <tr>\n",
       "      <th>25%</th>\n",
       "      <td>223.500000</td>\n",
       "      <td>0.000000</td>\n",
       "      <td>2.000000</td>\n",
       "      <td>22.000000</td>\n",
       "      <td>0.000000</td>\n",
       "      <td>0.000000</td>\n",
       "      <td>7.910400</td>\n",
       "    </tr>\n",
       "    <tr>\n",
       "      <th>50%</th>\n",
       "      <td>446.000000</td>\n",
       "      <td>0.000000</td>\n",
       "      <td>3.000000</td>\n",
       "      <td>24.000000</td>\n",
       "      <td>0.000000</td>\n",
       "      <td>0.000000</td>\n",
       "      <td>14.454200</td>\n",
       "    </tr>\n",
       "    <tr>\n",
       "      <th>75%</th>\n",
       "      <td>668.500000</td>\n",
       "      <td>1.000000</td>\n",
       "      <td>3.000000</td>\n",
       "      <td>35.000000</td>\n",
       "      <td>1.000000</td>\n",
       "      <td>0.000000</td>\n",
       "      <td>31.000000</td>\n",
       "    </tr>\n",
       "    <tr>\n",
       "      <th>max</th>\n",
       "      <td>891.000000</td>\n",
       "      <td>1.000000</td>\n",
       "      <td>3.000000</td>\n",
       "      <td>80.000000</td>\n",
       "      <td>8.000000</td>\n",
       "      <td>6.000000</td>\n",
       "      <td>512.329200</td>\n",
       "    </tr>\n",
       "  </tbody>\n",
       "</table>\n",
       "</div>"
      ],
      "text/plain": [
       "       PassengerId    Survived      Pclass         Age       SibSp       Parch        Fare\n",
       "count   891.000000  891.000000  891.000000  891.000000  891.000000  891.000000  891.000000\n",
       "mean    446.000000    0.383838    2.308642   28.566970    0.523008    0.381594   32.204208\n",
       "std     257.353842    0.486592    0.836071   13.199572    1.102743    0.806057   49.693429\n",
       "min       1.000000    0.000000    1.000000    0.420000    0.000000    0.000000    0.000000\n",
       "25%     223.500000    0.000000    2.000000   22.000000    0.000000    0.000000    7.910400\n",
       "50%     446.000000    0.000000    3.000000   24.000000    0.000000    0.000000   14.454200\n",
       "75%     668.500000    1.000000    3.000000   35.000000    1.000000    0.000000   31.000000\n",
       "max     891.000000    1.000000    3.000000   80.000000    8.000000    6.000000  512.329200"
      ]
     },
     "execution_count": 9,
     "metadata": {},
     "output_type": "execute_result"
    }
   ],
   "source": [
    "import numpy as np\n",
    "\n",
    "df.describe(include=(np.number))"
   ]
  },
  {
   "cell_type": "code",
   "execution_count": 10,
   "id": "3768b167",
   "metadata": {
    "execution": {
     "iopub.execute_input": "2023-07-04T11:27:17.056972Z",
     "iopub.status.busy": "2023-07-04T11:27:17.056456Z",
     "iopub.status.idle": "2023-07-04T11:27:17.078510Z",
     "shell.execute_reply": "2023-07-04T11:27:17.077220Z"
    },
    "papermill": {
     "duration": 0.153185,
     "end_time": "2023-07-04T11:27:17.080560",
     "exception": false,
     "start_time": "2023-07-04T11:27:16.927375",
     "status": "completed"
    },
    "tags": []
   },
   "outputs": [
    {
     "data": {
      "text/html": [
       "<div>\n",
       "<style scoped>\n",
       "    .dataframe tbody tr th:only-of-type {\n",
       "        vertical-align: middle;\n",
       "    }\n",
       "\n",
       "    .dataframe tbody tr th {\n",
       "        vertical-align: top;\n",
       "    }\n",
       "\n",
       "    .dataframe thead th {\n",
       "        text-align: right;\n",
       "    }\n",
       "</style>\n",
       "<table border=\"1\" class=\"dataframe\">\n",
       "  <thead>\n",
       "    <tr style=\"text-align: right;\">\n",
       "      <th></th>\n",
       "      <th>Name</th>\n",
       "      <th>Sex</th>\n",
       "      <th>Ticket</th>\n",
       "      <th>Cabin</th>\n",
       "      <th>Embarked</th>\n",
       "    </tr>\n",
       "  </thead>\n",
       "  <tbody>\n",
       "    <tr>\n",
       "      <th>count</th>\n",
       "      <td>891</td>\n",
       "      <td>891</td>\n",
       "      <td>891</td>\n",
       "      <td>891</td>\n",
       "      <td>891</td>\n",
       "    </tr>\n",
       "    <tr>\n",
       "      <th>unique</th>\n",
       "      <td>891</td>\n",
       "      <td>2</td>\n",
       "      <td>681</td>\n",
       "      <td>147</td>\n",
       "      <td>3</td>\n",
       "    </tr>\n",
       "    <tr>\n",
       "      <th>top</th>\n",
       "      <td>Braund, Mr. Owen Harris</td>\n",
       "      <td>male</td>\n",
       "      <td>347082</td>\n",
       "      <td>B96 B98</td>\n",
       "      <td>S</td>\n",
       "    </tr>\n",
       "    <tr>\n",
       "      <th>freq</th>\n",
       "      <td>1</td>\n",
       "      <td>577</td>\n",
       "      <td>7</td>\n",
       "      <td>691</td>\n",
       "      <td>646</td>\n",
       "    </tr>\n",
       "  </tbody>\n",
       "</table>\n",
       "</div>"
      ],
      "text/plain": [
       "                           Name   Sex  Ticket    Cabin Embarked\n",
       "count                       891   891     891      891      891\n",
       "unique                      891     2     681      147        3\n",
       "top     Braund, Mr. Owen Harris  male  347082  B96 B98        S\n",
       "freq                          1   577       7      691      646"
      ]
     },
     "execution_count": 10,
     "metadata": {},
     "output_type": "execute_result"
    }
   ],
   "source": [
    "df.describe(include=object)"
   ]
  },
  {
   "cell_type": "markdown",
   "id": "a45b3772",
   "metadata": {
    "execution": {
     "iopub.execute_input": "2022-05-13T11:02:34.328433Z",
     "iopub.status.busy": "2022-05-13T11:02:34.327999Z",
     "iopub.status.idle": "2022-05-13T11:02:34.336993Z",
     "shell.execute_reply": "2022-05-13T11:02:34.335466Z",
     "shell.execute_reply.started": "2022-05-13T11:02:34.32838Z"
    },
    "hidden": true,
    "papermill": {
     "duration": 0.126943,
     "end_time": "2023-07-04T11:27:17.335080",
     "exception": false,
     "start_time": "2023-07-04T11:27:17.208137",
     "status": "completed"
    },
    "tags": []
   },
   "source": [
    "We can see that `Fare` contains mainly values of around `0` to `30`, but there's a few really big ones. This is very common with fields contain monetary values, and it can cause problems for our model, because once that column is multiplied by a coefficient later, the few rows with really big values will dominate the result.\n",
    "\n",
    "You can see the issue most clearly visually by looking at a histogram, which shows a long tail to the right (and don't forget: if you're not entirely sure what a histogram is, Google \"[histogram tutorial](https://www.google.com/search?q=histogram+tutorial&oq=histogram+tutorial)\" and do a bit of reading before continuing on):"
   ]
  },
  {
   "cell_type": "code",
   "execution_count": 11,
   "id": "53ad2496",
   "metadata": {
    "execution": {
     "iopub.execute_input": "2023-07-04T11:27:17.589390Z",
     "iopub.status.busy": "2023-07-04T11:27:17.589045Z",
     "iopub.status.idle": "2023-07-04T11:27:17.594351Z",
     "shell.execute_reply": "2023-07-04T11:27:17.593917Z"
    },
    "papermill": {
     "duration": 0.134375,
     "end_time": "2023-07-04T11:27:17.595829",
     "exception": false,
     "start_time": "2023-07-04T11:27:17.461454",
     "status": "completed"
    },
    "tags": []
   },
   "outputs": [
    {
     "data": {
      "text/plain": [
       "0       7.2500\n",
       "1      71.2833\n",
       "2       7.9250\n",
       "3      53.1000\n",
       "4       8.0500\n",
       "        ...   \n",
       "886    13.0000\n",
       "887    30.0000\n",
       "888    23.4500\n",
       "889    30.0000\n",
       "890     7.7500\n",
       "Name: Fare, Length: 891, dtype: float64"
      ]
     },
     "execution_count": 11,
     "metadata": {},
     "output_type": "execute_result"
    }
   ],
   "source": [
    "df['Fare']"
   ]
  },
  {
   "cell_type": "code",
   "execution_count": 12,
   "id": "3e10d9ce",
   "metadata": {
    "execution": {
     "iopub.execute_input": "2023-07-04T11:27:17.849830Z",
     "iopub.status.busy": "2023-07-04T11:27:17.849353Z",
     "iopub.status.idle": "2023-07-04T11:27:18.067585Z",
     "shell.execute_reply": "2023-07-04T11:27:18.066823Z"
    },
    "hidden": true,
    "papermill": {
     "duration": 0.34705,
     "end_time": "2023-07-04T11:27:18.069469",
     "exception": false,
     "start_time": "2023-07-04T11:27:17.722419",
     "status": "completed"
    },
    "tags": []
   },
   "outputs": [
    {
     "data": {
      "image/png": "[encoded data removed]",
      "text/plain": [
       "<Figure size 432x288 with 1 Axes>"
      ]
     },
     "metadata": {
      "needs_background": "light"
     },
     "output_type": "display_data"
    }
   ],
   "source": [
    "df['Fare'].hist();"
   ]
  },
  {
   "cell_type": "markdown",
   "id": "384869f3",
   "metadata": {
    "execution": {
     "iopub.execute_input": "2022-05-13T11:02:34.328433Z",
     "iopub.status.busy": "2022-05-13T11:02:34.327999Z",
     "iopub.status.idle": "2022-05-13T11:02:34.336993Z",
     "shell.execute_reply": "2022-05-13T11:02:34.335466Z",
     "shell.execute_reply.started": "2022-05-13T11:02:34.32838Z"
    },
    "hidden": true,
    "papermill": {
     "duration": 0.129038,
     "end_time": "2023-07-04T11:27:18.326839",
     "exception": false,
     "start_time": "2023-07-04T11:27:18.197801",
     "status": "completed"
    },
    "tags": []
   },
   "source": [
    "To fix this, the most common approach is to take the logarithm, which squishes the big numbers and makes the distribution more reasonable. Note, however, that there are zeros in the `Fare` column, and `log(0)` is infinite -- to fix this, we'll simply add `1` to all values first:"
   ]
  },
  {
   "cell_type": "code",
   "execution_count": 13,
   "id": "b3c5d237",
   "metadata": {
    "execution": {
     "iopub.execute_input": "2023-07-04T11:27:18.589143Z",
     "iopub.status.busy": "2023-07-04T11:27:18.588867Z",
     "iopub.status.idle": "2023-07-04T11:27:18.593478Z",
     "shell.execute_reply": "2023-07-04T11:27:18.592802Z"
    },
    "hidden": true,
    "papermill": {
     "duration": 0.137099,
     "end_time": "2023-07-04T11:27:18.595550",
     "exception": false,
     "start_time": "2023-07-04T11:27:18.458451",
     "status": "completed"
    },
    "tags": []
   },
   "outputs": [],
   "source": [
    "df['LogFare'] = np.log(df['Fare']+1)"
   ]
  },
  {
   "cell_type": "code",
   "execution_count": 14,
   "id": "4a5b75ae",
   "metadata": {
    "execution": {
     "iopub.execute_input": "2023-07-04T11:27:18.850072Z",
     "iopub.status.busy": "2023-07-04T11:27:18.849662Z",
     "iopub.status.idle": "2023-07-04T11:27:19.020631Z",
     "shell.execute_reply": "2023-07-04T11:27:19.019908Z"
    },
    "papermill": {
     "duration": 0.299462,
     "end_time": "2023-07-04T11:27:19.022355",
     "exception": false,
     "start_time": "2023-07-04T11:27:18.722893",
     "status": "completed"
    },
    "tags": []
   },
   "outputs": [
    {
     "data": {
      "image/png": "[encoded data removed]",
      "text/plain": [
       "<Figure size 432x288 with 1 Axes>"
      ]
     },
     "metadata": {
      "needs_background": "light"
     },
     "output_type": "display_data"
    }
   ],
   "source": [
    "df['LogFare'].hist();"
   ]
  },
  {
   "cell_type": "markdown",
   "id": "ba8dfbdf",
   "metadata": {
    "hidden": true,
    "papermill": {
     "duration": 0.126853,
     "end_time": "2023-07-04T11:27:19.293603",
     "exception": false,
     "start_time": "2023-07-04T11:27:19.166750",
     "status": "completed"
    },
    "tags": []
   },
   "source": [
    "The histogram now shows a more even distribution of values without the long tail:"
   ]
  },
  {
   "cell_type": "code",
   "execution_count": 15,
   "id": "05d9ba28",
   "metadata": {
    "execution": {
     "iopub.execute_input": "2023-07-04T11:27:19.551852Z",
     "iopub.status.busy": "2023-07-04T11:27:19.551219Z",
     "iopub.status.idle": "2023-07-04T11:27:19.714193Z",
     "shell.execute_reply": "2023-07-04T11:27:19.713069Z"
    },
    "hidden": true,
    "papermill": {
     "duration": 0.294154,
     "end_time": "2023-07-04T11:27:19.716588",
     "exception": false,
     "start_time": "2023-07-04T11:27:19.422434",
     "status": "completed"
    },
    "tags": []
   },
   "outputs": [
    {
     "data": {
      "image/png": "[encoded data removed]",
      "text/plain": [
       "<Figure size 432x288 with 1 Axes>"
      ]
     },
     "metadata": {
      "needs_background": "light"
     },
     "output_type": "display_data"
    }
   ],
   "source": [
    "df['LogFare'].hist();"
   ]
  },
  {
   "cell_type": "markdown",
   "id": "e8caac90",
   "metadata": {
    "hidden": true,
    "papermill": {
     "duration": 0.128266,
     "end_time": "2023-07-04T11:27:19.972079",
     "exception": false,
     "start_time": "2023-07-04T11:27:19.843813",
     "status": "completed"
    },
    "tags": []
   },
   "source": [
    "It looks from the `describe()` output like `Pclass` contains just 3 values, which we can confirm by looking at the [Data Dictionary](https://www.kaggle.com/competitions/titanic/data) (which you should always study carefully for any project!) -- "
   ]
  },
  {
   "cell_type": "code",
   "execution_count": 16,
   "id": "9b14f53c",
   "metadata": {
    "execution": {
     "iopub.execute_input": "2023-07-04T11:27:20.232998Z",
     "iopub.status.busy": "2023-07-04T11:27:20.232512Z",
     "iopub.status.idle": "2023-07-04T11:27:20.237840Z",
     "shell.execute_reply": "2023-07-04T11:27:20.237077Z"
    },
    "hidden": true,
    "papermill": {
     "duration": 0.13499,
     "end_time": "2023-07-04T11:27:20.239566",
     "exception": false,
     "start_time": "2023-07-04T11:27:20.104576",
     "status": "completed"
    },
    "tags": []
   },
   "outputs": [
    {
     "data": {
      "text/plain": [
       "[1, 2, 3]"
      ]
     },
     "execution_count": 16,
     "metadata": {},
     "output_type": "execute_result"
    }
   ],
   "source": [
    "pclasses = sorted(df.Pclass.unique())\n",
    "pclasses"
   ]
  },
  {
   "cell_type": "markdown",
   "id": "402b835c",
   "metadata": {
    "hidden": true,
    "papermill": {
     "duration": 0.129242,
     "end_time": "2023-07-04T11:27:20.496301",
     "exception": false,
     "start_time": "2023-07-04T11:27:20.367059",
     "status": "completed"
    },
    "tags": []
   },
   "source": [
    "Here's how we get a quick summary of all the non-numeric columns in the dataset:"
   ]
  },
  {
   "cell_type": "code",
   "execution_count": 17,
   "id": "1fc51742",
   "metadata": {
    "execution": {
     "iopub.execute_input": "2023-07-04T11:27:20.756177Z",
     "iopub.status.busy": "2023-07-04T11:27:20.755873Z",
     "iopub.status.idle": "2023-07-04T11:27:20.775503Z",
     "shell.execute_reply": "2023-07-04T11:27:20.774782Z"
    },
    "hidden": true,
    "papermill": {
     "duration": 0.151431,
     "end_time": "2023-07-04T11:27:20.777685",
     "exception": false,
     "start_time": "2023-07-04T11:27:20.626254",
     "status": "completed"
    },
    "tags": []
   },
   "outputs": [
    {
     "data": {
      "text/html": [
       "<div>\n",
       "<style scoped>\n",
       "    .dataframe tbody tr th:only-of-type {\n",
       "        vertical-align: middle;\n",
       "    }\n",
       "\n",
       "    .dataframe tbody tr th {\n",
       "        vertical-align: top;\n",
       "    }\n",
       "\n",
       "    .dataframe thead th {\n",
       "        text-align: right;\n",
       "    }\n",
       "</style>\n",
       "<table border=\"1\" class=\"dataframe\">\n",
       "  <thead>\n",
       "    <tr style=\"text-align: right;\">\n",
       "      <th></th>\n",
       "      <th>Name</th>\n",
       "      <th>Sex</th>\n",
       "      <th>Ticket</th>\n",
       "      <th>Cabin</th>\n",
       "      <th>Embarked</th>\n",
       "    </tr>\n",
       "  </thead>\n",
       "  <tbody>\n",
       "    <tr>\n",
       "      <th>count</th>\n",
       "      <td>891</td>\n",
       "      <td>891</td>\n",
       "      <td>891</td>\n",
       "      <td>891</td>\n",
       "      <td>891</td>\n",
       "    </tr>\n",
       "    <tr>\n",
       "      <th>unique</th>\n",
       "      <td>891</td>\n",
       "      <td>2</td>\n",
       "      <td>681</td>\n",
       "      <td>147</td>\n",
       "      <td>3</td>\n",
       "    </tr>\n",
       "    <tr>\n",
       "      <th>top</th>\n",
       "      <td>Braund, Mr. Owen Harris</td>\n",
       "      <td>male</td>\n",
       "      <td>347082</td>\n",
       "      <td>B96 B98</td>\n",
       "      <td>S</td>\n",
       "    </tr>\n",
       "    <tr>\n",
       "      <th>freq</th>\n",
       "      <td>1</td>\n",
       "      <td>577</td>\n",
       "      <td>7</td>\n",
       "      <td>691</td>\n",
       "      <td>646</td>\n",
       "    </tr>\n",
       "  </tbody>\n",
       "</table>\n",
       "</div>"
      ],
      "text/plain": [
       "                           Name   Sex  Ticket    Cabin Embarked\n",
       "count                       891   891     891      891      891\n",
       "unique                      891     2     681      147        3\n",
       "top     Braund, Mr. Owen Harris  male  347082  B96 B98        S\n",
       "freq                          1   577       7      691      646"
      ]
     },
     "execution_count": 17,
     "metadata": {},
     "output_type": "execute_result"
    }
   ],
   "source": [
    "df.describe(include=[object])"
   ]
  },
  {
   "cell_type": "markdown",
   "id": "3638dd6c",
   "metadata": {
    "hidden": true,
    "papermill": {
     "duration": 0.133651,
     "end_time": "2023-07-04T11:27:21.041896",
     "exception": false,
     "start_time": "2023-07-04T11:27:20.908245",
     "status": "completed"
    },
    "tags": []
   },
   "source": [
    "Clearly we can't multiply strings like `male` or `S` by coefficients, so we need to replace those with numbers.\n",
    "\n",
    "We do that by creating new columns containing *dummy variables*. A dummy variable is a column that contains a `1` where a particular column contains a particular value, or a `0` otherwise. For instance, we could create a dummy variable for `Sex='male'`, which would be a new column containing `1` for rows where `Sex` is `'male'`, and 0 for rows where it isn't.\n",
    "\n",
    "Pandas can create these automatically using `get_dummies`, which also remove the original columns. We'll create dummy variables for `Pclass`, even although it's numeric, since the numbers `1`, `2`, and `3` correspond to first, second, and third class cabins - not to counts or measures that make sense to multiply by. We'll also create dummies for `Sex` and `Embarked` since we'll want to use those as predictors in our model. On the other hand, `Cabin`, `Name`, and `Ticket` have too many unique values for it to make sense creating dummy variables for them."
   ]
  },
  {
   "cell_type": "code",
   "execution_count": 18,
   "id": "1210f787",
   "metadata": {
    "execution": {
     "iopub.execute_input": "2023-07-04T11:27:21.310148Z",
     "iopub.status.busy": "2023-07-04T11:27:21.309871Z",
     "iopub.status.idle": "2023-07-04T11:27:21.324019Z",
     "shell.execute_reply": "2023-07-04T11:27:21.323104Z"
    },
    "hidden": true,
    "papermill": {
     "duration": 0.149302,
     "end_time": "2023-07-04T11:27:21.325963",
     "exception": false,
     "start_time": "2023-07-04T11:27:21.176661",
     "status": "completed"
    },
    "tags": []
   },
   "outputs": [
    {
     "data": {
      "text/plain": [
       "Index(['PassengerId', 'Survived', 'Name', 'Age', 'SibSp', 'Parch', 'Ticket', 'Fare', 'Cabin', 'LogFare', 'Sex_female', 'Sex_male',\n",
       "       'Pclass_1', 'Pclass_2', 'Pclass_3', 'Embarked_C', 'Embarked_Q', 'Embarked_S'],\n",
       "      dtype='object')"
      ]
     },
     "execution_count": 18,
     "metadata": {},
     "output_type": "execute_result"
    }
   ],
   "source": [
    "df = pd.get_dummies(df, columns=[\"Sex\",\"Pclass\",\"Embarked\"])\n",
    "df.columns"
   ]
  },
  {
   "cell_type": "code",
   "execution_count": 19,
   "id": "c5014622",
   "metadata": {
    "execution": {
     "iopub.execute_input": "2023-07-04T11:27:21.587984Z",
     "iopub.status.busy": "2023-07-04T11:27:21.587656Z",
     "iopub.status.idle": "2023-07-04T11:27:21.605413Z",
     "shell.execute_reply": "2023-07-04T11:27:21.604178Z"
    },
    "papermill": {
     "duration": 0.151005,
     "end_time": "2023-07-04T11:27:21.607629",
     "exception": false,
     "start_time": "2023-07-04T11:27:21.456624",
     "status": "completed"
    },
    "tags": []
   },
   "outputs": [
    {
     "data": {
      "text/html": [
       "<div>\n",
       "<style scoped>\n",
       "    .dataframe tbody tr th:only-of-type {\n",
       "        vertical-align: middle;\n",
       "    }\n",
       "\n",
       "    .dataframe tbody tr th {\n",
       "        vertical-align: top;\n",
       "    }\n",
       "\n",
       "    .dataframe thead th {\n",
       "        text-align: right;\n",
       "    }\n",
       "</style>\n",
       "<table border=\"1\" class=\"dataframe\">\n",
       "  <thead>\n",
       "    <tr style=\"text-align: right;\">\n",
       "      <th></th>\n",
       "      <th>PassengerId</th>\n",
       "      <th>Survived</th>\n",
       "      <th>Name</th>\n",
       "      <th>Age</th>\n",
       "      <th>SibSp</th>\n",
       "      <th>Parch</th>\n",
       "      <th>Ticket</th>\n",
       "      <th>Fare</th>\n",
       "      <th>Cabin</th>\n",
       "      <th>LogFare</th>\n",
       "      <th>Sex_female</th>\n",
       "      <th>Sex_male</th>\n",
       "      <th>Pclass_1</th>\n",
       "      <th>Pclass_2</th>\n",
       "      <th>Pclass_3</th>\n",
       "      <th>Embarked_C</th>\n",
       "      <th>Embarked_Q</th>\n",
       "      <th>Embarked_S</th>\n",
       "    </tr>\n",
       "  </thead>\n",
       "  <tbody>\n",
       "    <tr>\n",
       "      <th>0</th>\n",
       "      <td>1</td>\n",
       "      <td>0</td>\n",
       "      <td>Braund, Mr. Owen Harris</td>\n",
       "      <td>22.0</td>\n",
       "      <td>1</td>\n",
       "      <td>0</td>\n",
       "      <td>A/5 21171</td>\n",
       "      <td>7.2500</td>\n",
       "      <td>B96 B98</td>\n",
       "      <td>2.110213</td>\n",
       "      <td>0</td>\n",
       "      <td>1</td>\n",
       "      <td>0</td>\n",
       "      <td>0</td>\n",
       "      <td>1</td>\n",
       "      <td>0</td>\n",
       "      <td>0</td>\n",
       "      <td>1</td>\n",
       "    </tr>\n",
       "    <tr>\n",
       "      <th>1</th>\n",
       "      <td>2</td>\n",
       "      <td>1</td>\n",
       "      <td>Cumings, Mrs. John Bradley (Florence Briggs Th...</td>\n",
       "      <td>38.0</td>\n",
       "      <td>1</td>\n",
       "      <td>0</td>\n",
       "      <td>PC 17599</td>\n",
       "      <td>71.2833</td>\n",
       "      <td>C85</td>\n",
       "      <td>4.280593</td>\n",
       "      <td>1</td>\n",
       "      <td>0</td>\n",
       "      <td>1</td>\n",
       "      <td>0</td>\n",
       "      <td>0</td>\n",
       "      <td>1</td>\n",
       "      <td>0</td>\n",
       "      <td>0</td>\n",
       "    </tr>\n",
       "    <tr>\n",
       "      <th>2</th>\n",
       "      <td>3</td>\n",
       "      <td>1</td>\n",
       "      <td>Heikkinen, Miss. Laina</td>\n",
       "      <td>26.0</td>\n",
       "      <td>0</td>\n",
       "      <td>0</td>\n",
       "      <td>STON/O2. 3101282</td>\n",
       "      <td>7.9250</td>\n",
       "      <td>B96 B98</td>\n",
       "      <td>2.188856</td>\n",
       "      <td>1</td>\n",
       "      <td>0</td>\n",
       "      <td>0</td>\n",
       "      <td>0</td>\n",
       "      <td>1</td>\n",
       "      <td>0</td>\n",
       "      <td>0</td>\n",
       "      <td>1</td>\n",
       "    </tr>\n",
       "    <tr>\n",
       "      <th>3</th>\n",
       "      <td>4</td>\n",
       "      <td>1</td>\n",
       "      <td>Futrelle, Mrs. Jacques Heath (Lily May Peel)</td>\n",
       "      <td>35.0</td>\n",
       "      <td>1</td>\n",
       "      <td>0</td>\n",
       "      <td>113803</td>\n",
       "      <td>53.1000</td>\n",
       "      <td>C123</td>\n",
       "      <td>3.990834</td>\n",
       "      <td>1</td>\n",
       "      <td>0</td>\n",
       "      <td>1</td>\n",
       "      <td>0</td>\n",
       "      <td>0</td>\n",
       "      <td>0</td>\n",
       "      <td>0</td>\n",
       "      <td>1</td>\n",
       "    </tr>\n",
       "    <tr>\n",
       "      <th>4</th>\n",
       "      <td>5</td>\n",
       "      <td>0</td>\n",
       "      <td>Allen, Mr. William Henry</td>\n",
       "      <td>35.0</td>\n",
       "      <td>0</td>\n",
       "      <td>0</td>\n",
       "      <td>373450</td>\n",
       "      <td>8.0500</td>\n",
       "      <td>B96 B98</td>\n",
       "      <td>2.202765</td>\n",
       "      <td>0</td>\n",
       "      <td>1</td>\n",
       "      <td>0</td>\n",
       "      <td>0</td>\n",
       "      <td>1</td>\n",
       "      <td>0</td>\n",
       "      <td>0</td>\n",
       "      <td>1</td>\n",
       "    </tr>\n",
       "  </tbody>\n",
       "</table>\n",
       "</div>"
      ],
      "text/plain": [
       "   PassengerId  Survived                                               Name   Age  SibSp  Parch            Ticket     Fare    Cabin  \\\n",
       "0            1         0                            Braund, Mr. Owen Harris  22.0      1      0         A/5 21171   7.2500  B96 B98   \n",
       "1            2         1  Cumings, Mrs. John Bradley (Florence Briggs Th...  38.0      1      0          PC 17599  71.2833      C85   \n",
       "2            3         1                             Heikkinen, Miss. Laina  26.0      0      0  STON/O2. 3101282   7.9250  B96 B98   \n",
       "3            4         1       Futrelle, Mrs. Jacques Heath (Lily May Peel)  35.0      1      0            113803  53.1000     C123   \n",
       "4            5         0                           Allen, Mr. William Henry  35.0      0      0            373450   8.0500  B96 B98   \n",
       "\n",
       "    LogFare  Sex_female  Sex_male  Pclass_1  Pclass_2  Pclass_3  Embarked_C  Embarked_Q  Embarked_S  \n",
       "0  2.110213           0         1         0         0         1           0           0           1  \n",
       "1  4.280593           1         0         1         0         0           1           0           0  \n",
       "2  2.188856           1         0         0         0         1           0           0           1  \n",
       "3  3.990834           1         0         1         0         0           0           0           1  \n",
       "4  2.202765           0         1         0         0         1           0           0           1  "
      ]
     },
     "execution_count": 19,
     "metadata": {},
     "output_type": "execute_result"
    }
   ],
   "source": [
    "df.head()"
   ]
  },
  {
   "cell_type": "markdown",
   "id": "3a635a96",
   "metadata": {
    "hidden": true,
    "papermill": {
     "duration": 0.129948,
     "end_time": "2023-07-04T11:27:21.867732",
     "exception": false,
     "start_time": "2023-07-04T11:27:21.737784",
     "status": "completed"
    },
    "tags": []
   },
   "source": [
    "We can see that 5 columns have been added to the end -- one for each of the possible values of each of the three columns we requested, and that those three requested columns have been removed.\n",
    "\n",
    "Here's what the first few rows of those newly added columns look like:"
   ]
  },
  {
   "cell_type": "code",
   "execution_count": 20,
   "id": "300a697c",
   "metadata": {
    "execution": {
     "iopub.execute_input": "2023-07-04T11:27:22.129195Z",
     "iopub.status.busy": "2023-07-04T11:27:22.128953Z",
     "iopub.status.idle": "2023-07-04T11:27:22.140316Z",
     "shell.execute_reply": "2023-07-04T11:27:22.139411Z"
    },
    "hidden": true,
    "papermill": {
     "duration": 0.144027,
     "end_time": "2023-07-04T11:27:22.142454",
     "exception": false,
     "start_time": "2023-07-04T11:27:21.998427",
     "status": "completed"
    },
    "tags": []
   },
   "outputs": [
    {
     "data": {
      "text/html": [
       "<div>\n",
       "<style scoped>\n",
       "    .dataframe tbody tr th:only-of-type {\n",
       "        vertical-align: middle;\n",
       "    }\n",
       "\n",
       "    .dataframe tbody tr th {\n",
       "        vertical-align: top;\n",
       "    }\n",
       "\n",
       "    .dataframe thead th {\n",
       "        text-align: right;\n",
       "    }\n",
       "</style>\n",
       "<table border=\"1\" class=\"dataframe\">\n",
       "  <thead>\n",
       "    <tr style=\"text-align: right;\">\n",
       "      <th></th>\n",
       "      <th>Sex_male</th>\n",
       "      <th>Sex_female</th>\n",
       "      <th>Pclass_1</th>\n",
       "      <th>Pclass_2</th>\n",
       "      <th>Pclass_3</th>\n",
       "      <th>Embarked_C</th>\n",
       "      <th>Embarked_Q</th>\n",
       "      <th>Embarked_S</th>\n",
       "    </tr>\n",
       "  </thead>\n",
       "  <tbody>\n",
       "    <tr>\n",
       "      <th>0</th>\n",
       "      <td>1</td>\n",
       "      <td>0</td>\n",
       "      <td>0</td>\n",
       "      <td>0</td>\n",
       "      <td>1</td>\n",
       "      <td>0</td>\n",
       "      <td>0</td>\n",
       "      <td>1</td>\n",
       "    </tr>\n",
       "    <tr>\n",
       "      <th>1</th>\n",
       "      <td>0</td>\n",
       "      <td>1</td>\n",
       "      <td>1</td>\n",
       "      <td>0</td>\n",
       "      <td>0</td>\n",
       "      <td>1</td>\n",
       "      <td>0</td>\n",
       "      <td>0</td>\n",
       "    </tr>\n",
       "    <tr>\n",
       "      <th>2</th>\n",
       "      <td>0</td>\n",
       "      <td>1</td>\n",
       "      <td>0</td>\n",
       "      <td>0</td>\n",
       "      <td>1</td>\n",
       "      <td>0</td>\n",
       "      <td>0</td>\n",
       "      <td>1</td>\n",
       "    </tr>\n",
       "    <tr>\n",
       "      <th>3</th>\n",
       "      <td>0</td>\n",
       "      <td>1</td>\n",
       "      <td>1</td>\n",
       "      <td>0</td>\n",
       "      <td>0</td>\n",
       "      <td>0</td>\n",
       "      <td>0</td>\n",
       "      <td>1</td>\n",
       "    </tr>\n",
       "    <tr>\n",
       "      <th>4</th>\n",
       "      <td>1</td>\n",
       "      <td>0</td>\n",
       "      <td>0</td>\n",
       "      <td>0</td>\n",
       "      <td>1</td>\n",
       "      <td>0</td>\n",
       "      <td>0</td>\n",
       "      <td>1</td>\n",
       "    </tr>\n",
       "  </tbody>\n",
       "</table>\n",
       "</div>"
      ],
      "text/plain": [
       "   Sex_male  Sex_female  Pclass_1  Pclass_2  Pclass_3  Embarked_C  Embarked_Q  Embarked_S\n",
       "0         1           0         0         0         1           0           0           1\n",
       "1         0           1         1         0         0           1           0           0\n",
       "2         0           1         0         0         1           0           0           1\n",
       "3         0           1         1         0         0           0           0           1\n",
       "4         1           0         0         0         1           0           0           1"
      ]
     },
     "execution_count": 20,
     "metadata": {},
     "output_type": "execute_result"
    }
   ],
   "source": [
    "added_cols = ['Sex_male', 'Sex_female', 'Pclass_1', 'Pclass_2', 'Pclass_3', 'Embarked_C', 'Embarked_Q', 'Embarked_S']\n",
    "df[added_cols].head()"
   ]
  },
  {
   "cell_type": "markdown",
   "id": "e79e789c",
   "metadata": {
    "hidden": true,
    "papermill": {
     "duration": 0.128132,
     "end_time": "2023-07-04T11:27:22.401209",
     "exception": false,
     "start_time": "2023-07-04T11:27:22.273077",
     "status": "completed"
    },
    "tags": []
   },
   "source": [
    "Now we can create our independent (predictors) and dependent (target) variables. They both need to be PyTorch tensors. Our dependent variable is `Survived`:"
   ]
  },
  {
   "cell_type": "code",
   "execution_count": 21,
   "id": "17a4cca3",
   "metadata": {
    "execution": {
     "iopub.execute_input": "2023-07-04T11:27:22.663844Z",
     "iopub.status.busy": "2023-07-04T11:27:22.663565Z",
     "iopub.status.idle": "2023-07-04T11:27:22.675869Z",
     "shell.execute_reply": "2023-07-04T11:27:22.675247Z"
    },
    "hidden": true,
    "papermill": {
     "duration": 0.147895,
     "end_time": "2023-07-04T11:27:22.678221",
     "exception": false,
     "start_time": "2023-07-04T11:27:22.530326",
     "status": "completed"
    },
    "tags": []
   },
   "outputs": [],
   "source": [
    "from torch import tensor\n",
    "t_dep = tensor(df.Survived)"
   ]
  },
  {
   "cell_type": "code",
   "execution_count": null,
   "id": "7c74bf7d",
   "metadata": {
    "papermill": {
     "duration": 0.128729,
     "end_time": "2023-07-04T11:27:22.936822",
     "exception": false,
     "start_time": "2023-07-04T11:27:22.808093",
     "status": "completed"
    },
    "tags": []
   },
   "outputs": [],
   "source": []
  },
  {
   "cell_type": "code",
   "execution_count": 22,
   "id": "2cc2d6ab",
   "metadata": {
    "execution": {
     "iopub.execute_input": "2023-07-04T11:27:23.202145Z",
     "iopub.status.busy": "2023-07-04T11:27:23.201341Z",
     "iopub.status.idle": "2023-07-04T11:27:23.208119Z",
     "shell.execute_reply": "2023-07-04T11:27:23.207009Z"
    },
    "papermill": {
     "duration": 0.140672,
     "end_time": "2023-07-04T11:27:23.210212",
     "exception": false,
     "start_time": "2023-07-04T11:27:23.069540",
     "status": "completed"
    },
    "tags": []
   },
   "outputs": [
    {
     "data": {
      "text/plain": [
       "0    0\n",
       "1    1\n",
       "2    1\n",
       "3    1\n",
       "4    0\n",
       "Name: Survived, dtype: int64"
      ]
     },
     "execution_count": 22,
     "metadata": {},
     "output_type": "execute_result"
    }
   ],
   "source": [
    "df.Survived.head()"
   ]
  },
  {
   "cell_type": "markdown",
   "id": "1fa170b0",
   "metadata": {
    "hidden": true,
    "papermill": {
     "duration": 0.133533,
     "end_time": "2023-07-04T11:27:23.473501",
     "exception": false,
     "start_time": "2023-07-04T11:27:23.339968",
     "status": "completed"
    },
    "tags": []
   },
   "source": [
    "Our independent variables are all the continuous variables of interest plus all the dummy variables we just created:"
   ]
  },
  {
   "cell_type": "code",
   "execution_count": 23,
   "id": "9f0d42fb",
   "metadata": {
    "execution": {
     "iopub.execute_input": "2023-07-04T11:27:23.741981Z",
     "iopub.status.busy": "2023-07-04T11:27:23.741499Z",
     "iopub.status.idle": "2023-07-04T11:27:23.834479Z",
     "shell.execute_reply": "2023-07-04T11:27:23.833995Z"
    },
    "hidden": true,
    "papermill": {
     "duration": 0.229108,
     "end_time": "2023-07-04T11:27:23.836080",
     "exception": false,
     "start_time": "2023-07-04T11:27:23.606972",
     "status": "completed"
    },
    "tags": []
   },
   "outputs": [
    {
     "data": {
      "text/plain": [
       "tensor([[22.0000,  1.0000,  0.0000,  2.1102,  1.0000,  0.0000,  0.0000,  0.0000,  1.0000,  0.0000,  0.0000,  1.0000],\n",
       "        [38.0000,  1.0000,  0.0000,  4.2806,  0.0000,  1.0000,  1.0000,  0.0000,  0.0000,  1.0000,  0.0000,  0.0000],\n",
       "        [26.0000,  0.0000,  0.0000,  2.1889,  0.0000,  1.0000,  0.0000,  0.0000,  1.0000,  0.0000,  0.0000,  1.0000],\n",
       "        [35.0000,  1.0000,  0.0000,  3.9908,  0.0000,  1.0000,  1.0000,  0.0000,  0.0000,  0.0000,  0.0000,  1.0000],\n",
       "        [35.0000,  0.0000,  0.0000,  2.2028,  1.0000,  0.0000,  0.0000,  0.0000,  1.0000,  0.0000,  0.0000,  1.0000],\n",
       "        [24.0000,  0.0000,  0.0000,  2.2469,  1.0000,  0.0000,  0.0000,  0.0000,  1.0000,  0.0000,  1.0000,  0.0000],\n",
       "        [54.0000,  0.0000,  0.0000,  3.9677,  1.0000,  0.0000,  1.0000,  0.0000,  0.0000,  0.0000,  0.0000,  1.0000],\n",
       "        ...,\n",
       "        [25.0000,  0.0000,  0.0000,  2.0857,  1.0000,  0.0000,  0.0000,  0.0000,  1.0000,  0.0000,  0.0000,  1.0000],\n",
       "        [39.0000,  0.0000,  5.0000,  3.4054,  0.0000,  1.0000,  0.0000,  0.0000,  1.0000,  0.0000,  1.0000,  0.0000],\n",
       "        [27.0000,  0.0000,  0.0000,  2.6391,  1.0000,  0.0000,  0.0000,  1.0000,  0.0000,  0.0000,  0.0000,  1.0000],\n",
       "        [19.0000,  0.0000,  0.0000,  3.4340,  0.0000,  1.0000,  1.0000,  0.0000,  0.0000,  0.0000,  0.0000,  1.0000],\n",
       "        [24.0000,  1.0000,  2.0000,  3.1966,  0.0000,  1.0000,  0.0000,  0.0000,  1.0000,  0.0000,  0.0000,  1.0000],\n",
       "        [26.0000,  0.0000,  0.0000,  3.4340,  1.0000,  0.0000,  1.0000,  0.0000,  0.0000,  1.0000,  0.0000,  0.0000],\n",
       "        [32.0000,  0.0000,  0.0000,  2.1691,  1.0000,  0.0000,  0.0000,  0.0000,  1.0000,  0.0000,  1.0000,  0.0000]])"
      ]
     },
     "execution_count": 23,
     "metadata": {},
     "output_type": "execute_result"
    }
   ],
   "source": [
    "indep_cols = ['Age', 'SibSp', 'Parch', 'LogFare'] + added_cols\n",
    "\n",
    "t_indep = tensor(df[indep_cols].values, dtype=torch.float)\n",
    "t_indep"
   ]
  },
  {
   "cell_type": "code",
   "execution_count": 24,
   "id": "5f602f62",
   "metadata": {
    "execution": {
     "iopub.execute_input": "2023-07-04T11:27:24.103159Z",
     "iopub.status.busy": "2023-07-04T11:27:24.102341Z",
     "iopub.status.idle": "2023-07-04T11:27:24.125792Z",
     "shell.execute_reply": "2023-07-04T11:27:24.125028Z"
    },
    "papermill": {
     "duration": 0.161938,
     "end_time": "2023-07-04T11:27:24.128091",
     "exception": false,
     "start_time": "2023-07-04T11:27:23.966153",
     "status": "completed"
    },
    "tags": []
   },
   "outputs": [
    {
     "data": {
      "text/html": [
       "<div>\n",
       "<style scoped>\n",
       "    .dataframe tbody tr th:only-of-type {\n",
       "        vertical-align: middle;\n",
       "    }\n",
       "\n",
       "    .dataframe tbody tr th {\n",
       "        vertical-align: top;\n",
       "    }\n",
       "\n",
       "    .dataframe thead th {\n",
       "        text-align: right;\n",
       "    }\n",
       "</style>\n",
       "<table border=\"1\" class=\"dataframe\">\n",
       "  <thead>\n",
       "    <tr style=\"text-align: right;\">\n",
       "      <th></th>\n",
       "      <th>PassengerId</th>\n",
       "      <th>Survived</th>\n",
       "      <th>Name</th>\n",
       "      <th>Age</th>\n",
       "      <th>SibSp</th>\n",
       "      <th>Parch</th>\n",
       "      <th>Ticket</th>\n",
       "      <th>Fare</th>\n",
       "      <th>Cabin</th>\n",
       "      <th>LogFare</th>\n",
       "      <th>Sex_female</th>\n",
       "      <th>Sex_male</th>\n",
       "      <th>Pclass_1</th>\n",
       "      <th>Pclass_2</th>\n",
       "      <th>Pclass_3</th>\n",
       "      <th>Embarked_C</th>\n",
       "      <th>Embarked_Q</th>\n",
       "      <th>Embarked_S</th>\n",
       "    </tr>\n",
       "  </thead>\n",
       "  <tbody>\n",
       "    <tr>\n",
       "      <th>0</th>\n",
       "      <td>1</td>\n",
       "      <td>0</td>\n",
       "      <td>Braund, Mr. Owen Harris</td>\n",
       "      <td>22.0</td>\n",
       "      <td>1</td>\n",
       "      <td>0</td>\n",
       "      <td>A/5 21171</td>\n",
       "      <td>7.2500</td>\n",
       "      <td>B96 B98</td>\n",
       "      <td>2.110213</td>\n",
       "      <td>0</td>\n",
       "      <td>1</td>\n",
       "      <td>0</td>\n",
       "      <td>0</td>\n",
       "      <td>1</td>\n",
       "      <td>0</td>\n",
       "      <td>0</td>\n",
       "      <td>1</td>\n",
       "    </tr>\n",
       "    <tr>\n",
       "      <th>1</th>\n",
       "      <td>2</td>\n",
       "      <td>1</td>\n",
       "      <td>Cumings, Mrs. John Bradley (Florence Briggs Th...</td>\n",
       "      <td>38.0</td>\n",
       "      <td>1</td>\n",
       "      <td>0</td>\n",
       "      <td>PC 17599</td>\n",
       "      <td>71.2833</td>\n",
       "      <td>C85</td>\n",
       "      <td>4.280593</td>\n",
       "      <td>1</td>\n",
       "      <td>0</td>\n",
       "      <td>1</td>\n",
       "      <td>0</td>\n",
       "      <td>0</td>\n",
       "      <td>1</td>\n",
       "      <td>0</td>\n",
       "      <td>0</td>\n",
       "    </tr>\n",
       "    <tr>\n",
       "      <th>2</th>\n",
       "      <td>3</td>\n",
       "      <td>1</td>\n",
       "      <td>Heikkinen, Miss. Laina</td>\n",
       "      <td>26.0</td>\n",
       "      <td>0</td>\n",
       "      <td>0</td>\n",
       "      <td>STON/O2. 3101282</td>\n",
       "      <td>7.9250</td>\n",
       "      <td>B96 B98</td>\n",
       "      <td>2.188856</td>\n",
       "      <td>1</td>\n",
       "      <td>0</td>\n",
       "      <td>0</td>\n",
       "      <td>0</td>\n",
       "      <td>1</td>\n",
       "      <td>0</td>\n",
       "      <td>0</td>\n",
       "      <td>1</td>\n",
       "    </tr>\n",
       "    <tr>\n",
       "      <th>3</th>\n",
       "      <td>4</td>\n",
       "      <td>1</td>\n",
       "      <td>Futrelle, Mrs. Jacques Heath (Lily May Peel)</td>\n",
       "      <td>35.0</td>\n",
       "      <td>1</td>\n",
       "      <td>0</td>\n",
       "      <td>113803</td>\n",
       "      <td>53.1000</td>\n",
       "      <td>C123</td>\n",
       "      <td>3.990834</td>\n",
       "      <td>1</td>\n",
       "      <td>0</td>\n",
       "      <td>1</td>\n",
       "      <td>0</td>\n",
       "      <td>0</td>\n",
       "      <td>0</td>\n",
       "      <td>0</td>\n",
       "      <td>1</td>\n",
       "    </tr>\n",
       "    <tr>\n",
       "      <th>4</th>\n",
       "      <td>5</td>\n",
       "      <td>0</td>\n",
       "      <td>Allen, Mr. William Henry</td>\n",
       "      <td>35.0</td>\n",
       "      <td>0</td>\n",
       "      <td>0</td>\n",
       "      <td>373450</td>\n",
       "      <td>8.0500</td>\n",
       "      <td>B96 B98</td>\n",
       "      <td>2.202765</td>\n",
       "      <td>0</td>\n",
       "      <td>1</td>\n",
       "      <td>0</td>\n",
       "      <td>0</td>\n",
       "      <td>1</td>\n",
       "      <td>0</td>\n",
       "      <td>0</td>\n",
       "      <td>1</td>\n",
       "    </tr>\n",
       "    <tr>\n",
       "      <th>...</th>\n",
       "      <td>...</td>\n",
       "      <td>...</td>\n",
       "      <td>...</td>\n",
       "      <td>...</td>\n",
       "      <td>...</td>\n",
       "      <td>...</td>\n",
       "      <td>...</td>\n",
       "      <td>...</td>\n",
       "      <td>...</td>\n",
       "      <td>...</td>\n",
       "      <td>...</td>\n",
       "      <td>...</td>\n",
       "      <td>...</td>\n",
       "      <td>...</td>\n",
       "      <td>...</td>\n",
       "      <td>...</td>\n",
       "      <td>...</td>\n",
       "      <td>...</td>\n",
       "    </tr>\n",
       "    <tr>\n",
       "      <th>886</th>\n",
       "      <td>887</td>\n",
       "      <td>0</td>\n",
       "      <td>Montvila, Rev. Juozas</td>\n",
       "      <td>27.0</td>\n",
       "      <td>0</td>\n",
       "      <td>0</td>\n",
       "      <td>211536</td>\n",
       "      <td>13.0000</td>\n",
       "      <td>B96 B98</td>\n",
       "      <td>2.639057</td>\n",
       "      <td>0</td>\n",
       "      <td>1</td>\n",
       "      <td>0</td>\n",
       "      <td>1</td>\n",
       "      <td>0</td>\n",
       "      <td>0</td>\n",
       "      <td>0</td>\n",
       "      <td>1</td>\n",
       "    </tr>\n",
       "    <tr>\n",
       "      <th>887</th>\n",
       "      <td>888</td>\n",
       "      <td>1</td>\n",
       "      <td>Graham, Miss. Margaret Edith</td>\n",
       "      <td>19.0</td>\n",
       "      <td>0</td>\n",
       "      <td>0</td>\n",
       "      <td>112053</td>\n",
       "      <td>30.0000</td>\n",
       "      <td>B42</td>\n",
       "      <td>3.433987</td>\n",
       "      <td>1</td>\n",
       "      <td>0</td>\n",
       "      <td>1</td>\n",
       "      <td>0</td>\n",
       "      <td>0</td>\n",
       "      <td>0</td>\n",
       "      <td>0</td>\n",
       "      <td>1</td>\n",
       "    </tr>\n",
       "    <tr>\n",
       "      <th>888</th>\n",
       "      <td>889</td>\n",
       "      <td>0</td>\n",
       "      <td>Johnston, Miss. Catherine Helen \"Carrie\"</td>\n",
       "      <td>24.0</td>\n",
       "      <td>1</td>\n",
       "      <td>2</td>\n",
       "      <td>W./C. 6607</td>\n",
       "      <td>23.4500</td>\n",
       "      <td>B96 B98</td>\n",
       "      <td>3.196630</td>\n",
       "      <td>1</td>\n",
       "      <td>0</td>\n",
       "      <td>0</td>\n",
       "      <td>0</td>\n",
       "      <td>1</td>\n",
       "      <td>0</td>\n",
       "      <td>0</td>\n",
       "      <td>1</td>\n",
       "    </tr>\n",
       "    <tr>\n",
       "      <th>889</th>\n",
       "      <td>890</td>\n",
       "      <td>1</td>\n",
       "      <td>Behr, Mr. Karl Howell</td>\n",
       "      <td>26.0</td>\n",
       "      <td>0</td>\n",
       "      <td>0</td>\n",
       "      <td>111369</td>\n",
       "      <td>30.0000</td>\n",
       "      <td>C148</td>\n",
       "      <td>3.433987</td>\n",
       "      <td>0</td>\n",
       "      <td>1</td>\n",
       "      <td>1</td>\n",
       "      <td>0</td>\n",
       "      <td>0</td>\n",
       "      <td>1</td>\n",
       "      <td>0</td>\n",
       "      <td>0</td>\n",
       "    </tr>\n",
       "    <tr>\n",
       "      <th>890</th>\n",
       "      <td>891</td>\n",
       "      <td>0</td>\n",
       "      <td>Dooley, Mr. Patrick</td>\n",
       "      <td>32.0</td>\n",
       "      <td>0</td>\n",
       "      <td>0</td>\n",
       "      <td>370376</td>\n",
       "      <td>7.7500</td>\n",
       "      <td>B96 B98</td>\n",
       "      <td>2.169054</td>\n",
       "      <td>0</td>\n",
       "      <td>1</td>\n",
       "      <td>0</td>\n",
       "      <td>0</td>\n",
       "      <td>1</td>\n",
       "      <td>0</td>\n",
       "      <td>1</td>\n",
       "      <td>0</td>\n",
       "    </tr>\n",
       "  </tbody>\n",
       "</table>\n",
       "<p>891 rows × 18 columns</p>\n",
       "</div>"
      ],
      "text/plain": [
       "     PassengerId  Survived                                               Name   Age  SibSp  Parch            Ticket     Fare    Cabin  \\\n",
       "0              1         0                            Braund, Mr. Owen Harris  22.0      1      0         A/5 21171   7.2500  B96 B98   \n",
       "1              2         1  Cumings, Mrs. John Bradley (Florence Briggs Th...  38.0      1      0          PC 17599  71.2833      C85   \n",
       "2              3         1                             Heikkinen, Miss. Laina  26.0      0      0  STON/O2. 3101282   7.9250  B96 B98   \n",
       "3              4         1       Futrelle, Mrs. Jacques Heath (Lily May Peel)  35.0      1      0            113803  53.1000     C123   \n",
       "4              5         0                           Allen, Mr. William Henry  35.0      0      0            373450   8.0500  B96 B98   \n",
       "..           ...       ...                                                ...   ...    ...    ...               ...      ...      ...   \n",
       "886          887         0                              Montvila, Rev. Juozas  27.0      0      0            211536  13.0000  B96 B98   \n",
       "887          888         1                       Graham, Miss. Margaret Edith  19.0      0      0            112053  30.0000      B42   \n",
       "888          889         0           Johnston, Miss. Catherine Helen \"Carrie\"  24.0      1      2        W./C. 6607  23.4500  B96 B98   \n",
       "889          890         1                              Behr, Mr. Karl Howell  26.0      0      0            111369  30.0000     C148   \n",
       "890          891         0                                Dooley, Mr. Patrick  32.0      0      0            370376   7.7500  B96 B98   \n",
       "\n",
       "      LogFare  Sex_female  Sex_male  Pclass_1  Pclass_2  Pclass_3  Embarked_C  Embarked_Q  Embarked_S  \n",
       "0    2.110213           0         1         0         0         1           0           0           1  \n",
       "1    4.280593           1         0         1         0         0           1           0           0  \n",
       "2    2.188856           1         0         0         0         1           0           0           1  \n",
       "3    3.990834           1         0         1         0         0           0           0           1  \n",
       "4    2.202765           0         1         0         0         1           0           0           1  \n",
       "..        ...         ...       ...       ...       ...       ...         ...         ...         ...  \n",
       "886  2.639057           0         1         0         1         0           0           0           1  \n",
       "887  3.433987           1         0         1         0         0           0           0           1  \n",
       "888  3.196630           1         0         0         0         1           0           0           1  \n",
       "889  3.433987           0         1         1         0         0           1           0           0  \n",
       "890  2.169054           0         1         0         0         1           0           1           0  \n",
       "\n",
       "[891 rows x 18 columns]"
      ]
     },
     "execution_count": 24,
     "metadata": {},
     "output_type": "execute_result"
    }
   ],
   "source": [
    "df"
   ]
  },
  {
   "cell_type": "markdown",
   "id": "14949285",
   "metadata": {
    "hidden": true,
    "papermill": {
     "duration": 0.134226,
     "end_time": "2023-07-04T11:27:24.394411",
     "exception": false,
     "start_time": "2023-07-04T11:27:24.260185",
     "status": "completed"
    },
    "tags": []
   },
   "source": [
    "Here's the number of rows and columns we have for our independent variables:"
   ]
  },
  {
   "cell_type": "code",
   "execution_count": 25,
   "id": "2bd79ddf",
   "metadata": {
    "execution": {
     "iopub.execute_input": "2023-07-04T11:27:24.666880Z",
     "iopub.status.busy": "2023-07-04T11:27:24.666629Z",
     "iopub.status.idle": "2023-07-04T11:27:24.672722Z",
     "shell.execute_reply": "2023-07-04T11:27:24.671706Z"
    },
    "hidden": true,
    "papermill": {
     "duration": 0.143314,
     "end_time": "2023-07-04T11:27:24.674456",
     "exception": false,
     "start_time": "2023-07-04T11:27:24.531142",
     "status": "completed"
    },
    "tags": []
   },
   "outputs": [
    {
     "data": {
      "text/plain": [
       "torch.Size([891, 12])"
      ]
     },
     "execution_count": 25,
     "metadata": {},
     "output_type": "execute_result"
    }
   ],
   "source": [
    "t_indep.shape"
   ]
  },
  {
   "cell_type": "markdown",
   "id": "ab76ed6b",
   "metadata": {
    "papermill": {
     "duration": 0.1327,
     "end_time": "2023-07-04T11:27:24.939490",
     "exception": false,
     "start_time": "2023-07-04T11:27:24.806790",
     "status": "completed"
    },
    "tags": []
   },
   "source": [
    "## Setting up a linear model"
   ]
  },
  {
   "cell_type": "markdown",
   "id": "9b9cd956",
   "metadata": {
    "papermill": {
     "duration": 0.137572,
     "end_time": "2023-07-04T11:27:25.216069",
     "exception": false,
     "start_time": "2023-07-04T11:27:25.078497",
     "status": "completed"
    },
    "tags": []
   },
   "source": [
    "Now that we've got a matrix of independent variables and a dependent variable vector, we can work on calculating our predictions and our loss. In this section, we're going to manually do a single step of calculating predictions and loss for every row of our data.\n",
    "\n",
    "Our first model will be a simple linear model. We'll need a coefficient for each column in `t_indep`. We'll pick random numbers in the range `(-0.5,0.5)`, and set our manual seed so that my explanations in the prose in this notebook will be consistent with what you see when you run it."
   ]
  },
  {
   "cell_type": "code",
   "execution_count": 26,
   "id": "24e0c4cc",
   "metadata": {
    "execution": {
     "iopub.execute_input": "2023-07-04T11:27:25.482493Z",
     "iopub.status.busy": "2023-07-04T11:27:25.482242Z",
     "iopub.status.idle": "2023-07-04T11:27:25.500116Z",
     "shell.execute_reply": "2023-07-04T11:27:25.498981Z"
    },
    "papermill": {
     "duration": 0.152533,
     "end_time": "2023-07-04T11:27:25.502415",
     "exception": false,
     "start_time": "2023-07-04T11:27:25.349882",
     "status": "completed"
    },
    "tags": []
   },
   "outputs": [
    {
     "data": {
      "text/plain": [
       "tensor([-0.4629,  0.1386,  0.2409, -0.2262, -0.2632, -0.3147,  0.4876,  0.3136,  0.2799, -0.4392,  0.2103,  0.3625])"
      ]
     },
     "execution_count": 26,
     "metadata": {},
     "output_type": "execute_result"
    }
   ],
   "source": [
    "torch.manual_seed(442)\n",
    "\n",
    "n_coeff = t_indep.shape[1]\n",
    "coeffs = torch.rand(n_coeff)-0.5\n",
    "coeffs"
   ]
  },
  {
   "cell_type": "code",
   "execution_count": 27,
   "id": "c5a92b6c",
   "metadata": {
    "execution": {
     "iopub.execute_input": "2023-07-04T11:27:25.764559Z",
     "iopub.status.busy": "2023-07-04T11:27:25.764265Z",
     "iopub.status.idle": "2023-07-04T11:27:25.769980Z",
     "shell.execute_reply": "2023-07-04T11:27:25.769045Z"
    },
    "papermill": {
     "duration": 0.137905,
     "end_time": "2023-07-04T11:27:25.772248",
     "exception": false,
     "start_time": "2023-07-04T11:27:25.634343",
     "status": "completed"
    },
    "tags": []
   },
   "outputs": [
    {
     "data": {
      "text/plain": [
       "12"
      ]
     },
     "execution_count": 27,
     "metadata": {},
     "output_type": "execute_result"
    }
   ],
   "source": [
    "n_coeff"
   ]
  },
  {
   "cell_type": "markdown",
   "id": "193525a9",
   "metadata": {
    "papermill": {
     "duration": 0.134746,
     "end_time": "2023-07-04T11:27:26.037892",
     "exception": false,
     "start_time": "2023-07-04T11:27:25.903146",
     "status": "completed"
    },
    "tags": []
   },
   "source": [
    "Our predictions will be calculated by multiplying each row by the coefficients, and adding them up. One interesting point here is that we don't need a separate constant term (also known as a \"bias\" or \"intercept\" term), or a column of all `1`s to give the same effect has having a constant term. That's because our dummy variables already cover the entire dataset -- e.g. there's a column for \"male\" and a column for \"female\", and everyone in the dataset is in exactly one of these; therefore, we don't need a separate intercept term to cover rows that aren't otherwise part of a column.\n",
    "\n",
    "Here's what the multiplication looks like:"
   ]
  },
  {
   "cell_type": "code",
   "execution_count": 28,
   "id": "f9178032",
   "metadata": {
    "execution": {
     "iopub.execute_input": "2023-07-04T11:27:26.305765Z",
     "iopub.status.busy": "2023-07-04T11:27:26.305470Z",
     "iopub.status.idle": "2023-07-04T11:27:26.311718Z",
     "shell.execute_reply": "2023-07-04T11:27:26.310875Z"
    },
    "papermill": {
     "duration": 0.141809,
     "end_time": "2023-07-04T11:27:26.314248",
     "exception": false,
     "start_time": "2023-07-04T11:27:26.172439",
     "status": "completed"
    },
    "tags": []
   },
   "outputs": [
    {
     "data": {
      "text/plain": [
       "tensor([-0.4629,  0.1386,  0.2409, -0.2262, -0.2632, -0.3147,  0.4876,  0.3136,  0.2799, -0.4392,  0.2103,  0.3625])"
      ]
     },
     "execution_count": 28,
     "metadata": {},
     "output_type": "execute_result"
    }
   ],
   "source": [
    "coeffs"
   ]
  },
  {
   "cell_type": "code",
   "execution_count": 29,
   "id": "baa12155",
   "metadata": {
    "execution": {
     "iopub.execute_input": "2023-07-04T11:27:26.584428Z",
     "iopub.status.busy": "2023-07-04T11:27:26.584177Z",
     "iopub.status.idle": "2023-07-04T11:27:26.589601Z",
     "shell.execute_reply": "2023-07-04T11:27:26.588865Z"
    },
    "papermill": {
     "duration": 0.142804,
     "end_time": "2023-07-04T11:27:26.591288",
     "exception": false,
     "start_time": "2023-07-04T11:27:26.448484",
     "status": "completed"
    },
    "tags": []
   },
   "outputs": [],
   "source": [
    "weighted=t_indep*coeffs"
   ]
  },
  {
   "cell_type": "code",
   "execution_count": 30,
   "id": "efc09a6d",
   "metadata": {
    "execution": {
     "iopub.execute_input": "2023-07-04T11:27:26.854373Z",
     "iopub.status.busy": "2023-07-04T11:27:26.854140Z",
     "iopub.status.idle": "2023-07-04T11:27:26.860330Z",
     "shell.execute_reply": "2023-07-04T11:27:26.859593Z"
    },
    "papermill": {
     "duration": 0.139577,
     "end_time": "2023-07-04T11:27:26.861904",
     "exception": false,
     "start_time": "2023-07-04T11:27:26.722327",
     "status": "completed"
    },
    "tags": []
   },
   "outputs": [
    {
     "data": {
      "text/plain": [
       "tensor([[22.0000,  1.0000,  0.0000,  2.1102,  1.0000,  0.0000,  0.0000,  0.0000,  1.0000,  0.0000,  0.0000,  1.0000],\n",
       "        [38.0000,  1.0000,  0.0000,  4.2806,  0.0000,  1.0000,  1.0000,  0.0000,  0.0000,  1.0000,  0.0000,  0.0000],\n",
       "        [26.0000,  0.0000,  0.0000,  2.1889,  0.0000,  1.0000,  0.0000,  0.0000,  1.0000,  0.0000,  0.0000,  1.0000],\n",
       "        [35.0000,  1.0000,  0.0000,  3.9908,  0.0000,  1.0000,  1.0000,  0.0000,  0.0000,  0.0000,  0.0000,  1.0000],\n",
       "        [35.0000,  0.0000,  0.0000,  2.2028,  1.0000,  0.0000,  0.0000,  0.0000,  1.0000,  0.0000,  0.0000,  1.0000],\n",
       "        [24.0000,  0.0000,  0.0000,  2.2469,  1.0000,  0.0000,  0.0000,  0.0000,  1.0000,  0.0000,  1.0000,  0.0000],\n",
       "        [54.0000,  0.0000,  0.0000,  3.9677,  1.0000,  0.0000,  1.0000,  0.0000,  0.0000,  0.0000,  0.0000,  1.0000],\n",
       "        ...,\n",
       "        [25.0000,  0.0000,  0.0000,  2.0857,  1.0000,  0.0000,  0.0000,  0.0000,  1.0000,  0.0000,  0.0000,  1.0000],\n",
       "        [39.0000,  0.0000,  5.0000,  3.4054,  0.0000,  1.0000,  0.0000,  0.0000,  1.0000,  0.0000,  1.0000,  0.0000],\n",
       "        [27.0000,  0.0000,  0.0000,  2.6391,  1.0000,  0.0000,  0.0000,  1.0000,  0.0000,  0.0000,  0.0000,  1.0000],\n",
       "        [19.0000,  0.0000,  0.0000,  3.4340,  0.0000,  1.0000,  1.0000,  0.0000,  0.0000,  0.0000,  0.0000,  1.0000],\n",
       "        [24.0000,  1.0000,  2.0000,  3.1966,  0.0000,  1.0000,  0.0000,  0.0000,  1.0000,  0.0000,  0.0000,  1.0000],\n",
       "        [26.0000,  0.0000,  0.0000,  3.4340,  1.0000,  0.0000,  1.0000,  0.0000,  0.0000,  1.0000,  0.0000,  0.0000],\n",
       "        [32.0000,  0.0000,  0.0000,  2.1691,  1.0000,  0.0000,  0.0000,  0.0000,  1.0000,  0.0000,  1.0000,  0.0000]])"
      ]
     },
     "execution_count": 30,
     "metadata": {},
     "output_type": "execute_result"
    }
   ],
   "source": [
    "t_indep"
   ]
  },
  {
   "cell_type": "code",
   "execution_count": 31,
   "id": "ca65892f",
   "metadata": {
    "execution": {
     "iopub.execute_input": "2023-07-04T11:27:27.128807Z",
     "iopub.status.busy": "2023-07-04T11:27:27.128562Z",
     "iopub.status.idle": "2023-07-04T11:27:27.134409Z",
     "shell.execute_reply": "2023-07-04T11:27:27.133727Z"
    },
    "papermill": {
     "duration": 0.142697,
     "end_time": "2023-07-04T11:27:27.136598",
     "exception": false,
     "start_time": "2023-07-04T11:27:26.993901",
     "status": "completed"
    },
    "tags": []
   },
   "outputs": [
    {
     "data": {
      "text/plain": [
       "tensor([[-10.1838,   0.1386,   0.0000,  -0.4772,  -0.2632,  -0.0000,   0.0000,   0.0000,   0.2799,  -0.0000,   0.0000,   0.3625],\n",
       "        [-17.5902,   0.1386,   0.0000,  -0.9681,  -0.0000,  -0.3147,   0.4876,   0.0000,   0.0000,  -0.4392,   0.0000,   0.0000],\n",
       "        [-12.0354,   0.0000,   0.0000,  -0.4950,  -0.0000,  -0.3147,   0.0000,   0.0000,   0.2799,  -0.0000,   0.0000,   0.3625],\n",
       "        [-16.2015,   0.1386,   0.0000,  -0.9025,  -0.0000,  -0.3147,   0.4876,   0.0000,   0.0000,  -0.0000,   0.0000,   0.3625],\n",
       "        [-16.2015,   0.0000,   0.0000,  -0.4982,  -0.2632,  -0.0000,   0.0000,   0.0000,   0.2799,  -0.0000,   0.0000,   0.3625],\n",
       "        [-11.1096,   0.0000,   0.0000,  -0.5081,  -0.2632,  -0.0000,   0.0000,   0.0000,   0.2799,  -0.0000,   0.2103,   0.0000],\n",
       "        [-24.9966,   0.0000,   0.0000,  -0.8973,  -0.2632,  -0.0000,   0.4876,   0.0000,   0.0000,  -0.0000,   0.0000,   0.3625],\n",
       "        ...,\n",
       "        [-11.5725,   0.0000,   0.0000,  -0.4717,  -0.2632,  -0.0000,   0.0000,   0.0000,   0.2799,  -0.0000,   0.0000,   0.3625],\n",
       "        [-18.0531,   0.0000,   1.2045,  -0.7701,  -0.0000,  -0.3147,   0.0000,   0.0000,   0.2799,  -0.0000,   0.2103,   0.0000],\n",
       "        [-12.4983,   0.0000,   0.0000,  -0.5968,  -0.2632,  -0.0000,   0.0000,   0.3136,   0.0000,  -0.0000,   0.0000,   0.3625],\n",
       "        [ -8.7951,   0.0000,   0.0000,  -0.7766,  -0.0000,  -0.3147,   0.4876,   0.0000,   0.0000,  -0.0000,   0.0000,   0.3625],\n",
       "        [-11.1096,   0.1386,   0.4818,  -0.7229,  -0.0000,  -0.3147,   0.0000,   0.0000,   0.2799,  -0.0000,   0.0000,   0.3625],\n",
       "        [-12.0354,   0.0000,   0.0000,  -0.7766,  -0.2632,  -0.0000,   0.4876,   0.0000,   0.0000,  -0.4392,   0.0000,   0.0000],\n",
       "        [-14.8128,   0.0000,   0.0000,  -0.4905,  -0.2632,  -0.0000,   0.0000,   0.0000,   0.2799,  -0.0000,   0.2103,   0.0000]])"
      ]
     },
     "execution_count": 31,
     "metadata": {},
     "output_type": "execute_result"
    }
   ],
   "source": [
    "weighted"
   ]
  },
  {
   "cell_type": "code",
   "execution_count": 32,
   "id": "45d4d0f2",
   "metadata": {
    "execution": {
     "iopub.execute_input": "2023-07-04T11:27:27.406077Z",
     "iopub.status.busy": "2023-07-04T11:27:27.405814Z",
     "iopub.status.idle": "2023-07-04T11:27:27.410171Z",
     "shell.execute_reply": "2023-07-04T11:27:27.409508Z"
    },
    "papermill": {
     "duration": 0.140641,
     "end_time": "2023-07-04T11:27:27.412203",
     "exception": false,
     "start_time": "2023-07-04T11:27:27.271562",
     "status": "completed"
    },
    "tags": []
   },
   "outputs": [
    {
     "data": {
      "text/plain": [
       "torch.Size([891, 12])"
      ]
     },
     "execution_count": 32,
     "metadata": {},
     "output_type": "execute_result"
    }
   ],
   "source": [
    "weighted.shape"
   ]
  },
  {
   "cell_type": "markdown",
   "id": "a035e355",
   "metadata": {
    "papermill": {
     "duration": 0.135026,
     "end_time": "2023-07-04T11:27:27.681889",
     "exception": false,
     "start_time": "2023-07-04T11:27:27.546863",
     "status": "completed"
    },
    "tags": []
   },
   "source": [
    "We can see we've got a problem here. The sums of each row will be dominated by the first column, which is `Age`, since that's bigger on average than all the others.\n",
    "\n",
    "Let's make all the columns contain numbers from `0` to `1`, by dividing each column by its `max()`:"
   ]
  },
  {
   "cell_type": "code",
   "execution_count": 33,
   "id": "202c95af",
   "metadata": {
    "execution": {
     "iopub.execute_input": "2023-07-04T11:27:27.949097Z",
     "iopub.status.busy": "2023-07-04T11:27:27.948849Z",
     "iopub.status.idle": "2023-07-04T11:27:27.955717Z",
     "shell.execute_reply": "2023-07-04T11:27:27.954976Z"
    },
    "papermill": {
     "duration": 0.143344,
     "end_time": "2023-07-04T11:27:27.958033",
     "exception": false,
     "start_time": "2023-07-04T11:27:27.814689",
     "status": "completed"
    },
    "tags": []
   },
   "outputs": [],
   "source": [
    "vals,indices = t_indep.max(dim=0)\n",
    "t_indep = t_indep / vals"
   ]
  },
  {
   "cell_type": "markdown",
   "id": "efd2eeda",
   "metadata": {
    "papermill": {
     "duration": 0.134538,
     "end_time": "2023-07-04T11:27:28.230181",
     "exception": false,
     "start_time": "2023-07-04T11:27:28.095643",
     "status": "completed"
    },
    "tags": []
   },
   "source": [
    "As we see, that removes the problem of one column dominating all the others:"
   ]
  },
  {
   "cell_type": "code",
   "execution_count": 34,
   "id": "25768612",
   "metadata": {
    "execution": {
     "iopub.execute_input": "2023-07-04T11:27:28.498757Z",
     "iopub.status.busy": "2023-07-04T11:27:28.497830Z",
     "iopub.status.idle": "2023-07-04T11:27:28.504815Z",
     "shell.execute_reply": "2023-07-04T11:27:28.504281Z"
    },
    "papermill": {
     "duration": 0.141871,
     "end_time": "2023-07-04T11:27:28.506581",
     "exception": false,
     "start_time": "2023-07-04T11:27:28.364710",
     "status": "completed"
    },
    "tags": []
   },
   "outputs": [
    {
     "data": {
      "text/plain": [
       "tensor([[-0.1273,  0.0173,  0.0000, -0.0765, -0.2632, -0.0000,  0.0000,  0.0000,  0.2799, -0.0000,  0.0000,  0.3625],\n",
       "        [-0.2199,  0.0173,  0.0000, -0.1551, -0.0000, -0.3147,  0.4876,  0.0000,  0.0000, -0.4392,  0.0000,  0.0000],\n",
       "        [-0.1504,  0.0000,  0.0000, -0.0793, -0.0000, -0.3147,  0.0000,  0.0000,  0.2799, -0.0000,  0.0000,  0.3625],\n",
       "        [-0.2025,  0.0173,  0.0000, -0.1446, -0.0000, -0.3147,  0.4876,  0.0000,  0.0000, -0.0000,  0.0000,  0.3625],\n",
       "        [-0.2025,  0.0000,  0.0000, -0.0798, -0.2632, -0.0000,  0.0000,  0.0000,  0.2799, -0.0000,  0.0000,  0.3625],\n",
       "        [-0.1389,  0.0000,  0.0000, -0.0814, -0.2632, -0.0000,  0.0000,  0.0000,  0.2799, -0.0000,  0.2103,  0.0000],\n",
       "        [-0.3125,  0.0000,  0.0000, -0.1438, -0.2632, -0.0000,  0.4876,  0.0000,  0.0000, -0.0000,  0.0000,  0.3625],\n",
       "        ...,\n",
       "        [-0.1447,  0.0000,  0.0000, -0.0756, -0.2632, -0.0000,  0.0000,  0.0000,  0.2799, -0.0000,  0.0000,  0.3625],\n",
       "        [-0.2257,  0.0000,  0.2008, -0.1234, -0.0000, -0.3147,  0.0000,  0.0000,  0.2799, -0.0000,  0.2103,  0.0000],\n",
       "        [-0.1562,  0.0000,  0.0000, -0.0956, -0.2632, -0.0000,  0.0000,  0.3136,  0.0000, -0.0000,  0.0000,  0.3625],\n",
       "        [-0.1099,  0.0000,  0.0000, -0.1244, -0.0000, -0.3147,  0.4876,  0.0000,  0.0000, -0.0000,  0.0000,  0.3625],\n",
       "        [-0.1389,  0.0173,  0.0803, -0.1158, -0.0000, -0.3147,  0.0000,  0.0000,  0.2799, -0.0000,  0.0000,  0.3625],\n",
       "        [-0.1504,  0.0000,  0.0000, -0.1244, -0.2632, -0.0000,  0.4876,  0.0000,  0.0000, -0.4392,  0.0000,  0.0000],\n",
       "        [-0.1852,  0.0000,  0.0000, -0.0786, -0.2632, -0.0000,  0.0000,  0.0000,  0.2799, -0.0000,  0.2103,  0.0000]])"
      ]
     },
     "execution_count": 34,
     "metadata": {},
     "output_type": "execute_result"
    }
   ],
   "source": [
    "t_indep*coeffs"
   ]
  },
  {
   "cell_type": "markdown",
   "id": "fac5c687",
   "metadata": {
    "papermill": {
     "duration": 0.132839,
     "end_time": "2023-07-04T11:27:28.771465",
     "exception": false,
     "start_time": "2023-07-04T11:27:28.638626",
     "status": "completed"
    },
    "tags": []
   },
   "source": [
    "One thing you hopefully noticed is how amazingly cool this line of code is:\n",
    "\n",
    "    t_indep = t_indep / vals\n",
    "\n",
    "That is dividing a matrix by a vector -- what on earth does that mean?!? The trick here is that we're taking advantage of a technique in numpy and PyTorch (and many other languages, going all the way back to APL) called [broadcasting](https://numpy.org/doc/stable/user/basics.broadcasting.html). In short, this acts as if there's a separate copy of the vector for every row of the matrix, so it divides each row of the matrix by the vector. In practice, it doesn't actually make any copies, and does the whole thing in a highly optimized way, taking full advantage of modern CPUs (or, indeed, GPUs, if we're using them). Broadcasting is one of the most important techniques for making your code concise, maintainable, and fast, so it's well worth studying and practicing.\n",
    "\n",
    "We can now create predictions from our linear model, by adding up the rows of the product:"
   ]
  },
  {
   "cell_type": "code",
   "execution_count": 35,
   "id": "7ec348df",
   "metadata": {
    "execution": {
     "iopub.execute_input": "2023-07-04T11:27:29.053658Z",
     "iopub.status.busy": "2023-07-04T11:27:29.053180Z",
     "iopub.status.idle": "2023-07-04T11:27:29.060984Z",
     "shell.execute_reply": "2023-07-04T11:27:29.060282Z"
    },
    "papermill": {
     "duration": 0.158158,
     "end_time": "2023-07-04T11:27:29.064023",
     "exception": false,
     "start_time": "2023-07-04T11:27:28.905865",
     "status": "completed"
    },
    "tags": []
   },
   "outputs": [],
   "source": [
    "preds = (t_indep*coeffs).sum(axis=1)"
   ]
  },
  {
   "cell_type": "markdown",
   "id": "9324b7e8",
   "metadata": {
    "papermill": {
     "duration": 0.136717,
     "end_time": "2023-07-04T11:27:29.338185",
     "exception": false,
     "start_time": "2023-07-04T11:27:29.201468",
     "status": "completed"
    },
    "tags": []
   },
   "source": [
    "Let's take a look at the first few:"
   ]
  },
  {
   "cell_type": "code",
   "execution_count": 36,
   "id": "5cc4bae5",
   "metadata": {
    "execution": {
     "iopub.execute_input": "2023-07-04T11:27:29.617865Z",
     "iopub.status.busy": "2023-07-04T11:27:29.617538Z",
     "iopub.status.idle": "2023-07-04T11:27:29.624265Z",
     "shell.execute_reply": "2023-07-04T11:27:29.623609Z"
    },
    "papermill": {
     "duration": 0.150158,
     "end_time": "2023-07-04T11:27:29.625719",
     "exception": false,
     "start_time": "2023-07-04T11:27:29.475561",
     "status": "completed"
    },
    "tags": []
   },
   "outputs": [
    {
     "data": {
      "text/plain": [
       "tensor([ 0.1927, -0.6239,  0.0979,  0.2056,  0.0968,  0.0066,  0.1306,  0.3476,  0.1613, -0.6285])"
      ]
     },
     "execution_count": 36,
     "metadata": {},
     "output_type": "execute_result"
    }
   ],
   "source": [
    "preds[:10]"
   ]
  },
  {
   "cell_type": "markdown",
   "id": "6c7591c1",
   "metadata": {
    "papermill": {
     "duration": 0.131697,
     "end_time": "2023-07-04T11:27:29.891548",
     "exception": false,
     "start_time": "2023-07-04T11:27:29.759851",
     "status": "completed"
    },
    "tags": []
   },
   "source": [
    "Of course, these predictions aren't going to be any use, since our coefficients are random -- they're just a starting point for our gradient descent process.\n",
    "\n",
    "To do gradient descent, we need a loss function. Taking the average error of the rows (i.e. the absolute value of the difference between the prediction and the dependent) is generally a reasonable approach:"
   ]
  },
  {
   "cell_type": "code",
   "execution_count": 37,
   "id": "8291b971",
   "metadata": {
    "execution": {
     "iopub.execute_input": "2023-07-04T11:27:30.165904Z",
     "iopub.status.busy": "2023-07-04T11:27:30.165616Z",
     "iopub.status.idle": "2023-07-04T11:27:30.177261Z",
     "shell.execute_reply": "2023-07-04T11:27:30.176509Z"
    },
    "papermill": {
     "duration": 0.153534,
     "end_time": "2023-07-04T11:27:30.179351",
     "exception": false,
     "start_time": "2023-07-04T11:27:30.025817",
     "status": "completed"
    },
    "tags": []
   },
   "outputs": [
    {
     "data": {
      "text/plain": [
       "tensor(0.5382)"
      ]
     },
     "execution_count": 37,
     "metadata": {},
     "output_type": "execute_result"
    }
   ],
   "source": [
    "loss = torch.abs(preds-t_dep).mean()\n",
    "loss"
   ]
  },
  {
   "cell_type": "markdown",
   "id": "5ec54793",
   "metadata": {
    "papermill": {
     "duration": 0.175692,
     "end_time": "2023-07-04T11:27:30.489148",
     "exception": false,
     "start_time": "2023-07-04T11:27:30.313456",
     "status": "completed"
    },
    "tags": []
   },
   "source": [
    "Now that we've tested out a way of calculating predictions, and loss, let's pop them into functions to make life easier:"
   ]
  },
  {
   "cell_type": "code",
   "execution_count": 38,
   "id": "e7c545e6",
   "metadata": {
    "execution": {
     "iopub.execute_input": "2023-07-04T11:27:30.763702Z",
     "iopub.status.busy": "2023-07-04T11:27:30.763422Z",
     "iopub.status.idle": "2023-07-04T11:27:30.767488Z",
     "shell.execute_reply": "2023-07-04T11:27:30.766990Z"
    },
    "papermill": {
     "duration": 0.142281,
     "end_time": "2023-07-04T11:27:30.769043",
     "exception": false,
     "start_time": "2023-07-04T11:27:30.626762",
     "status": "completed"
    },
    "tags": []
   },
   "outputs": [],
   "source": [
    "def calc_preds(coeffs, indeps): return (indeps*coeffs).sum(axis=1)\n",
    "def calc_loss(coeffs, indeps, deps): return torch.abs(calc_preds(coeffs, indeps)-deps).mean()"
   ]
  },
  {
   "cell_type": "markdown",
   "id": "ba82e70d",
   "metadata": {
    "papermill": {
     "duration": 0.133501,
     "end_time": "2023-07-04T11:27:31.035424",
     "exception": false,
     "start_time": "2023-07-04T11:27:30.901923",
     "status": "completed"
    },
    "tags": []
   },
   "source": [
    "## Doing a gradient descent step"
   ]
  },
  {
   "cell_type": "markdown",
   "id": "d04bfca8",
   "metadata": {
    "papermill": {
     "duration": 0.134661,
     "end_time": "2023-07-04T11:27:31.310040",
     "exception": false,
     "start_time": "2023-07-04T11:27:31.175379",
     "status": "completed"
    },
    "tags": []
   },
   "source": [
    "In this section, we're going to do a single \"epoch\" of gradient descent manually. The only thing we're going to automate is calculating gradients, because let's face it that's pretty tedious and entirely pointless to do by hand! To get PyTorch to calculate gradients, we'll need to call `requires_grad_()` on our `coeffs` (if you're not sure why, review the previous notebook, [How does a neural net really work?](https://www.kaggle.com/code/jhoward/how-does-a-neural-net-really-work), before continuing):"
   ]
  },
  {
   "cell_type": "code",
   "execution_count": 39,
   "id": "5938a9ab",
   "metadata": {
    "execution": {
     "iopub.execute_input": "2023-07-04T11:27:31.581455Z",
     "iopub.status.busy": "2023-07-04T11:27:31.581235Z",
     "iopub.status.idle": "2023-07-04T11:27:31.586889Z",
     "shell.execute_reply": "2023-07-04T11:27:31.586147Z"
    },
    "papermill": {
     "duration": 0.145394,
     "end_time": "2023-07-04T11:27:31.589237",
     "exception": false,
     "start_time": "2023-07-04T11:27:31.443843",
     "status": "completed"
    },
    "tags": []
   },
   "outputs": [
    {
     "data": {
      "text/plain": [
       "tensor([-0.4629,  0.1386,  0.2409, -0.2262, -0.2632, -0.3147,  0.4876,  0.3136,  0.2799, -0.4392,  0.2103,  0.3625])"
      ]
     },
     "execution_count": 39,
     "metadata": {},
     "output_type": "execute_result"
    }
   ],
   "source": [
    "coeffs"
   ]
  },
  {
   "cell_type": "code",
   "execution_count": 40,
   "id": "9d714aa3",
   "metadata": {
    "execution": {
     "iopub.execute_input": "2023-07-04T11:27:31.864450Z",
     "iopub.status.busy": "2023-07-04T11:27:31.864220Z",
     "iopub.status.idle": "2023-07-04T11:27:31.868528Z",
     "shell.execute_reply": "2023-07-04T11:27:31.868099Z"
    },
    "papermill": {
     "duration": 0.143956,
     "end_time": "2023-07-04T11:27:31.870466",
     "exception": false,
     "start_time": "2023-07-04T11:27:31.726510",
     "status": "completed"
    },
    "tags": []
   },
   "outputs": [
    {
     "data": {
      "text/plain": [
       "tensor([-0.4629,  0.1386,  0.2409, -0.2262, -0.2632, -0.3147,  0.4876,  0.3136,  0.2799, -0.4392,  0.2103,  0.3625], requires_grad=True)"
      ]
     },
     "execution_count": 40,
     "metadata": {},
     "output_type": "execute_result"
    }
   ],
   "source": [
    "coeffs.requires_grad_()"
   ]
  },
  {
   "cell_type": "markdown",
   "id": "a74d24cc",
   "metadata": {
    "papermill": {
     "duration": 0.136453,
     "end_time": "2023-07-04T11:27:32.141465",
     "exception": false,
     "start_time": "2023-07-04T11:27:32.005012",
     "status": "completed"
    },
    "tags": []
   },
   "source": [
    "Now when we calculate our loss, PyTorch will keep track of all the steps, so we'll be able to get the gradients afterwards:"
   ]
  },
  {
   "cell_type": "code",
   "execution_count": 41,
   "id": "9a8a37be",
   "metadata": {
    "execution": {
     "iopub.execute_input": "2023-07-04T11:27:32.415889Z",
     "iopub.status.busy": "2023-07-04T11:27:32.415500Z",
     "iopub.status.idle": "2023-07-04T11:27:32.422473Z",
     "shell.execute_reply": "2023-07-04T11:27:32.421779Z"
    },
    "papermill": {
     "duration": 0.1436,
     "end_time": "2023-07-04T11:27:32.424294",
     "exception": false,
     "start_time": "2023-07-04T11:27:32.280694",
     "status": "completed"
    },
    "tags": []
   },
   "outputs": [
    {
     "data": {
      "text/plain": [
       "tensor(0.5382, grad_fn=<MeanBackward0>)"
      ]
     },
     "execution_count": 41,
     "metadata": {},
     "output_type": "execute_result"
    }
   ],
   "source": [
    "loss = calc_loss(coeffs, t_indep, t_dep)\n",
    "loss"
   ]
  },
  {
   "cell_type": "markdown",
   "id": "d5a0cf72",
   "metadata": {
    "papermill": {
     "duration": 0.135513,
     "end_time": "2023-07-04T11:27:32.697295",
     "exception": false,
     "start_time": "2023-07-04T11:27:32.561782",
     "status": "completed"
    },
    "tags": []
   },
   "source": [
    "Use `backward()` to ask PyTorch to calculate gradients now:"
   ]
  },
  {
   "cell_type": "code",
   "execution_count": 42,
   "id": "6edd8c33",
   "metadata": {
    "execution": {
     "iopub.execute_input": "2023-07-04T11:27:32.972738Z",
     "iopub.status.busy": "2023-07-04T11:27:32.972376Z",
     "iopub.status.idle": "2023-07-04T11:27:32.987734Z",
     "shell.execute_reply": "2023-07-04T11:27:32.986865Z"
    },
    "papermill": {
     "duration": 0.155458,
     "end_time": "2023-07-04T11:27:32.989963",
     "exception": false,
     "start_time": "2023-07-04T11:27:32.834505",
     "status": "completed"
    },
    "tags": []
   },
   "outputs": [],
   "source": [
    "loss.backward()"
   ]
  },
  {
   "cell_type": "markdown",
   "id": "f022ef26",
   "metadata": {
    "papermill": {
     "duration": 0.136922,
     "end_time": "2023-07-04T11:27:33.264112",
     "exception": false,
     "start_time": "2023-07-04T11:27:33.127190",
     "status": "completed"
    },
    "tags": []
   },
   "source": [
    "Let's see what they look like:"
   ]
  },
  {
   "cell_type": "code",
   "execution_count": 43,
   "id": "dd8eb55c",
   "metadata": {
    "execution": {
     "iopub.execute_input": "2023-07-04T11:27:33.535667Z",
     "iopub.status.busy": "2023-07-04T11:27:33.535423Z",
     "iopub.status.idle": "2023-07-04T11:27:33.541583Z",
     "shell.execute_reply": "2023-07-04T11:27:33.540400Z"
    },
    "papermill": {
     "duration": 0.14487,
     "end_time": "2023-07-04T11:27:33.543463",
     "exception": false,
     "start_time": "2023-07-04T11:27:33.398593",
     "status": "completed"
    },
    "tags": []
   },
   "outputs": [
    {
     "data": {
      "text/plain": [
       "tensor([-0.0106,  0.0129, -0.0041, -0.0484,  0.2099, -0.2132, -0.1212, -0.0247,  0.1425, -0.1886, -0.0191,  0.2043])"
      ]
     },
     "execution_count": 43,
     "metadata": {},
     "output_type": "execute_result"
    }
   ],
   "source": [
    "coeffs.grad"
   ]
  },
  {
   "cell_type": "markdown",
   "id": "27931d45",
   "metadata": {
    "papermill": {
     "duration": 0.135015,
     "end_time": "2023-07-04T11:27:33.815041",
     "exception": false,
     "start_time": "2023-07-04T11:27:33.680026",
     "status": "completed"
    },
    "tags": []
   },
   "source": [
    "Note that each time we call `backward`, the gradients are actually *added* to whatever is in the `.grad` attribute. Let's try running the above steps again:"
   ]
  },
  {
   "cell_type": "code",
   "execution_count": 44,
   "id": "47c9229f",
   "metadata": {
    "execution": {
     "iopub.execute_input": "2023-07-04T11:27:34.089718Z",
     "iopub.status.busy": "2023-07-04T11:27:34.089434Z",
     "iopub.status.idle": "2023-07-04T11:27:34.098902Z",
     "shell.execute_reply": "2023-07-04T11:27:34.098300Z"
    },
    "papermill": {
     "duration": 0.149519,
     "end_time": "2023-07-04T11:27:34.100499",
     "exception": false,
     "start_time": "2023-07-04T11:27:33.950980",
     "status": "completed"
    },
    "tags": []
   },
   "outputs": [
    {
     "data": {
      "text/plain": [
       "tensor([-0.0212,  0.0258, -0.0082, -0.0969,  0.4198, -0.4265, -0.2424, -0.0494,  0.2851, -0.3771, -0.0382,  0.4085])"
      ]
     },
     "execution_count": 44,
     "metadata": {},
     "output_type": "execute_result"
    }
   ],
   "source": [
    "loss = calc_loss(coeffs, t_indep, t_dep)\n",
    "loss.backward()\n",
    "coeffs.grad"
   ]
  },
  {
   "cell_type": "code",
   "execution_count": 45,
   "id": "64c054f4",
   "metadata": {
    "execution": {
     "iopub.execute_input": "2023-07-04T11:27:34.376811Z",
     "iopub.status.busy": "2023-07-04T11:27:34.376550Z",
     "iopub.status.idle": "2023-07-04T11:27:34.383103Z",
     "shell.execute_reply": "2023-07-04T11:27:34.382529Z"
    },
    "papermill": {
     "duration": 0.145873,
     "end_time": "2023-07-04T11:27:34.384564",
     "exception": false,
     "start_time": "2023-07-04T11:27:34.238691",
     "status": "completed"
    },
    "tags": []
   },
   "outputs": [
    {
     "data": {
      "text/plain": [
       "tensor([0., 0., 0., 0., 0., 0., 0., 0., 0., 0., 0., 0.])"
      ]
     },
     "execution_count": 45,
     "metadata": {},
     "output_type": "execute_result"
    }
   ],
   "source": [
    "coeffs.grad.zero_()"
   ]
  },
  {
   "cell_type": "code",
   "execution_count": 46,
   "id": "7ba9ba43",
   "metadata": {
    "execution": {
     "iopub.execute_input": "2023-07-04T11:27:34.658061Z",
     "iopub.status.busy": "2023-07-04T11:27:34.657772Z",
     "iopub.status.idle": "2023-07-04T11:27:34.662623Z",
     "shell.execute_reply": "2023-07-04T11:27:34.661962Z"
    },
    "papermill": {
     "duration": 0.14308,
     "end_time": "2023-07-04T11:27:34.664153",
     "exception": false,
     "start_time": "2023-07-04T11:27:34.521073",
     "status": "completed"
    },
    "tags": []
   },
   "outputs": [
    {
     "data": {
      "text/plain": [
       "tensor([0., 0., 0., 0., 0., 0., 0., 0., 0., 0., 0., 0.])"
      ]
     },
     "execution_count": 46,
     "metadata": {},
     "output_type": "execute_result"
    }
   ],
   "source": [
    "coeffs.grad"
   ]
  },
  {
   "cell_type": "markdown",
   "id": "d9f031ad",
   "metadata": {
    "papermill": {
     "duration": 0.144864,
     "end_time": "2023-07-04T11:27:34.965226",
     "exception": false,
     "start_time": "2023-07-04T11:27:34.820362",
     "status": "completed"
    },
    "tags": []
   },
   "source": [
    "As you see, our `.grad` values are have doubled. That's because it added the gradients a second time. For this reason, after we use the gradients to do a gradient descent step, we need to set them back to zero.\n",
    "\n",
    "We can now do one gradient descent step, and check that our loss decreases:"
   ]
  },
  {
   "cell_type": "code",
   "execution_count": 47,
   "id": "2a178714",
   "metadata": {
    "execution": {
     "iopub.execute_input": "2023-07-04T11:27:35.260151Z",
     "iopub.status.busy": "2023-07-04T11:27:35.259812Z",
     "iopub.status.idle": "2023-07-04T11:27:35.266819Z",
     "shell.execute_reply": "2023-07-04T11:27:35.266148Z"
    },
    "papermill": {
     "duration": 0.148248,
     "end_time": "2023-07-04T11:27:35.268471",
     "exception": false,
     "start_time": "2023-07-04T11:27:35.120223",
     "status": "completed"
    },
    "tags": []
   },
   "outputs": [
    {
     "name": "stdout",
     "output_type": "stream",
     "text": [
      "tensor(0.5197)\n"
     ]
    }
   ],
   "source": [
    "loss = calc_loss(coeffs, t_indep, t_dep)\n",
    "loss.backward()\n",
    "with torch.no_grad():\n",
    "    coeffs.sub_(coeffs.grad * 0.1)\n",
    "    coeffs.grad.zero_()\n",
    "    print(calc_loss(coeffs, t_indep, t_dep))"
   ]
  },
  {
   "cell_type": "markdown",
   "id": "df44de9f",
   "metadata": {
    "papermill": {
     "duration": 0.135861,
     "end_time": "2023-07-04T11:27:35.541758",
     "exception": false,
     "start_time": "2023-07-04T11:27:35.405897",
     "status": "completed"
    },
    "tags": []
   },
   "source": [
    "Note that `a.sub_(b)` subtracts `b` from `a` in-place. In PyTorch, any method that ends in `_` changes its object in-place. Similarly, `a.zero_()` sets all elements of a tensor to zero."
   ]
  },
  {
   "cell_type": "markdown",
   "id": "cba9fabe",
   "metadata": {
    "papermill": {
     "duration": 0.139948,
     "end_time": "2023-07-04T11:27:35.821663",
     "exception": false,
     "start_time": "2023-07-04T11:27:35.681715",
     "status": "completed"
    },
    "tags": []
   },
   "source": [
    "## Training the linear model"
   ]
  },
  {
   "cell_type": "markdown",
   "id": "ccd9ee58",
   "metadata": {
    "papermill": {
     "duration": 0.138781,
     "end_time": "2023-07-04T11:27:36.098642",
     "exception": false,
     "start_time": "2023-07-04T11:27:35.959861",
     "status": "completed"
    },
    "tags": []
   },
   "source": [
    "Before we begin training our model, we'll need to ensure that we hold out a validation set for calculating our metrics (for details on this, see \"[Getting started with NLP for absolute beginners](https://www.kaggle.com/code/jhoward/getting-started-with-nlp-for-absolute-beginners#Test-and-validation-sets)\".\n",
    "\n",
    "There's lots of different ways we can do this. In the next notebook we'll be comparing our approach here to what the fastai library does, so we'll want to ensure we split the data in the same way. So let's use `RandomSplitter` to get indices that will split our data into training and validation sets:"
   ]
  },
  {
   "cell_type": "code",
   "execution_count": 48,
   "id": "b32374aa",
   "metadata": {
    "execution": {
     "iopub.execute_input": "2023-07-04T11:27:36.378819Z",
     "iopub.status.busy": "2023-07-04T11:27:36.378338Z",
     "iopub.status.idle": "2023-07-04T11:27:37.666711Z",
     "shell.execute_reply": "2023-07-04T11:27:37.665900Z"
    },
    "papermill": {
     "duration": 1.431584,
     "end_time": "2023-07-04T11:27:37.668895",
     "exception": false,
     "start_time": "2023-07-04T11:27:36.237311",
     "status": "completed"
    },
    "tags": []
   },
   "outputs": [],
   "source": [
    "from fastai.data.transforms import RandomSplitter\n",
    "trn_split,val_split=RandomSplitter(seed=42)(df)"
   ]
  },
  {
   "cell_type": "code",
   "execution_count": 49,
   "id": "19e5e426",
   "metadata": {
    "execution": {
     "iopub.execute_input": "2023-07-04T11:27:37.944993Z",
     "iopub.status.busy": "2023-07-04T11:27:37.944683Z",
     "iopub.status.idle": "2023-07-04T11:27:37.948828Z",
     "shell.execute_reply": "2023-07-04T11:27:37.948366Z"
    },
    "papermill": {
     "duration": 0.145267,
     "end_time": "2023-07-04T11:27:37.950867",
     "exception": false,
     "start_time": "2023-07-04T11:27:37.805600",
     "status": "completed"
    },
    "tags": []
   },
   "outputs": [
    {
     "data": {
      "text/plain": [
       "(#713) [788,525,821,253,374,98,215,313,281,305...]"
      ]
     },
     "execution_count": 49,
     "metadata": {},
     "output_type": "execute_result"
    }
   ],
   "source": [
    "trn_split"
   ]
  },
  {
   "cell_type": "code",
   "execution_count": 50,
   "id": "0c08b828",
   "metadata": {
    "execution": {
     "iopub.execute_input": "2023-07-04T11:27:38.224468Z",
     "iopub.status.busy": "2023-07-04T11:27:38.223742Z",
     "iopub.status.idle": "2023-07-04T11:27:38.229382Z",
     "shell.execute_reply": "2023-07-04T11:27:38.228361Z"
    },
    "papermill": {
     "duration": 0.143485,
     "end_time": "2023-07-04T11:27:38.231255",
     "exception": false,
     "start_time": "2023-07-04T11:27:38.087770",
     "status": "completed"
    },
    "tags": []
   },
   "outputs": [
    {
     "data": {
      "text/plain": [
       "(#178) [303,778,531,385,134,476,691,443,386,128...]"
      ]
     },
     "execution_count": 50,
     "metadata": {},
     "output_type": "execute_result"
    }
   ],
   "source": [
    "val_split"
   ]
  },
  {
   "cell_type": "markdown",
   "id": "cf792bdb",
   "metadata": {
    "papermill": {
     "duration": 0.138801,
     "end_time": "2023-07-04T11:27:38.507789",
     "exception": false,
     "start_time": "2023-07-04T11:27:38.368988",
     "status": "completed"
    },
    "tags": []
   },
   "source": [
    "Now we can apply those indices to our independent and dependent variables:"
   ]
  },
  {
   "cell_type": "code",
   "execution_count": 51,
   "id": "b23c2a66",
   "metadata": {
    "execution": {
     "iopub.execute_input": "2023-07-04T11:27:38.780882Z",
     "iopub.status.busy": "2023-07-04T11:27:38.780367Z",
     "iopub.status.idle": "2023-07-04T11:27:38.791356Z",
     "shell.execute_reply": "2023-07-04T11:27:38.790533Z"
    },
    "papermill": {
     "duration": 0.149304,
     "end_time": "2023-07-04T11:27:38.793339",
     "exception": false,
     "start_time": "2023-07-04T11:27:38.644035",
     "status": "completed"
    },
    "tags": []
   },
   "outputs": [
    {
     "data": {
      "text/plain": [
       "(713, 178)"
      ]
     },
     "execution_count": 51,
     "metadata": {},
     "output_type": "execute_result"
    }
   ],
   "source": [
    "trn_indep,val_indep = t_indep[trn_split],t_indep[val_split]\n",
    "trn_dep,val_dep = t_dep[trn_split],t_dep[val_split]\n",
    "len(trn_indep),len(val_indep)"
   ]
  },
  {
   "cell_type": "code",
   "execution_count": 52,
   "id": "dca24635",
   "metadata": {
    "execution": {
     "iopub.execute_input": "2023-07-04T11:27:39.096599Z",
     "iopub.status.busy": "2023-07-04T11:27:39.096310Z",
     "iopub.status.idle": "2023-07-04T11:27:39.104387Z",
     "shell.execute_reply": "2023-07-04T11:27:39.103787Z"
    },
    "papermill": {
     "duration": 0.17361,
     "end_time": "2023-07-04T11:27:39.106676",
     "exception": false,
     "start_time": "2023-07-04T11:27:38.933066",
     "status": "completed"
    },
    "tags": []
   },
   "outputs": [
    {
     "data": {
      "text/plain": [
       "tensor([1, 0, 1, 0, 0, 1, 1, 0, 0, 1, 1, 0, 0, 0, 1, 1, 1, 0, 0, 0, 0, 1, 0, 0, 1, 0, 0, 0, 0, 1, 1, 0, 1, 1, 0, 0, 0, 1, 0, 0, 1, 1, 0, 0,\n",
       "        1, 1, 0, 0, 1, 0, 0, 0, 1, 0, 0, 0, 1, 0, 0, 0, 0, 0, 1, 0, 0, 1, 1, 1, 1, 1, 1, 1, 0, 0, 0, 0, 1, 0, 1, 0, 0, 0, 1, 1, 0, 1, 0, 0,\n",
       "        0, 0, 0, 0, 0, 1, 1, 1, 1, 0, 0, 1, 1, 0, 0, 1, 0, 0, 0, 0, 0, 0, 0, 1, 0, 1, 1, 0, 1, 0, 0, 1, 0, 1, 0, 1, 1, 0, 0, 1, 0, 0, 0, 0,\n",
       "        0, 0, 0, 0, 1, 0, 1, 0, 0, 1, 1, 0, 1, 1, 0, 0, 1, 0, 0, 1, 1, 0, 0, 1, 0, 0, 0, 1, 0, 1, 0, 0, 0, 1, 1, 0, 0, 0, 1, 0, 0, 1, 0, 1,\n",
       "        1, 1, 0, 0, 0, 0, 1, 1, 1, 1, 0, 1, 1, 0, 0, 0, 1, 1, 0, 0, 0, 0, 1, 1, 1, 1, 0, 0, 0, 1, 0, 0, 1, 0, 0, 1, 0, 0, 0, 0, 0, 0, 1, 0,\n",
       "        0, 0, 0, 0, 1, 1, 1, 0, 0, 0, 1, 0, 0, 0, 0, 0, 1, 0, 1, 0, 1, 0, 0, 0, 0, 0, 1, 1, 0, 0, 0, 0, 1, 1, 1, 0, 1, 1, 1, 0, 0, 1, 0, 0,\n",
       "        1, 0, 1, 0, 0, 0, 0, 1, 0, 1, 1, 0, 0, 1, 1, 1, 1, 0, 0, 1, 1, 1, 0, 1, 0, 1, 1, 0, 0, 0, 1, 1, 1, 0, 0, 1, 0, 1, 1, 1, 0, 1, 1, 0,\n",
       "        1, 0, 0, 0, 1, 1, 1, 0, 0, 0, 0, 1, 0, 0, 0, 0, 0, 1, 1, 1, 0, 1, 0, 0, 1, 1, 0, 1, 1, 0, 1, 1, 0, 0, 0, 0, 0, 0, 1, 0, 0, 0, 1, 0,\n",
       "        0, 0, 0, 0, 0, 0, 0, 1, 0, 0, 0, 1, 1, 0, 0, 1, 0, 1, 0, 1, 0, 0, 1, 1, 1, 0, 0, 1, 0, 0, 0, 1, 0, 1, 0, 0, 1, 0, 1, 0, 1, 0, 0, 1,\n",
       "        0, 1, 1, 0, 0, 0, 0, 1, 0, 0, 0, 0, 0, 0, 1, 1, 1, 1, 1, 1, 0, 1, 0, 1, 0, 1, 0, 0, 1, 1, 0, 0, 0, 1, 0, 0, 0, 0, 1, 0, 0, 1, 0, 0,\n",
       "        0, 1, 0, 1, 0, 0, 1, 0, 1, 0, 1, 1, 0, 0, 0, 0, 0, 0, 1, 1, 1, 1, 1, 0, 1, 0, 1, 0, 0, 1, 1, 1, 0, 0, 0, 0, 0, 1, 1, 0, 0, 0, 1, 1,\n",
       "        0, 0, 0, 0, 0, 1, 1, 1, 0, 0, 0, 1, 0, 1, 1, 1, 1, 1, 0, 0, 1, 1, 0, 0, 1, 0, 0, 1, 0, 1, 0, 1, 0, 0, 1, 1, 1, 0, 0, 0, 0, 0, 0, 0,\n",
       "        1, 0, 0, 0, 0, 1, 1, 1, 0, 0, 0, 1, 0, 0, 1, 0, 0, 0, 0, 0, 0, 0, 0, 1, 0, 0, 1, 0, 0, 1, 0, 0, 0, 1, 0, 0, 0, 0, 0, 1, 1, 0, 1, 1,\n",
       "        0, 0, 0, 0, 1, 0, 1, 1, 0, 0, 0, 0, 0, 1, 0, 0, 0, 1, 0, 0, 0, 0, 1, 0, 0, 0, 0, 0, 0, 1, 1, 0, 1, 0, 0, 0, 1, 0, 0, 1, 0, 1, 1, 0,\n",
       "        0, 0, 0, 1, 0, 0, 0, 0, 0, 0, 0, 0, 0, 0, 1, 1, 0, 0, 0, 0, 1, 0, 1, 0, 0, 1, 0, 0, 1, 0, 0, 0, 1, 1, 1, 0, 0, 0, 1, 0, 0, 0, 1, 0,\n",
       "        1, 0, 1, 1, 0, 0, 0, 0, 0, 0, 0, 0, 0, 0, 1, 0, 1, 0, 1, 0, 0, 1, 0, 0, 0, 0, 1, 0, 1, 0, 0, 0, 0, 1, 1, 1, 0, 0, 0, 0, 1, 0, 0, 0,\n",
       "        1, 1, 0, 0, 0, 0, 1, 0, 0])"
      ]
     },
     "execution_count": 52,
     "metadata": {},
     "output_type": "execute_result"
    }
   ],
   "source": [
    "trn_dep"
   ]
  },
  {
   "cell_type": "code",
   "execution_count": 53,
   "id": "b8df19eb",
   "metadata": {
    "execution": {
     "iopub.execute_input": "2023-07-04T11:27:39.388155Z",
     "iopub.status.busy": "2023-07-04T11:27:39.387704Z",
     "iopub.status.idle": "2023-07-04T11:27:39.393542Z",
     "shell.execute_reply": "2023-07-04T11:27:39.392794Z"
    },
    "papermill": {
     "duration": 0.149133,
     "end_time": "2023-07-04T11:27:39.395247",
     "exception": false,
     "start_time": "2023-07-04T11:27:39.246114",
     "status": "completed"
    },
    "tags": []
   },
   "outputs": [
    {
     "data": {
      "text/plain": [
       "tensor([[0.0125, 0.1250, 0.3333, 0.4922, 1.0000, 0.0000, 0.0000, 0.0000, 1.0000, 0.0000, 0.0000, 1.0000],\n",
       "        [0.5063, 0.0000, 0.0000, 0.3476, 1.0000, 0.0000, 0.0000, 0.0000, 1.0000, 0.0000, 1.0000, 0.0000],\n",
       "        [0.3375, 0.0000, 0.0000, 0.3634, 1.0000, 0.0000, 0.0000, 0.0000, 1.0000, 0.0000, 0.0000, 1.0000],\n",
       "        [0.3750, 0.1250, 0.0000, 0.4549, 1.0000, 0.0000, 0.0000, 0.0000, 1.0000, 0.0000, 0.0000, 1.0000],\n",
       "        [0.0375, 0.3750, 0.1667, 0.4958, 0.0000, 1.0000, 0.0000, 0.0000, 1.0000, 0.0000, 0.0000, 1.0000],\n",
       "        [0.4250, 0.0000, 0.1667, 0.5092, 0.0000, 1.0000, 0.0000, 1.0000, 0.0000, 0.0000, 0.0000, 1.0000],\n",
       "        [0.3875, 0.1250, 0.0000, 0.7593, 0.0000, 1.0000, 1.0000, 0.0000, 0.0000, 1.0000, 0.0000, 0.0000],\n",
       "        ...,\n",
       "        [0.2250, 0.0000, 0.0000, 0.3480, 0.0000, 1.0000, 0.0000, 0.0000, 1.0000, 0.0000, 0.0000, 1.0000],\n",
       "        [0.4500, 0.0000, 0.0000, 0.0000, 1.0000, 0.0000, 0.0000, 0.0000, 1.0000, 0.0000, 0.0000, 1.0000],\n",
       "        [0.2625, 0.0000, 0.0000, 0.3507, 1.0000, 0.0000, 0.0000, 0.0000, 1.0000, 0.0000, 0.0000, 1.0000],\n",
       "        [0.5875, 0.0000, 0.0000, 0.5891, 1.0000, 0.0000, 1.0000, 0.0000, 0.0000, 0.0000, 0.0000, 1.0000],\n",
       "        [0.3000, 0.0000, 0.0000, 0.3499, 0.0000, 1.0000, 0.0000, 0.0000, 1.0000, 0.0000, 1.0000, 0.0000],\n",
       "        [0.2125, 0.1250, 0.1667, 0.3377, 1.0000, 0.0000, 0.0000, 0.0000, 1.0000, 1.0000, 0.0000, 0.0000],\n",
       "        [0.4500, 0.0000, 0.0000, 0.4229, 1.0000, 0.0000, 0.0000, 1.0000, 0.0000, 0.0000, 0.0000, 1.0000]])"
      ]
     },
     "execution_count": 53,
     "metadata": {},
     "output_type": "execute_result"
    }
   ],
   "source": [
    "trn_indep"
   ]
  },
  {
   "cell_type": "markdown",
   "id": "9f4702c1",
   "metadata": {
    "papermill": {
     "duration": 0.138557,
     "end_time": "2023-07-04T11:27:39.673686",
     "exception": false,
     "start_time": "2023-07-04T11:27:39.535129",
     "status": "completed"
    },
    "tags": []
   },
   "source": [
    "We'll create functions for the three things we did manually above: updating `coeffs`, doing one full gradient descent step, and initialising `coeffs` to random numbers:"
   ]
  },
  {
   "cell_type": "code",
   "execution_count": 54,
   "id": "a3962464",
   "metadata": {
    "execution": {
     "iopub.execute_input": "2023-07-04T11:27:39.953883Z",
     "iopub.status.busy": "2023-07-04T11:27:39.953601Z",
     "iopub.status.idle": "2023-07-04T11:27:39.957529Z",
     "shell.execute_reply": "2023-07-04T11:27:39.956700Z"
    },
    "papermill": {
     "duration": 0.147355,
     "end_time": "2023-07-04T11:27:39.959124",
     "exception": false,
     "start_time": "2023-07-04T11:27:39.811769",
     "status": "completed"
    },
    "tags": []
   },
   "outputs": [],
   "source": [
    "def update_coeffs(coeffs, lr):\n",
    "    coeffs.sub_(coeffs.grad * lr)\n",
    "    coeffs.grad.zero_()"
   ]
  },
  {
   "cell_type": "code",
   "execution_count": 55,
   "id": "549313c8",
   "metadata": {
    "execution": {
     "iopub.execute_input": "2023-07-04T11:27:40.239168Z",
     "iopub.status.busy": "2023-07-04T11:27:40.238373Z",
     "iopub.status.idle": "2023-07-04T11:27:40.242509Z",
     "shell.execute_reply": "2023-07-04T11:27:40.242084Z"
    },
    "papermill": {
     "duration": 0.147411,
     "end_time": "2023-07-04T11:27:40.244070",
     "exception": false,
     "start_time": "2023-07-04T11:27:40.096659",
     "status": "completed"
    },
    "tags": []
   },
   "outputs": [],
   "source": [
    "def one_epoch(coeffs, lr):\n",
    "    loss = calc_loss(coeffs, trn_indep, trn_dep)\n",
    "    loss.backward()\n",
    "    with torch.no_grad(): update_coeffs(coeffs, lr)\n",
    "    print(f\"{loss:.3f}\", end=\"; \")"
   ]
  },
  {
   "cell_type": "code",
   "execution_count": 56,
   "id": "95fa7410",
   "metadata": {
    "execution": {
     "iopub.execute_input": "2023-07-04T11:27:40.525262Z",
     "iopub.status.busy": "2023-07-04T11:27:40.524862Z",
     "iopub.status.idle": "2023-07-04T11:27:40.529418Z",
     "shell.execute_reply": "2023-07-04T11:27:40.528820Z"
    },
    "papermill": {
     "duration": 0.146397,
     "end_time": "2023-07-04T11:27:40.531177",
     "exception": false,
     "start_time": "2023-07-04T11:27:40.384780",
     "status": "completed"
    },
    "tags": []
   },
   "outputs": [],
   "source": [
    "def init_coeffs(): return (torch.rand(n_coeff)-0.5).requires_grad_()"
   ]
  },
  {
   "cell_type": "markdown",
   "id": "87155cee",
   "metadata": {
    "papermill": {
     "duration": 0.140594,
     "end_time": "2023-07-04T11:27:40.868195",
     "exception": false,
     "start_time": "2023-07-04T11:27:40.727601",
     "status": "completed"
    },
    "tags": []
   },
   "source": [
    "We can now use these functions to train our model:"
   ]
  },
  {
   "cell_type": "code",
   "execution_count": 57,
   "id": "5be3c1f9",
   "metadata": {
    "execution": {
     "iopub.execute_input": "2023-07-04T11:27:41.158642Z",
     "iopub.status.busy": "2023-07-04T11:27:41.157888Z",
     "iopub.status.idle": "2023-07-04T11:27:41.162623Z",
     "shell.execute_reply": "2023-07-04T11:27:41.161429Z"
    },
    "papermill": {
     "duration": 0.153409,
     "end_time": "2023-07-04T11:27:41.164734",
     "exception": false,
     "start_time": "2023-07-04T11:27:41.011325",
     "status": "completed"
    },
    "tags": []
   },
   "outputs": [],
   "source": [
    "def train_model(epochs=30, lr=0.01):\n",
    "    torch.manual_seed(442)\n",
    "    coeffs = init_coeffs()\n",
    "    for i in range(epochs): one_epoch(coeffs, lr=lr)\n",
    "    return coeffs"
   ]
  },
  {
   "cell_type": "markdown",
   "id": "6d42ba19",
   "metadata": {
    "papermill": {
     "duration": 0.140146,
     "end_time": "2023-07-04T11:27:41.443336",
     "exception": false,
     "start_time": "2023-07-04T11:27:41.303190",
     "status": "completed"
    },
    "tags": []
   },
   "source": [
    "Let's try it. Our loss will print at the end of every step, so we hope we'll see it going down:"
   ]
  },
  {
   "cell_type": "code",
   "execution_count": 58,
   "id": "cec5a28e",
   "metadata": {
    "execution": {
     "iopub.execute_input": "2023-07-04T11:27:41.729137Z",
     "iopub.status.busy": "2023-07-04T11:27:41.728635Z",
     "iopub.status.idle": "2023-07-04T11:27:41.740112Z",
     "shell.execute_reply": "2023-07-04T11:27:41.739096Z"
    },
    "papermill": {
     "duration": 0.157062,
     "end_time": "2023-07-04T11:27:41.742157",
     "exception": false,
     "start_time": "2023-07-04T11:27:41.585095",
     "status": "completed"
    },
    "tags": []
   },
   "outputs": [
    {
     "name": "stdout",
     "output_type": "stream",
     "text": [
      "0.536; 0.502; 0.477; 0.454; 0.431; 0.409; 0.388; 0.367; 0.349; 0.336; 0.330; 0.326; 0.329; 0.304; 0.314; 0.296; 0.300; 0.289; "
     ]
    }
   ],
   "source": [
    "coeffs = train_model(18, lr=0.2)"
   ]
  },
  {
   "cell_type": "markdown",
   "id": "319eda01",
   "metadata": {
    "papermill": {
     "duration": 0.136911,
     "end_time": "2023-07-04T11:27:42.019251",
     "exception": false,
     "start_time": "2023-07-04T11:27:41.882340",
     "status": "completed"
    },
    "tags": []
   },
   "source": [
    "It does!\n",
    "\n",
    "Let's take a look at the coefficients for each column:"
   ]
  },
  {
   "cell_type": "code",
   "execution_count": 59,
   "id": "97bc1a14",
   "metadata": {
    "execution": {
     "iopub.execute_input": "2023-07-04T11:27:42.305302Z",
     "iopub.status.busy": "2023-07-04T11:27:42.304344Z",
     "iopub.status.idle": "2023-07-04T11:27:42.313982Z",
     "shell.execute_reply": "2023-07-04T11:27:42.313159Z"
    },
    "papermill": {
     "duration": 0.154568,
     "end_time": "2023-07-04T11:27:42.315806",
     "exception": false,
     "start_time": "2023-07-04T11:27:42.161238",
     "status": "completed"
    },
    "tags": []
   },
   "outputs": [
    {
     "data": {
      "text/plain": [
       "{'Age': tensor(-0.2694),\n",
       " 'SibSp': tensor(0.0901),\n",
       " 'Parch': tensor(0.2359),\n",
       " 'LogFare': tensor(0.0280),\n",
       " 'Sex_male': tensor(-0.3990),\n",
       " 'Sex_female': tensor(0.2345),\n",
       " 'Pclass_1': tensor(0.7232),\n",
       " 'Pclass_2': tensor(0.4112),\n",
       " 'Pclass_3': tensor(0.3601),\n",
       " 'Embarked_C': tensor(0.0955),\n",
       " 'Embarked_Q': tensor(0.2395),\n",
       " 'Embarked_S': tensor(0.2122)}"
      ]
     },
     "execution_count": 59,
     "metadata": {},
     "output_type": "execute_result"
    }
   ],
   "source": [
    "def show_coeffs(): return dict(zip(indep_cols, coeffs.requires_grad_(False)))\n",
    "show_coeffs()"
   ]
  },
  {
   "cell_type": "markdown",
   "id": "ff515b0f",
   "metadata": {
    "papermill": {
     "duration": 0.143719,
     "end_time": "2023-07-04T11:27:42.604282",
     "exception": false,
     "start_time": "2023-07-04T11:27:42.460563",
     "status": "completed"
    },
    "tags": []
   },
   "source": [
    "## Measuring accuracy"
   ]
  },
  {
   "cell_type": "markdown",
   "id": "31774b63",
   "metadata": {
    "papermill": {
     "duration": 0.140228,
     "end_time": "2023-07-04T11:27:42.886919",
     "exception": false,
     "start_time": "2023-07-04T11:27:42.746691",
     "status": "completed"
    },
    "tags": []
   },
   "source": [
    "The Kaggle competition is not, however, scored by absolute error (which is our loss function). It's scored by *accuracy* -- the proportion of rows where we correctly predict survival. Let's see how accurate we were on the validation set. First, calculate the predictions:"
   ]
  },
  {
   "cell_type": "code",
   "execution_count": 60,
   "id": "00eb2992",
   "metadata": {
    "execution": {
     "iopub.execute_input": "2023-07-04T11:27:43.171247Z",
     "iopub.status.busy": "2023-07-04T11:27:43.170986Z",
     "iopub.status.idle": "2023-07-04T11:27:43.175335Z",
     "shell.execute_reply": "2023-07-04T11:27:43.174274Z"
    },
    "papermill": {
     "duration": 0.149328,
     "end_time": "2023-07-04T11:27:43.177701",
     "exception": false,
     "start_time": "2023-07-04T11:27:43.028373",
     "status": "completed"
    },
    "tags": []
   },
   "outputs": [],
   "source": [
    "preds = calc_preds(coeffs, val_indep)"
   ]
  },
  {
   "cell_type": "code",
   "execution_count": 61,
   "id": "95f58672",
   "metadata": {
    "execution": {
     "iopub.execute_input": "2023-07-04T11:27:43.461881Z",
     "iopub.status.busy": "2023-07-04T11:27:43.461633Z",
     "iopub.status.idle": "2023-07-04T11:27:43.469040Z",
     "shell.execute_reply": "2023-07-04T11:27:43.468207Z"
    },
    "papermill": {
     "duration": 0.153306,
     "end_time": "2023-07-04T11:27:43.470847",
     "exception": false,
     "start_time": "2023-07-04T11:27:43.317541",
     "status": "completed"
    },
    "tags": []
   },
   "outputs": [
    {
     "data": {
      "text/plain": [
       "tensor([ 0.8160,  0.1295, -0.0148,  0.1831,  0.1520,  0.1350,  0.7279,  0.7754,  0.3222,  0.6740,  0.0753,  0.0389,  0.2216,  0.7631,\n",
       "         0.0678,  0.3997,  0.3324,  0.8278,  0.1078,  0.7126,  0.1023,  0.3627,  0.9937,  0.8050,  0.1153,  0.1455,  0.8652,  0.3425,\n",
       "         0.1262,  0.7630,  0.8877,  0.9052,  0.1191,  0.0804,  0.7958,  0.9393,  0.3941,  0.9915,  0.1023,  0.7437,  0.1713,  0.1023,\n",
       "         0.1949,  0.9650,  0.1158,  0.8820,  0.1039,  0.1551,  0.1290,  0.7422,  0.4583,  0.2953,  0.2823,  0.0984,  0.1477,  0.1275,\n",
       "         0.1295,  0.0759,  0.1124,  0.0900,  0.3338,  0.1366,  0.2824,  0.1124,  0.7358,  0.5246,  0.1554,  0.0564,  0.1290,  0.7183,\n",
       "         0.0955,  0.7004,  0.1309,  0.1030,  0.4703,  0.1291,  0.1023,  0.4399,  0.1722,  0.0785,  0.2994,  1.1087,  0.1056,  0.1019,\n",
       "         0.7005,  0.1302,  0.3914,  1.2342,  0.6726,  0.1587,  0.0755,  0.1023,  0.9732, -0.0350,  0.7629, -0.0018,  0.0842,  0.7901,\n",
       "         0.7697,  0.1458,  0.1730,  0.7630,  0.0753,  0.0821,  0.4615,  0.0948,  0.0828,  0.7903,  0.3671,  0.0962,  0.8402,  0.7269,\n",
       "         0.4710,  1.1176,  0.1023,  0.8819,  0.7904,  0.1295,  0.0415,  0.9489,  0.2204,  0.2879,  0.1295,  0.9293, -0.0148,  0.4541,\n",
       "         0.7324,  0.7290,  0.1299,  0.1022,  1.1361,  0.1165,  0.7627,  0.7603,  1.0061,  0.1192,  0.0377,  0.0862,  0.0249,  0.7539,\n",
       "         0.1352,  0.9090,  0.0311,  0.1025,  0.8138,  0.9887,  0.0555,  0.7021,  1.1720,  0.5902,  0.7819,  0.8417,  0.7981,  0.2733,\n",
       "         0.1566,  0.2803,  0.1023,  0.7614,  0.1217,  0.1047,  0.9900,  0.0363,  0.1174,  0.5266,  0.9558,  1.0885,  0.8397,  0.7283,\n",
       "         0.5145,  0.3667,  0.9276,  0.1216,  1.1260,  0.1030,  0.0349,  1.1465,  0.4711,  0.2062])"
      ]
     },
     "execution_count": 61,
     "metadata": {},
     "output_type": "execute_result"
    }
   ],
   "source": [
    "preds"
   ]
  },
  {
   "cell_type": "markdown",
   "id": "6f65b63e",
   "metadata": {
    "papermill": {
     "duration": 0.141515,
     "end_time": "2023-07-04T11:27:43.754669",
     "exception": false,
     "start_time": "2023-07-04T11:27:43.613154",
     "status": "completed"
    },
    "tags": []
   },
   "source": [
    "We'll assume that any passenger with a score of over `0.5` is predicted to survive. So that means we're correct for each row where `preds>0.5` is the same as the dependent variable:"
   ]
  },
  {
   "cell_type": "code",
   "execution_count": 62,
   "id": "84416f62",
   "metadata": {
    "execution": {
     "iopub.execute_input": "2023-07-04T11:27:44.038403Z",
     "iopub.status.busy": "2023-07-04T11:27:44.038165Z",
     "iopub.status.idle": "2023-07-04T11:27:44.045033Z",
     "shell.execute_reply": "2023-07-04T11:27:44.044406Z"
    },
    "papermill": {
     "duration": 0.151037,
     "end_time": "2023-07-04T11:27:44.046908",
     "exception": false,
     "start_time": "2023-07-04T11:27:43.895871",
     "status": "completed"
    },
    "tags": []
   },
   "outputs": [
    {
     "data": {
      "text/plain": [
       "tensor([1, 0, 0, 0, 0, 0, 1, 1, 0, 1, 1, 1, 1, 1, 0, 1, 0, 1, 0, 1, 0, 0, 1, 1, 0, 0, 1, 0, 0, 1, 1, 0, 0, 0, 1, 0, 0, 1, 0, 0, 1, 0, 0, 1,\n",
       "        0, 0, 1, 0, 0, 1, 0, 0, 0, 0, 0, 0, 0, 0, 0, 0, 0, 0, 1, 0, 0, 0, 0, 0, 0, 1, 0, 0, 0, 0, 0, 0, 0, 1, 0, 0, 1, 1, 0, 0, 1, 0, 0, 1,\n",
       "        1, 0, 0, 0, 1, 0, 1, 0, 0, 1, 1, 0, 0, 1, 0, 0, 1, 1, 1, 1, 1, 0, 1, 0, 1, 1, 0, 1, 0, 0, 0, 1, 0, 1, 0, 1, 0, 0, 0, 1, 0, 0, 1, 0,\n",
       "        1, 1, 1, 1, 0, 0, 0, 1, 0, 1, 0, 0, 0, 1, 0, 1, 1, 0, 0, 0, 1, 0, 1, 0, 0, 0, 1, 0, 1, 0, 0, 1, 1, 1, 1, 1, 0, 0, 0, 0, 1, 0, 1, 1,\n",
       "        1, 1])"
      ]
     },
     "execution_count": 62,
     "metadata": {},
     "output_type": "execute_result"
    }
   ],
   "source": [
    "val_dep"
   ]
  },
  {
   "cell_type": "code",
   "execution_count": 63,
   "id": "adfe7ac2",
   "metadata": {
    "execution": {
     "iopub.execute_input": "2023-07-04T11:27:44.331695Z",
     "iopub.status.busy": "2023-07-04T11:27:44.331406Z",
     "iopub.status.idle": "2023-07-04T11:27:44.337503Z",
     "shell.execute_reply": "2023-07-04T11:27:44.336544Z"
    },
    "papermill": {
     "duration": 0.152461,
     "end_time": "2023-07-04T11:27:44.339666",
     "exception": false,
     "start_time": "2023-07-04T11:27:44.187205",
     "status": "completed"
    },
    "tags": []
   },
   "outputs": [
    {
     "data": {
      "text/plain": [
       "tensor([ True,  True,  True,  True,  True,  True,  True,  True,  True,  True, False, False, False,  True,  True, False,  True,  True,  True,\n",
       "         True])"
      ]
     },
     "execution_count": 63,
     "metadata": {},
     "output_type": "execute_result"
    }
   ],
   "source": [
    "results = val_dep.bool()==(preds>0.5)\n",
    "results[:20]"
   ]
  },
  {
   "cell_type": "markdown",
   "id": "6de8abe8",
   "metadata": {
    "papermill": {
     "duration": 0.139696,
     "end_time": "2023-07-04T11:27:44.619440",
     "exception": false,
     "start_time": "2023-07-04T11:27:44.479744",
     "status": "completed"
    },
    "tags": []
   },
   "source": [
    "Let's see what our average accuracy is:"
   ]
  },
  {
   "cell_type": "code",
   "execution_count": 64,
   "id": "267b0e08",
   "metadata": {
    "execution": {
     "iopub.execute_input": "2023-07-04T11:27:44.904164Z",
     "iopub.status.busy": "2023-07-04T11:27:44.903875Z",
     "iopub.status.idle": "2023-07-04T11:27:44.910497Z",
     "shell.execute_reply": "2023-07-04T11:27:44.909658Z"
    },
    "papermill": {
     "duration": 0.15141,
     "end_time": "2023-07-04T11:27:44.912548",
     "exception": false,
     "start_time": "2023-07-04T11:27:44.761138",
     "status": "completed"
    },
    "tags": []
   },
   "outputs": [
    {
     "data": {
      "text/plain": [
       "tensor(0.7865)"
      ]
     },
     "execution_count": 64,
     "metadata": {},
     "output_type": "execute_result"
    }
   ],
   "source": [
    "results.float().mean()"
   ]
  },
  {
   "cell_type": "markdown",
   "id": "ef4872f2",
   "metadata": {
    "papermill": {
     "duration": 0.145217,
     "end_time": "2023-07-04T11:27:45.200098",
     "exception": false,
     "start_time": "2023-07-04T11:27:45.054881",
     "status": "completed"
    },
    "tags": []
   },
   "source": [
    "That's not a bad start at all! We'll create a function so we can calcuate the accuracy easy for other models we train:"
   ]
  },
  {
   "cell_type": "code",
   "execution_count": 65,
   "id": "0bcb46cc",
   "metadata": {
    "execution": {
     "iopub.execute_input": "2023-07-04T11:27:45.490159Z",
     "iopub.status.busy": "2023-07-04T11:27:45.489881Z",
     "iopub.status.idle": "2023-07-04T11:27:45.496117Z",
     "shell.execute_reply": "2023-07-04T11:27:45.495153Z"
    },
    "papermill": {
     "duration": 0.153196,
     "end_time": "2023-07-04T11:27:45.497800",
     "exception": false,
     "start_time": "2023-07-04T11:27:45.344604",
     "status": "completed"
    },
    "tags": []
   },
   "outputs": [
    {
     "data": {
      "text/plain": [
       "tensor(0.7865)"
      ]
     },
     "execution_count": 65,
     "metadata": {},
     "output_type": "execute_result"
    }
   ],
   "source": [
    "def acc(coeffs): return (val_dep.bool()==(calc_preds(coeffs, val_indep)>0.5)).float().mean()\n",
    "acc(coeffs)"
   ]
  },
  {
   "cell_type": "markdown",
   "id": "ed8dbd66",
   "metadata": {
    "papermill": {
     "duration": 0.140881,
     "end_time": "2023-07-04T11:27:45.781728",
     "exception": false,
     "start_time": "2023-07-04T11:27:45.640847",
     "status": "completed"
    },
    "tags": []
   },
   "source": [
    "## Using sigmoid"
   ]
  },
  {
   "cell_type": "markdown",
   "id": "fccb258c",
   "metadata": {
    "papermill": {
     "duration": 0.141198,
     "end_time": "2023-07-04T11:27:46.066121",
     "exception": false,
     "start_time": "2023-07-04T11:27:45.924923",
     "status": "completed"
    },
    "tags": []
   },
   "source": [
    "Looking at our predictions, there's one obvious problem -- some of our predictions of the probability of survival are `>1`, and some are `<0`:"
   ]
  },
  {
   "cell_type": "code",
   "execution_count": 66,
   "id": "f1327909",
   "metadata": {
    "execution": {
     "iopub.execute_input": "2023-07-04T11:27:46.352451Z",
     "iopub.status.busy": "2023-07-04T11:27:46.352184Z",
     "iopub.status.idle": "2023-07-04T11:27:46.357710Z",
     "shell.execute_reply": "2023-07-04T11:27:46.356742Z"
    },
    "papermill": {
     "duration": 0.150292,
     "end_time": "2023-07-04T11:27:46.359595",
     "exception": false,
     "start_time": "2023-07-04T11:27:46.209303",
     "status": "completed"
    },
    "tags": []
   },
   "outputs": [
    {
     "data": {
      "text/plain": [
       "tensor([ 0.8160,  0.1295, -0.0148,  0.1831,  0.1520,  0.1350,  0.7279,  0.7754,  0.3222,  0.6740,  0.0753,  0.0389,  0.2216,  0.7631,\n",
       "         0.0678,  0.3997,  0.3324,  0.8278,  0.1078,  0.7126,  0.1023,  0.3627,  0.9937,  0.8050,  0.1153,  0.1455,  0.8652,  0.3425])"
      ]
     },
     "execution_count": 66,
     "metadata": {},
     "output_type": "execute_result"
    }
   ],
   "source": [
    "preds[:28]"
   ]
  },
  {
   "cell_type": "markdown",
   "id": "2e81198c",
   "metadata": {
    "papermill": {
     "duration": 0.141463,
     "end_time": "2023-07-04T11:27:46.645913",
     "exception": false,
     "start_time": "2023-07-04T11:27:46.504450",
     "status": "completed"
    },
    "tags": []
   },
   "source": [
    "To fix this, we should pass every prediction through the *sigmoid function*, which has a minimum at zero and maximum at one, and is defined as follows:"
   ]
  },
  {
   "cell_type": "code",
   "execution_count": 67,
   "id": "b5e8a3b6",
   "metadata": {
    "execution": {
     "iopub.execute_input": "2023-07-04T11:27:46.937331Z",
     "iopub.status.busy": "2023-07-04T11:27:46.936832Z",
     "iopub.status.idle": "2023-07-04T11:27:48.040083Z",
     "shell.execute_reply": "2023-07-04T11:27:48.039478Z"
    },
    "papermill": {
     "duration": 1.25165,
     "end_time": "2023-07-04T11:27:48.042103",
     "exception": false,
     "start_time": "2023-07-04T11:27:46.790453",
     "status": "completed"
    },
    "tags": []
   },
   "outputs": [
    {
     "data": {
      "image/png": "[encoded data removed]",
      "text/plain": [
       "<Figure size 432x288 with 1 Axes>"
      ]
     },
     "metadata": {
      "needs_background": "light"
     },
     "output_type": "display_data"
    }
   ],
   "source": [
    "import sympy\n",
    "sympy.plot(\"1/(1+exp(-x))\", xlim=(-5,5));"
   ]
  },
  {
   "cell_type": "markdown",
   "id": "456dac19",
   "metadata": {
    "papermill": {
     "duration": 0.144331,
     "end_time": "2023-07-04T11:27:48.335172",
     "exception": false,
     "start_time": "2023-07-04T11:27:48.190841",
     "status": "completed"
    },
    "tags": []
   },
   "source": [
    "PyTorch already defines that function for us, so we can modify `calc_preds` to use it:"
   ]
  },
  {
   "cell_type": "code",
   "execution_count": 68,
   "id": "3f5edb57",
   "metadata": {
    "execution": {
     "iopub.execute_input": "2023-07-04T11:27:48.625787Z",
     "iopub.status.busy": "2023-07-04T11:27:48.624955Z",
     "iopub.status.idle": "2023-07-04T11:27:48.629105Z",
     "shell.execute_reply": "2023-07-04T11:27:48.628349Z"
    },
    "papermill": {
     "duration": 0.15044,
     "end_time": "2023-07-04T11:27:48.630884",
     "exception": false,
     "start_time": "2023-07-04T11:27:48.480444",
     "status": "completed"
    },
    "tags": []
   },
   "outputs": [],
   "source": [
    "def calc_preds(coeffs, indeps): return torch.sigmoid((indeps*coeffs).sum(axis=1))"
   ]
  },
  {
   "cell_type": "markdown",
   "id": "fd88e063",
   "metadata": {
    "papermill": {
     "duration": 0.146825,
     "end_time": "2023-07-04T11:27:48.924386",
     "exception": false,
     "start_time": "2023-07-04T11:27:48.777561",
     "status": "completed"
    },
    "tags": []
   },
   "source": [
    "Let's train a new model now, using this updated function to calculate predictions:"
   ]
  },
  {
   "cell_type": "code",
   "execution_count": 69,
   "id": "18468166",
   "metadata": {
    "execution": {
     "iopub.execute_input": "2023-07-04T11:27:49.219431Z",
     "iopub.status.busy": "2023-07-04T11:27:49.219018Z",
     "iopub.status.idle": "2023-07-04T11:27:49.239549Z",
     "shell.execute_reply": "2023-07-04T11:27:49.238810Z"
    },
    "papermill": {
     "duration": 0.167801,
     "end_time": "2023-07-04T11:27:49.241679",
     "exception": false,
     "start_time": "2023-07-04T11:27:49.073878",
     "status": "completed"
    },
    "tags": []
   },
   "outputs": [
    {
     "name": "stdout",
     "output_type": "stream",
     "text": [
      "0.510; 0.327; 0.294; 0.207; 0.201; 0.199; 0.198; 0.197; 0.196; 0.196; 0.196; 0.195; 0.195; 0.195; 0.195; 0.195; 0.195; 0.195; 0.194; 0.194; 0.194; 0.194; 0.194; 0.194; 0.194; 0.194; 0.194; 0.194; 0.194; 0.194; "
     ]
    }
   ],
   "source": [
    "coeffs = train_model(lr=100)"
   ]
  },
  {
   "cell_type": "markdown",
   "id": "694bcbce",
   "metadata": {
    "papermill": {
     "duration": 0.148166,
     "end_time": "2023-07-04T11:27:49.535003",
     "exception": false,
     "start_time": "2023-07-04T11:27:49.386837",
     "status": "completed"
    },
    "tags": []
   },
   "source": [
    "The loss has improved by a lot. Let's check the accuracy:"
   ]
  },
  {
   "cell_type": "code",
   "execution_count": 70,
   "id": "d06d306c",
   "metadata": {
    "execution": {
     "iopub.execute_input": "2023-07-04T11:27:49.830390Z",
     "iopub.status.busy": "2023-07-04T11:27:49.830108Z",
     "iopub.status.idle": "2023-07-04T11:27:49.836433Z",
     "shell.execute_reply": "2023-07-04T11:27:49.835653Z"
    },
    "papermill": {
     "duration": 0.154013,
     "end_time": "2023-07-04T11:27:49.838058",
     "exception": false,
     "start_time": "2023-07-04T11:27:49.684045",
     "status": "completed"
    },
    "tags": []
   },
   "outputs": [
    {
     "data": {
      "text/plain": [
       "tensor(0.8258)"
      ]
     },
     "execution_count": 70,
     "metadata": {},
     "output_type": "execute_result"
    }
   ],
   "source": [
    "acc(coeffs)"
   ]
  },
  {
   "cell_type": "markdown",
   "id": "8e0f23fc",
   "metadata": {
    "papermill": {
     "duration": 0.143446,
     "end_time": "2023-07-04T11:27:50.126715",
     "exception": false,
     "start_time": "2023-07-04T11:27:49.983269",
     "status": "completed"
    },
    "tags": []
   },
   "source": [
    "That's improved too! Here's the coefficients of our trained model:"
   ]
  },
  {
   "cell_type": "code",
   "execution_count": 71,
   "id": "03561edd",
   "metadata": {
    "execution": {
     "iopub.execute_input": "2023-07-04T11:27:50.415577Z",
     "iopub.status.busy": "2023-07-04T11:27:50.415274Z",
     "iopub.status.idle": "2023-07-04T11:27:50.424861Z",
     "shell.execute_reply": "2023-07-04T11:27:50.423344Z"
    },
    "papermill": {
     "duration": 0.158892,
     "end_time": "2023-07-04T11:27:50.427144",
     "exception": false,
     "start_time": "2023-07-04T11:27:50.268252",
     "status": "completed"
    },
    "tags": []
   },
   "outputs": [
    {
     "data": {
      "text/plain": [
       "{'Age': tensor(-1.5061),\n",
       " 'SibSp': tensor(-1.1575),\n",
       " 'Parch': tensor(-0.4267),\n",
       " 'LogFare': tensor(0.2543),\n",
       " 'Sex_male': tensor(-10.3320),\n",
       " 'Sex_female': tensor(8.4185),\n",
       " 'Pclass_1': tensor(3.8389),\n",
       " 'Pclass_2': tensor(2.1398),\n",
       " 'Pclass_3': tensor(-6.2331),\n",
       " 'Embarked_C': tensor(1.4771),\n",
       " 'Embarked_Q': tensor(2.1168),\n",
       " 'Embarked_S': tensor(-4.7958)}"
      ]
     },
     "execution_count": 71,
     "metadata": {},
     "output_type": "execute_result"
    }
   ],
   "source": [
    "show_coeffs()"
   ]
  },
  {
   "cell_type": "markdown",
   "id": "f93421fd",
   "metadata": {
    "papermill": {
     "duration": 0.143467,
     "end_time": "2023-07-04T11:27:50.714458",
     "exception": false,
     "start_time": "2023-07-04T11:27:50.570991",
     "status": "completed"
    },
    "tags": []
   },
   "source": [
    "These coefficients seem reasonable -- in general, older people and males were less likely to survive, and first class passengers were more likely to survive."
   ]
  },
  {
   "cell_type": "markdown",
   "id": "309c1fd4",
   "metadata": {
    "papermill": {
     "duration": 0.145526,
     "end_time": "2023-07-04T11:27:51.006139",
     "exception": false,
     "start_time": "2023-07-04T11:27:50.860613",
     "status": "completed"
    },
    "tags": []
   },
   "source": [
    "## Submitting to Kaggle"
   ]
  },
  {
   "cell_type": "markdown",
   "id": "73a24939",
   "metadata": {
    "papermill": {
     "duration": 0.14409,
     "end_time": "2023-07-04T11:27:51.294504",
     "exception": false,
     "start_time": "2023-07-04T11:27:51.150414",
     "status": "completed"
    },
    "tags": []
   },
   "source": [
    "Now that we've got a trained model, we can prepare a submission to Kaggle. To do that, first we need to read the test set:"
   ]
  },
  {
   "cell_type": "code",
   "execution_count": 72,
   "id": "3363d0be",
   "metadata": {
    "execution": {
     "iopub.execute_input": "2023-07-04T11:27:51.588251Z",
     "iopub.status.busy": "2023-07-04T11:27:51.587961Z",
     "iopub.status.idle": "2023-07-04T11:27:51.599521Z",
     "shell.execute_reply": "2023-07-04T11:27:51.598918Z"
    },
    "papermill": {
     "duration": 0.160784,
     "end_time": "2023-07-04T11:27:51.601557",
     "exception": false,
     "start_time": "2023-07-04T11:27:51.440773",
     "status": "completed"
    },
    "tags": []
   },
   "outputs": [],
   "source": [
    "tst_df = pd.read_csv(path/'test.csv')"
   ]
  },
  {
   "cell_type": "markdown",
   "id": "7c41f9fa",
   "metadata": {
    "papermill": {
     "duration": 0.142093,
     "end_time": "2023-07-04T11:27:51.888172",
     "exception": false,
     "start_time": "2023-07-04T11:27:51.746079",
     "status": "completed"
    },
    "tags": []
   },
   "source": [
    "In this case, it turns out that the test set is missing `Fare` for one passenger. We'll just fill it with `0` to avoid problems:"
   ]
  },
  {
   "cell_type": "code",
   "execution_count": 73,
   "id": "7aba605a",
   "metadata": {
    "execution": {
     "iopub.execute_input": "2023-07-04T11:27:52.177489Z",
     "iopub.status.busy": "2023-07-04T11:27:52.177196Z",
     "iopub.status.idle": "2023-07-04T11:27:52.182307Z",
     "shell.execute_reply": "2023-07-04T11:27:52.181081Z"
    },
    "papermill": {
     "duration": 0.152407,
     "end_time": "2023-07-04T11:27:52.184232",
     "exception": false,
     "start_time": "2023-07-04T11:27:52.031825",
     "status": "completed"
    },
    "tags": []
   },
   "outputs": [],
   "source": [
    "tst_df['Fare'] = tst_df.Fare.fillna(0)"
   ]
  },
  {
   "cell_type": "markdown",
   "id": "fda51c46",
   "metadata": {
    "papermill": {
     "duration": 0.144609,
     "end_time": "2023-07-04T11:27:52.471642",
     "exception": false,
     "start_time": "2023-07-04T11:27:52.327033",
     "status": "completed"
    },
    "tags": []
   },
   "source": [
    "Now we can just copy the same steps we did to our training set and do the same exact things on our test set to preprocess the data:"
   ]
  },
  {
   "cell_type": "code",
   "execution_count": 74,
   "id": "c7c87946",
   "metadata": {
    "execution": {
     "iopub.execute_input": "2023-07-04T11:27:52.760013Z",
     "iopub.status.busy": "2023-07-04T11:27:52.759768Z",
     "iopub.status.idle": "2023-07-04T11:27:52.774500Z",
     "shell.execute_reply": "2023-07-04T11:27:52.774007Z"
    },
    "papermill": {
     "duration": 0.161587,
     "end_time": "2023-07-04T11:27:52.776390",
     "exception": false,
     "start_time": "2023-07-04T11:27:52.614803",
     "status": "completed"
    },
    "tags": []
   },
   "outputs": [],
   "source": [
    "tst_df.fillna(modes, inplace=True)\n",
    "tst_df['LogFare'] = np.log(tst_df['Fare']+1)\n",
    "tst_df = pd.get_dummies(tst_df, columns=[\"Sex\",\"Pclass\",\"Embarked\"])\n",
    "\n",
    "tst_indep = tensor(tst_df[indep_cols].values, dtype=torch.float)\n",
    "tst_indep = tst_indep / vals"
   ]
  },
  {
   "cell_type": "markdown",
   "id": "0774915b",
   "metadata": {
    "papermill": {
     "duration": 0.147953,
     "end_time": "2023-07-04T11:27:53.070441",
     "exception": false,
     "start_time": "2023-07-04T11:27:52.922488",
     "status": "completed"
    },
    "tags": []
   },
   "source": [
    "Let's calculate our predictions of which passengers survived in the test set:"
   ]
  },
  {
   "cell_type": "code",
   "execution_count": 75,
   "id": "15e7ef94",
   "metadata": {
    "execution": {
     "iopub.execute_input": "2023-07-04T11:27:53.366439Z",
     "iopub.status.busy": "2023-07-04T11:27:53.365962Z",
     "iopub.status.idle": "2023-07-04T11:27:53.370468Z",
     "shell.execute_reply": "2023-07-04T11:27:53.370018Z"
    },
    "papermill": {
     "duration": 0.152359,
     "end_time": "2023-07-04T11:27:53.372129",
     "exception": false,
     "start_time": "2023-07-04T11:27:53.219770",
     "status": "completed"
    },
    "tags": []
   },
   "outputs": [],
   "source": [
    "tst_df['Survived'] = (calc_preds(tst_indep, coeffs)>0.5).int()"
   ]
  },
  {
   "cell_type": "markdown",
   "id": "40618877",
   "metadata": {
    "papermill": {
     "duration": 0.143812,
     "end_time": "2023-07-04T11:27:53.660081",
     "exception": false,
     "start_time": "2023-07-04T11:27:53.516269",
     "status": "completed"
    },
    "tags": []
   },
   "source": [
    "The sample submission on the Kaggle competition site shows that we're expected to upload a CSV with just `PassengerId` and `Survived`, so let's create that and save it:"
   ]
  },
  {
   "cell_type": "code",
   "execution_count": 76,
   "id": "b502951e",
   "metadata": {
    "execution": {
     "iopub.execute_input": "2023-07-04T11:27:53.948989Z",
     "iopub.status.busy": "2023-07-04T11:27:53.948524Z",
     "iopub.status.idle": "2023-07-04T11:27:53.958738Z",
     "shell.execute_reply": "2023-07-04T11:27:53.957997Z"
    },
    "papermill": {
     "duration": 0.155587,
     "end_time": "2023-07-04T11:27:53.960808",
     "exception": false,
     "start_time": "2023-07-04T11:27:53.805221",
     "status": "completed"
    },
    "tags": []
   },
   "outputs": [],
   "source": [
    "sub_df = tst_df[['PassengerId','Survived']]\n",
    "sub_df.to_csv('sub.csv', index=False)"
   ]
  },
  {
   "cell_type": "markdown",
   "id": "4564c38e",
   "metadata": {
    "papermill": {
     "duration": 0.146306,
     "end_time": "2023-07-04T11:27:54.252182",
     "exception": false,
     "start_time": "2023-07-04T11:27:54.105876",
     "status": "completed"
    },
    "tags": []
   },
   "source": [
    "We can check the first few rows of the file to make sure it looks reasonable:"
   ]
  },
  {
   "cell_type": "code",
   "execution_count": 77,
   "id": "e70dcfdd",
   "metadata": {
    "execution": {
     "iopub.execute_input": "2023-07-04T11:27:54.546951Z",
     "iopub.status.busy": "2023-07-04T11:27:54.546667Z",
     "iopub.status.idle": "2023-07-04T11:27:54.813392Z",
     "shell.execute_reply": "2023-07-04T11:27:54.812698Z"
    },
    "papermill": {
     "duration": 0.415642,
     "end_time": "2023-07-04T11:27:54.815661",
     "exception": false,
     "start_time": "2023-07-04T11:27:54.400019",
     "status": "completed"
    },
    "tags": []
   },
   "outputs": [
    {
     "name": "stdout",
     "output_type": "stream",
     "text": [
      "PassengerId,Survived\r\n",
      "892,0\r\n",
      "893,0\r\n",
      "894,0\r\n",
      "895,0\r\n",
      "896,0\r\n",
      "897,0\r\n",
      "898,1\r\n",
      "899,0\r\n",
      "900,1\r\n"
     ]
    }
   ],
   "source": [
    "!head sub.csv"
   ]
  },
  {
   "cell_type": "markdown",
   "id": "74bf2d39",
   "metadata": {
    "papermill": {
     "duration": 0.142588,
     "end_time": "2023-07-04T11:27:55.101492",
     "exception": false,
     "start_time": "2023-07-04T11:27:54.958904",
     "status": "completed"
    },
    "tags": []
   },
   "source": [
    "When you click \"save version\" in Kaggle, and wait for the notebook to run, you'll see that `sub.csv` appears in the \"Data\" tab. Clicking on that file will show a *Submit* button, which allows you to submit to the competition."
   ]
  },
  {
   "cell_type": "markdown",
   "id": "e2b383cc",
   "metadata": {
    "papermill": {
     "duration": 0.143801,
     "end_time": "2023-07-04T11:27:55.390802",
     "exception": false,
     "start_time": "2023-07-04T11:27:55.247001",
     "status": "completed"
    },
    "tags": []
   },
   "source": [
    "## Using matrix product"
   ]
  },
  {
   "cell_type": "markdown",
   "id": "0d7766a4",
   "metadata": {
    "papermill": {
     "duration": 0.144102,
     "end_time": "2023-07-04T11:27:55.682916",
     "exception": false,
     "start_time": "2023-07-04T11:27:55.538814",
     "status": "completed"
    },
    "tags": []
   },
   "source": [
    "We can make things quite a bit neater...\n",
    "\n",
    "Take a look at the inner-most calculation we're doing to get the predictions:"
   ]
  },
  {
   "cell_type": "code",
   "execution_count": 78,
   "id": "d569c412",
   "metadata": {
    "execution": {
     "iopub.execute_input": "2023-07-04T11:27:55.973545Z",
     "iopub.status.busy": "2023-07-04T11:27:55.973074Z",
     "iopub.status.idle": "2023-07-04T11:27:55.980804Z",
     "shell.execute_reply": "2023-07-04T11:27:55.980163Z"
    },
    "papermill": {
     "duration": 0.155643,
     "end_time": "2023-07-04T11:27:55.982523",
     "exception": false,
     "start_time": "2023-07-04T11:27:55.826880",
     "status": "completed"
    },
    "tags": []
   },
   "outputs": [
    {
     "data": {
      "text/plain": [
       "tensor([ 12.3288, -14.8119, -15.4540, -13.1513, -13.3512, -13.6469,   3.6248,   5.3429, -22.0878,   3.1233, -21.8742, -15.6421, -21.5504,\n",
       "          3.9393, -21.9190, -12.0010, -12.3775,   5.3550, -13.5880,  -3.1015, -21.7237, -12.2081,  12.9767,   4.7427, -21.6525, -14.9135,\n",
       "         -2.7433, -12.3210, -21.5886,   3.9387,   5.3890,  -3.6196, -21.6296, -21.8454,  12.2159,  -3.2275, -12.0289,  13.4560, -21.7230,\n",
       "         -3.1366, -13.2462, -21.7230, -13.6831,  13.3092, -21.6477,  -3.5868, -21.6854, -21.8316, -14.8158,  -2.9386,  -5.3103, -22.2384,\n",
       "        -22.1097, -21.7466, -13.3780, -13.4909, -14.8119, -22.0690, -21.6666, -21.7818,  -5.4439, -21.7407, -12.6551, -21.6671,   4.9238,\n",
       "        -11.5777, -13.3323, -21.9638, -15.3030,   5.0243, -21.7614,   3.1820, -13.4721, -21.7170, -11.6066, -21.5737, -21.7230, -11.9652,\n",
       "        -13.2382, -13.7599, -13.2170,  13.1347, -21.7049, -21.7268,   4.9207,  -7.3198,  -5.3081,   7.1065,  11.4948, -13.3135, -21.8723,\n",
       "        -21.7230,  13.3603, -15.5670,   3.4105,  -7.2857, -13.7197,   3.6909,   3.9763, -14.7227, -21.8268,   3.9387, -21.8743, -21.8367,\n",
       "        -11.8518, -13.6712, -21.8299,   4.9440,  -5.4471, -21.9666,   5.1333,  -3.2187, -11.6008,  13.7920, -21.7230,  12.6369,  -3.7268,\n",
       "        -14.8119, -22.0637,  12.9468, -22.1610,  -6.1827, -14.8119,  -3.2838, -15.4540, -11.6950,  -2.9926,  -3.0110, -21.5664, -13.8268,\n",
       "          7.3426, -21.8418,   5.0744,   5.2582,  13.3415, -21.6289, -13.9898, -21.8112,  -7.3316,   5.2296, -13.4453,  12.7891, -22.1235,\n",
       "        -14.9625,  -3.4339,   6.3089, -21.9839,   3.1968,   7.2400,   2.8558,  -3.1187,   3.7965,   5.4667, -15.1101, -15.0597, -22.9391,\n",
       "        -21.7230,  -3.0346, -13.5206, -21.7011,  13.4425,  -7.2690, -21.8335, -12.0582,  13.0489,   6.7993,   5.2160,   5.0794, -12.6957,\n",
       "        -12.1838,  -3.0873, -21.6070,   7.0744, -21.7170, -22.1001,   6.8159, -11.6002, -21.6310])"
      ]
     },
     "execution_count": 78,
     "metadata": {},
     "output_type": "execute_result"
    }
   ],
   "source": [
    "(val_indep*coeffs).sum(axis=1)"
   ]
  },
  {
   "cell_type": "markdown",
   "id": "18ac738a",
   "metadata": {
    "papermill": {
     "duration": 0.146042,
     "end_time": "2023-07-04T11:27:56.272884",
     "exception": false,
     "start_time": "2023-07-04T11:27:56.126842",
     "status": "completed"
    },
    "tags": []
   },
   "source": [
    "Multiplying elements together and then adding across rows is identical to doing a matrix-vector product! Python uses the `@` operator to indicate matrix products, and is supported by PyTorch tensors. Therefore, we can replicate the above calculate more simply like so:"
   ]
  },
  {
   "cell_type": "code",
   "execution_count": 79,
   "id": "7f093fd4",
   "metadata": {
    "execution": {
     "iopub.execute_input": "2023-07-04T11:27:56.568960Z",
     "iopub.status.busy": "2023-07-04T11:27:56.568272Z",
     "iopub.status.idle": "2023-07-04T11:27:56.579273Z",
     "shell.execute_reply": "2023-07-04T11:27:56.578438Z"
    },
    "papermill": {
     "duration": 0.160369,
     "end_time": "2023-07-04T11:27:56.581373",
     "exception": false,
     "start_time": "2023-07-04T11:27:56.421004",
     "status": "completed"
    },
    "tags": []
   },
   "outputs": [
    {
     "data": {
      "text/plain": [
       "tensor([ 12.3288, -14.8119, -15.4540, -13.1513, -13.3511, -13.6468,   3.6248,   5.3429, -22.0878,   3.1233, -21.8742, -15.6421, -21.5504,\n",
       "          3.9393, -21.9190, -12.0010, -12.3775,   5.3550, -13.5880,  -3.1015, -21.7237, -12.2081,  12.9767,   4.7427, -21.6525, -14.9135,\n",
       "         -2.7433, -12.3210, -21.5886,   3.9387,   5.3890,  -3.6196, -21.6296, -21.8454,  12.2159,  -3.2275, -12.0289,  13.4560, -21.7230,\n",
       "         -3.1366, -13.2462, -21.7230, -13.6831,  13.3092, -21.6477,  -3.5868, -21.6854, -21.8316, -14.8158,  -2.9386,  -5.3103, -22.2384,\n",
       "        -22.1097, -21.7466, -13.3780, -13.4909, -14.8119, -22.0690, -21.6666, -21.7818,  -5.4439, -21.7407, -12.6551, -21.6671,   4.9238,\n",
       "        -11.5777, -13.3323, -21.9638, -15.3030,   5.0243, -21.7614,   3.1820, -13.4721, -21.7170, -11.6066, -21.5737, -21.7230, -11.9652,\n",
       "        -13.2382, -13.7599, -13.2170,  13.1347, -21.7049, -21.7268,   4.9207,  -7.3198,  -5.3081,   7.1065,  11.4948, -13.3135, -21.8723,\n",
       "        -21.7230,  13.3603, -15.5670,   3.4105,  -7.2857, -13.7197,   3.6909,   3.9763, -14.7227, -21.8268,   3.9387, -21.8743, -21.8367,\n",
       "        -11.8518, -13.6712, -21.8299,   4.9440,  -5.4471, -21.9666,   5.1333,  -3.2187, -11.6008,  13.7920, -21.7230,  12.6369,  -3.7268,\n",
       "        -14.8119, -22.0637,  12.9468, -22.1610,  -6.1827, -14.8119,  -3.2838, -15.4540, -11.6950,  -2.9926,  -3.0110, -21.5664, -13.8268,\n",
       "          7.3426, -21.8418,   5.0744,   5.2582,  13.3415, -21.6289, -13.9898, -21.8112,  -7.3316,   5.2296, -13.4453,  12.7891, -22.1235,\n",
       "        -14.9625,  -3.4339,   6.3089, -21.9839,   3.1968,   7.2400,   2.8558,  -3.1187,   3.7965,   5.4667, -15.1101, -15.0597, -22.9391,\n",
       "        -21.7230,  -3.0346, -13.5206, -21.7011,  13.4425,  -7.2690, -21.8335, -12.0582,  13.0489,   6.7993,   5.2160,   5.0794, -12.6957,\n",
       "        -12.1838,  -3.0873, -21.6070,   7.0745, -21.7170, -22.1001,   6.8159, -11.6002, -21.6310])"
      ]
     },
     "execution_count": 79,
     "metadata": {},
     "output_type": "execute_result"
    }
   ],
   "source": [
    "val_indep@coeffs"
   ]
  },
  {
   "cell_type": "markdown",
   "id": "262fc2d1",
   "metadata": {
    "papermill": {
     "duration": 0.142259,
     "end_time": "2023-07-04T11:27:56.870354",
     "exception": false,
     "start_time": "2023-07-04T11:27:56.728095",
     "status": "completed"
    },
    "tags": []
   },
   "source": [
    "It also turns out that this is much faster, because matrix products in PyTorch are very highly optimised.\n",
    "\n",
    "Let's use this to replace how `calc_preds` works:"
   ]
  },
  {
   "cell_type": "code",
   "execution_count": 80,
   "id": "4ecf29ab",
   "metadata": {
    "execution": {
     "iopub.execute_input": "2023-07-04T11:27:57.165260Z",
     "iopub.status.busy": "2023-07-04T11:27:57.165007Z",
     "iopub.status.idle": "2023-07-04T11:27:57.168756Z",
     "shell.execute_reply": "2023-07-04T11:27:57.168105Z"
    },
    "papermill": {
     "duration": 0.153276,
     "end_time": "2023-07-04T11:27:57.170867",
     "exception": false,
     "start_time": "2023-07-04T11:27:57.017591",
     "status": "completed"
    },
    "tags": []
   },
   "outputs": [],
   "source": [
    "def calc_preds(coeffs, indeps): return torch.sigmoid(indeps@coeffs)"
   ]
  },
  {
   "cell_type": "markdown",
   "id": "00a59024",
   "metadata": {
    "papermill": {
     "duration": 0.143373,
     "end_time": "2023-07-04T11:27:57.460960",
     "exception": false,
     "start_time": "2023-07-04T11:27:57.317587",
     "status": "completed"
    },
    "tags": []
   },
   "source": [
    "In order to do matrix-matrix products (which we'll need in the next section), we need to turn `coeffs` into a column vector (i.e. a matrix with a single column), which we can do by passing a second argument `1` to `torch.rand()`, indicating that we want our coefficients to have one column:"
   ]
  },
  {
   "cell_type": "code",
   "execution_count": 81,
   "id": "27fff7ee",
   "metadata": {
    "execution": {
     "iopub.execute_input": "2023-07-04T11:27:57.753554Z",
     "iopub.status.busy": "2023-07-04T11:27:57.753283Z",
     "iopub.status.idle": "2023-07-04T11:27:57.757490Z",
     "shell.execute_reply": "2023-07-04T11:27:57.756402Z"
    },
    "papermill": {
     "duration": 0.151041,
     "end_time": "2023-07-04T11:27:57.759346",
     "exception": false,
     "start_time": "2023-07-04T11:27:57.608305",
     "status": "completed"
    },
    "tags": []
   },
   "outputs": [],
   "source": [
    "def init_coeffs(): return (torch.rand(n_coeff, 1)*0.1).requires_grad_()"
   ]
  },
  {
   "cell_type": "markdown",
   "id": "b83d883e",
   "metadata": {
    "papermill": {
     "duration": 0.146988,
     "end_time": "2023-07-04T11:27:58.053435",
     "exception": false,
     "start_time": "2023-07-04T11:27:57.906447",
     "status": "completed"
    },
    "tags": []
   },
   "source": [
    "We'll also need to turn our dependent variable into a column vector, which we can do by indexing the column dimension with the special value `None`, which tells PyTorch to add a new dimension in this position:"
   ]
  },
  {
   "cell_type": "code",
   "execution_count": 82,
   "id": "fb25d94e",
   "metadata": {
    "execution": {
     "iopub.execute_input": "2023-07-04T11:27:58.347011Z",
     "iopub.status.busy": "2023-07-04T11:27:58.346606Z",
     "iopub.status.idle": "2023-07-04T11:27:58.351040Z",
     "shell.execute_reply": "2023-07-04T11:27:58.349996Z"
    },
    "papermill": {
     "duration": 0.151435,
     "end_time": "2023-07-04T11:27:58.352653",
     "exception": false,
     "start_time": "2023-07-04T11:27:58.201218",
     "status": "completed"
    },
    "tags": []
   },
   "outputs": [],
   "source": [
    "trn_dep = trn_dep[:,None]\n",
    "val_dep = val_dep[:,None]"
   ]
  },
  {
   "cell_type": "markdown",
   "id": "bbf4a80f",
   "metadata": {
    "papermill": {
     "duration": 0.146043,
     "end_time": "2023-07-04T11:27:58.643752",
     "exception": false,
     "start_time": "2023-07-04T11:27:58.497709",
     "status": "completed"
    },
    "tags": []
   },
   "source": [
    "We can now train our model as before and confirm we get identical outputs...:"
   ]
  },
  {
   "cell_type": "code",
   "execution_count": 83,
   "id": "6985927d",
   "metadata": {
    "execution": {
     "iopub.execute_input": "2023-07-04T11:27:58.935775Z",
     "iopub.status.busy": "2023-07-04T11:27:58.934892Z",
     "iopub.status.idle": "2023-07-04T11:27:58.957745Z",
     "shell.execute_reply": "2023-07-04T11:27:58.957139Z"
    },
    "papermill": {
     "duration": 0.169477,
     "end_time": "2023-07-04T11:27:58.959469",
     "exception": false,
     "start_time": "2023-07-04T11:27:58.789992",
     "status": "completed"
    },
    "tags": []
   },
   "outputs": [
    {
     "name": "stdout",
     "output_type": "stream",
     "text": [
      "0.512; 0.323; 0.290; 0.205; 0.200; 0.198; 0.197; 0.197; 0.196; 0.196; 0.196; 0.195; 0.195; 0.195; 0.195; 0.195; 0.195; 0.194; 0.194; 0.194; 0.194; 0.194; 0.194; 0.194; 0.194; 0.194; 0.194; 0.194; 0.194; 0.194; "
     ]
    }
   ],
   "source": [
    "coeffs = train_model(lr=100)"
   ]
  },
  {
   "cell_type": "markdown",
   "id": "0bc71a85",
   "metadata": {
    "papermill": {
     "duration": 0.146499,
     "end_time": "2023-07-04T11:27:59.268599",
     "exception": false,
     "start_time": "2023-07-04T11:27:59.122100",
     "status": "completed"
    },
    "tags": []
   },
   "source": [
    "...and identical accuracy:"
   ]
  },
  {
   "cell_type": "code",
   "execution_count": 84,
   "id": "499d9240",
   "metadata": {
    "execution": {
     "iopub.execute_input": "2023-07-04T11:27:59.560761Z",
     "iopub.status.busy": "2023-07-04T11:27:59.560384Z",
     "iopub.status.idle": "2023-07-04T11:27:59.566090Z",
     "shell.execute_reply": "2023-07-04T11:27:59.564956Z"
    },
    "papermill": {
     "duration": 0.15398,
     "end_time": "2023-07-04T11:27:59.567881",
     "exception": false,
     "start_time": "2023-07-04T11:27:59.413901",
     "status": "completed"
    },
    "tags": []
   },
   "outputs": [
    {
     "data": {
      "text/plain": [
       "tensor(0.8258)"
      ]
     },
     "execution_count": 84,
     "metadata": {},
     "output_type": "execute_result"
    }
   ],
   "source": [
    "acc(coeffs)"
   ]
  },
  {
   "cell_type": "markdown",
   "id": "d20dbb56",
   "metadata": {
    "papermill": {
     "duration": 0.143048,
     "end_time": "2023-07-04T11:27:59.857774",
     "exception": false,
     "start_time": "2023-07-04T11:27:59.714726",
     "status": "completed"
    },
    "tags": []
   },
   "source": [
    "## A neural network"
   ]
  },
  {
   "cell_type": "markdown",
   "id": "00348f67",
   "metadata": {
    "papermill": {
     "duration": 0.145473,
     "end_time": "2023-07-04T11:28:00.149013",
     "exception": false,
     "start_time": "2023-07-04T11:28:00.003540",
     "status": "completed"
    },
    "tags": []
   },
   "source": [
    "We've now got what we need to implement our neural network.\n",
    "\n",
    "First, we'll need to create coefficients for each of our layers. Our first set of coefficients will take our `n_coeff` inputs, and create `n_hidden` outputs. We can choose whatever `n_hidden` we like -- a higher number gives our network more flexibility, but makes it slower and harder to train. So we need a matrix of size `n_coeff` by `n_hidden`. We'll divide these coefficients by `n_hidden` so that when we sum them up in the next layer we'll end up with similar magnitude numbers to what we started with.\n",
    "\n",
    "Then our second layer will need to take the `n_hidden` inputs and create a single output, so that means we need a `n_hidden` by `1` matrix there. The second layer will also need a constant term added."
   ]
  },
  {
   "cell_type": "code",
   "execution_count": 85,
   "id": "c22e91dd",
   "metadata": {
    "execution": {
     "iopub.execute_input": "2023-07-04T11:28:00.442949Z",
     "iopub.status.busy": "2023-07-04T11:28:00.442436Z",
     "iopub.status.idle": "2023-07-04T11:28:00.447214Z",
     "shell.execute_reply": "2023-07-04T11:28:00.446294Z"
    },
    "papermill": {
     "duration": 0.154056,
     "end_time": "2023-07-04T11:28:00.449379",
     "exception": false,
     "start_time": "2023-07-04T11:28:00.295323",
     "status": "completed"
    },
    "tags": []
   },
   "outputs": [],
   "source": [
    "def init_coeffs(n_hidden=20):\n",
    "    layer1 = (torch.rand(n_coeff, n_hidden)-0.5)/n_hidden\n",
    "    layer2 = torch.rand(n_hidden, 1)-0.3\n",
    "    const = torch.rand(1)[0]\n",
    "    return layer1.requires_grad_(),layer2.requires_grad_(),const.requires_grad_()"
   ]
  },
  {
   "cell_type": "markdown",
   "id": "76e2825c",
   "metadata": {
    "papermill": {
     "duration": 0.146885,
     "end_time": "2023-07-04T11:28:00.741398",
     "exception": false,
     "start_time": "2023-07-04T11:28:00.594513",
     "status": "completed"
    },
    "tags": []
   },
   "source": [
    "Now we have our coefficients, we can create our neural net. The key steps are the two matrix products, `indeps@l1` and `res@l2` (where `res` is the output of the first layer). The first layer output is passed to `F.relu` (that's our non-linearity), and the second is passed to `torch.sigmoid` as before."
   ]
  },
  {
   "cell_type": "code",
   "execution_count": 86,
   "id": "48cbd19e",
   "metadata": {
    "execution": {
     "iopub.execute_input": "2023-07-04T11:28:01.035968Z",
     "iopub.status.busy": "2023-07-04T11:28:01.035543Z",
     "iopub.status.idle": "2023-07-04T11:28:01.039833Z",
     "shell.execute_reply": "2023-07-04T11:28:01.039261Z"
    },
    "papermill": {
     "duration": 0.156245,
     "end_time": "2023-07-04T11:28:01.042101",
     "exception": false,
     "start_time": "2023-07-04T11:28:00.885856",
     "status": "completed"
    },
    "tags": []
   },
   "outputs": [],
   "source": [
    "import torch.nn.functional as F\n",
    "\n",
    "def calc_preds(coeffs, indeps):\n",
    "    l1,l2,const = coeffs\n",
    "    res = F.relu(indeps@l1)\n",
    "    res = res@l2 + const\n",
    "    return torch.sigmoid(res)"
   ]
  },
  {
   "cell_type": "markdown",
   "id": "95d9ba0d",
   "metadata": {
    "papermill": {
     "duration": 0.14516,
     "end_time": "2023-07-04T11:28:01.333001",
     "exception": false,
     "start_time": "2023-07-04T11:28:01.187841",
     "status": "completed"
    },
    "tags": []
   },
   "source": [
    "Finally, now that we have more than one set of coefficients, we need to add a loop to update each one:"
   ]
  },
  {
   "cell_type": "code",
   "execution_count": 87,
   "id": "a9a5a2dc",
   "metadata": {
    "execution": {
     "iopub.execute_input": "2023-07-04T11:28:01.628430Z",
     "iopub.status.busy": "2023-07-04T11:28:01.628013Z",
     "iopub.status.idle": "2023-07-04T11:28:01.631836Z",
     "shell.execute_reply": "2023-07-04T11:28:01.631273Z"
    },
    "papermill": {
     "duration": 0.154574,
     "end_time": "2023-07-04T11:28:01.633838",
     "exception": false,
     "start_time": "2023-07-04T11:28:01.479264",
     "status": "completed"
    },
    "tags": []
   },
   "outputs": [],
   "source": [
    "def update_coeffs(coeffs, lr):\n",
    "    for layer in coeffs:\n",
    "        layer.sub_(layer.grad * lr)\n",
    "        layer.grad.zero_()"
   ]
  },
  {
   "cell_type": "code",
   "execution_count": 88,
   "id": "48d6a2e8",
   "metadata": {
    "execution": {
     "iopub.execute_input": "2023-07-04T11:28:01.929339Z",
     "iopub.status.busy": "2023-07-04T11:28:01.929069Z",
     "iopub.status.idle": "2023-07-04T11:28:01.933903Z",
     "shell.execute_reply": "2023-07-04T11:28:01.933187Z"
    },
    "papermill": {
     "duration": 0.155453,
     "end_time": "2023-07-04T11:28:01.935601",
     "exception": false,
     "start_time": "2023-07-04T11:28:01.780148",
     "status": "completed"
    },
    "tags": []
   },
   "outputs": [],
   "source": [
    "def one_epoch(coeffs, lr):\n",
    "    loss = calc_loss(coeffs, trn_indep, trn_dep)\n",
    "    loss.backward()\n",
    "    with torch.no_grad(): update_coeffs(coeffs, lr)\n",
    "    print(f\"{loss:.3f}\", end=\"; \")"
   ]
  },
  {
   "cell_type": "markdown",
   "id": "0db53f56",
   "metadata": {
    "papermill": {
     "duration": 0.144179,
     "end_time": "2023-07-04T11:28:02.228528",
     "exception": false,
     "start_time": "2023-07-04T11:28:02.084349",
     "status": "completed"
    },
    "tags": []
   },
   "source": [
    "That's it -- we're now ready to train our model!"
   ]
  },
  {
   "cell_type": "code",
   "execution_count": 89,
   "id": "729d1e93",
   "metadata": {
    "execution": {
     "iopub.execute_input": "2023-07-04T11:28:02.519628Z",
     "iopub.status.busy": "2023-07-04T11:28:02.519378Z",
     "iopub.status.idle": "2023-07-04T11:28:02.523986Z",
     "shell.execute_reply": "2023-07-04T11:28:02.523241Z"
    },
    "papermill": {
     "duration": 0.152501,
     "end_time": "2023-07-04T11:28:02.525638",
     "exception": false,
     "start_time": "2023-07-04T11:28:02.373137",
     "status": "completed"
    },
    "tags": []
   },
   "outputs": [],
   "source": [
    "def train_model(epochs=30, lr=0.01):\n",
    "    torch.manual_seed(442)\n",
    "    coeffs = init_coeffs()\n",
    "    for i in range(epochs): one_epoch(coeffs, lr=lr)\n",
    "    return coeffs"
   ]
  },
  {
   "cell_type": "code",
   "execution_count": 90,
   "id": "93781b45",
   "metadata": {
    "execution": {
     "iopub.execute_input": "2023-07-04T11:28:02.819990Z",
     "iopub.status.busy": "2023-07-04T11:28:02.819658Z",
     "iopub.status.idle": "2023-07-04T11:28:02.847474Z",
     "shell.execute_reply": "2023-07-04T11:28:02.846309Z"
    },
    "papermill": {
     "duration": 0.177606,
     "end_time": "2023-07-04T11:28:02.849309",
     "exception": false,
     "start_time": "2023-07-04T11:28:02.671703",
     "status": "completed"
    },
    "tags": []
   },
   "outputs": [
    {
     "name": "stdout",
     "output_type": "stream",
     "text": [
      "0.543; 0.532; 0.520; 0.505; 0.487; 0.466; 0.439; 0.407; 0.373; 0.343; 0.319; 0.301; 0.286; 0.274; 0.264; 0.256; 0.250; 0.245; 0.240; 0.237; 0.234; 0.231; 0.229; 0.227; 0.226; 0.224; 0.223; 0.222; 0.221; 0.220; "
     ]
    }
   ],
   "source": [
    "coeffs = train_model(lr=1.4)"
   ]
  },
  {
   "cell_type": "code",
   "execution_count": 91,
   "id": "2856fe23",
   "metadata": {
    "execution": {
     "iopub.execute_input": "2023-07-04T11:28:03.140858Z",
     "iopub.status.busy": "2023-07-04T11:28:03.140502Z",
     "iopub.status.idle": "2023-07-04T11:28:03.161175Z",
     "shell.execute_reply": "2023-07-04T11:28:03.159984Z"
    },
    "papermill": {
     "duration": 0.16806,
     "end_time": "2023-07-04T11:28:03.163149",
     "exception": false,
     "start_time": "2023-07-04T11:28:02.995089",
     "status": "completed"
    },
    "tags": []
   },
   "outputs": [
    {
     "name": "stdout",
     "output_type": "stream",
     "text": [
      "0.543; 0.400; 0.260; 0.390; 0.221; 0.211; 0.197; 0.195; 0.193; 0.193; 0.193; 0.193; 0.193; 0.193; 0.193; 0.193; 0.193; 0.192; 0.192; 0.192; 0.192; 0.192; 0.192; 0.192; 0.192; 0.192; 0.192; 0.192; 0.192; 0.192; "
     ]
    }
   ],
   "source": [
    "coeffs = train_model(lr=20)"
   ]
  },
  {
   "cell_type": "markdown",
   "id": "f3f1c10a",
   "metadata": {
    "papermill": {
     "duration": 0.146174,
     "end_time": "2023-07-04T11:28:03.456692",
     "exception": false,
     "start_time": "2023-07-04T11:28:03.310518",
     "status": "completed"
    },
    "tags": []
   },
   "source": [
    "It's looking good -- our loss is lower than before. Let's see if that translates to a better result on the validation set:"
   ]
  },
  {
   "cell_type": "code",
   "execution_count": 92,
   "id": "d4025ef4",
   "metadata": {
    "execution": {
     "iopub.execute_input": "2023-07-04T11:28:03.752319Z",
     "iopub.status.busy": "2023-07-04T11:28:03.752089Z",
     "iopub.status.idle": "2023-07-04T11:28:03.757348Z",
     "shell.execute_reply": "2023-07-04T11:28:03.756736Z"
    },
    "papermill": {
     "duration": 0.15481,
     "end_time": "2023-07-04T11:28:03.758995",
     "exception": false,
     "start_time": "2023-07-04T11:28:03.604185",
     "status": "completed"
    },
    "tags": []
   },
   "outputs": [
    {
     "data": {
      "text/plain": [
       "tensor(0.8258)"
      ]
     },
     "execution_count": 92,
     "metadata": {},
     "output_type": "execute_result"
    }
   ],
   "source": [
    "acc(coeffs)"
   ]
  },
  {
   "cell_type": "markdown",
   "id": "6f118cdb",
   "metadata": {
    "papermill": {
     "duration": 0.145189,
     "end_time": "2023-07-04T11:28:04.050183",
     "exception": false,
     "start_time": "2023-07-04T11:28:03.904994",
     "status": "completed"
    },
    "tags": []
   },
   "source": [
    "In this case our neural net isn't showing better results than the linear model. That's not surprising; this dataset is very small and very simple, and isn't the kind of thing we'd expect to see neural networks excel at. Furthermore, our validation set is too small to reliably see much accuracy difference. But the key thing is that we now know exactly what a real neural net looks like!"
   ]
  },
  {
   "cell_type": "markdown",
   "id": "b207229f",
   "metadata": {
    "papermill": {
     "duration": 0.148707,
     "end_time": "2023-07-04T11:28:04.346134",
     "exception": false,
     "start_time": "2023-07-04T11:28:04.197427",
     "status": "completed"
    },
    "tags": []
   },
   "source": [
    "## Deep learning"
   ]
  },
  {
   "cell_type": "markdown",
   "id": "3ceb2447",
   "metadata": {
    "papermill": {
     "duration": 0.145654,
     "end_time": "2023-07-04T11:28:04.637553",
     "exception": false,
     "start_time": "2023-07-04T11:28:04.491899",
     "status": "completed"
    },
    "tags": []
   },
   "source": [
    "The neural net in the previous section only uses one hidden layer, so it doesn't count as \"deep\" learning. But we can use the exact same technique to make our neural net deep, by adding more matrix multiplications.\n",
    "\n",
    "First, we'll need to create additional coefficients for each layer:"
   ]
  },
  {
   "cell_type": "code",
   "execution_count": 93,
   "id": "bae461ea",
   "metadata": {
    "execution": {
     "iopub.execute_input": "2023-07-04T11:28:04.934585Z",
     "iopub.status.busy": "2023-07-04T11:28:04.934120Z",
     "iopub.status.idle": "2023-07-04T11:28:04.940316Z",
     "shell.execute_reply": "2023-07-04T11:28:04.939458Z"
    },
    "papermill": {
     "duration": 0.156211,
     "end_time": "2023-07-04T11:28:04.942479",
     "exception": false,
     "start_time": "2023-07-04T11:28:04.786268",
     "status": "completed"
    },
    "tags": []
   },
   "outputs": [],
   "source": [
    "def init_coeffs():\n",
    "    hiddens = [10, 10]  # <-- set this to the size of each hidden layer you want\n",
    "    sizes = [n_coeff] + hiddens + [1]\n",
    "    n = len(sizes)\n",
    "    layers = [(torch.rand(sizes[i], sizes[i+1])-0.3)/sizes[i+1]*4 for i in range(n-1)]\n",
    "    consts = [(torch.rand(1)[0]-0.5)*0.1 for i in range(n-1)]\n",
    "    for l in layers+consts: l.requires_grad_()\n",
    "    return layers,consts"
   ]
  },
  {
   "cell_type": "markdown",
   "id": "549bd690",
   "metadata": {
    "papermill": {
     "duration": 0.145549,
     "end_time": "2023-07-04T11:28:05.237846",
     "exception": false,
     "start_time": "2023-07-04T11:28:05.092297",
     "status": "completed"
    },
    "tags": []
   },
   "source": [
    "You'll notice here that there's a lot of messy constants to get the random numbers in just the right ranges. When you train the model in a moment, you'll see that the tiniest changes to these initialisations can cause our model to fail to train at all! This is a key reason that deep learning failed to make much progress in the early days -- it's very finicky to get a good starting point for our coefficients. Nowadays, we have ways to deal with that, which we'll learn about in other notebooks.\n",
    "\n",
    "Our deep learning `calc_preds` looks much the same as before, but now we loop through each layer, instead of listing them separately:"
   ]
  },
  {
   "cell_type": "code",
   "execution_count": 94,
   "id": "ae17bcd6",
   "metadata": {
    "execution": {
     "iopub.execute_input": "2023-07-04T11:28:05.533900Z",
     "iopub.status.busy": "2023-07-04T11:28:05.533630Z",
     "iopub.status.idle": "2023-07-04T11:28:05.538467Z",
     "shell.execute_reply": "2023-07-04T11:28:05.537763Z"
    },
    "papermill": {
     "duration": 0.153903,
     "end_time": "2023-07-04T11:28:05.540155",
     "exception": false,
     "start_time": "2023-07-04T11:28:05.386252",
     "status": "completed"
    },
    "tags": []
   },
   "outputs": [],
   "source": [
    "import torch.nn.functional as F\n",
    "\n",
    "def calc_preds(coeffs, indeps):\n",
    "    layers,consts = coeffs\n",
    "    n = len(layers)\n",
    "    res = indeps\n",
    "    for i,l in enumerate(layers):\n",
    "        res = res@l + consts[i]\n",
    "        if i!=n-1: res = F.relu(res)\n",
    "    return torch.sigmoid(res)"
   ]
  },
  {
   "cell_type": "markdown",
   "id": "1c299320",
   "metadata": {
    "papermill": {
     "duration": 0.148454,
     "end_time": "2023-07-04T11:28:05.837572",
     "exception": false,
     "start_time": "2023-07-04T11:28:05.689118",
     "status": "completed"
    },
    "tags": []
   },
   "source": [
    "We also need a minor update to `update_coeffs` since we've got `layers` and `consts` separated now:"
   ]
  },
  {
   "cell_type": "code",
   "execution_count": 95,
   "id": "2ea7bbd7",
   "metadata": {
    "execution": {
     "iopub.execute_input": "2023-07-04T11:28:06.170586Z",
     "iopub.status.busy": "2023-07-04T11:28:06.170212Z",
     "iopub.status.idle": "2023-07-04T11:28:06.174402Z",
     "shell.execute_reply": "2023-07-04T11:28:06.173776Z"
    },
    "papermill": {
     "duration": 0.170322,
     "end_time": "2023-07-04T11:28:06.176132",
     "exception": false,
     "start_time": "2023-07-04T11:28:06.005810",
     "status": "completed"
    },
    "tags": []
   },
   "outputs": [],
   "source": [
    "def update_coeffs(coeffs, lr):\n",
    "    layers,consts = coeffs\n",
    "    for layer in layers+consts:\n",
    "        layer.sub_(layer.grad * lr)\n",
    "        layer.grad.zero_()"
   ]
  },
  {
   "cell_type": "markdown",
   "id": "8d8e8916",
   "metadata": {
    "papermill": {
     "duration": 0.145369,
     "end_time": "2023-07-04T11:28:06.472722",
     "exception": false,
     "start_time": "2023-07-04T11:28:06.327353",
     "status": "completed"
    },
    "tags": []
   },
   "source": [
    "Let's train our model..."
   ]
  },
  {
   "cell_type": "code",
   "execution_count": 96,
   "id": "4d53c704",
   "metadata": {
    "execution": {
     "iopub.execute_input": "2023-07-04T11:28:06.771868Z",
     "iopub.status.busy": "2023-07-04T11:28:06.771653Z",
     "iopub.status.idle": "2023-07-04T11:28:06.795987Z",
     "shell.execute_reply": "2023-07-04T11:28:06.795313Z"
    },
    "papermill": {
     "duration": 0.174133,
     "end_time": "2023-07-04T11:28:06.797615",
     "exception": false,
     "start_time": "2023-07-04T11:28:06.623482",
     "status": "completed"
    },
    "tags": []
   },
   "outputs": [
    {
     "name": "stdout",
     "output_type": "stream",
     "text": [
      "0.521; 0.483; 0.427; 0.379; 0.379; 0.379; 0.379; 0.378; 0.378; 0.378; 0.378; 0.378; 0.378; 0.378; 0.378; 0.378; 0.377; 0.376; 0.371; 0.333; 0.239; 0.224; 0.208; 0.204; 0.203; 0.203; 0.207; 0.197; 0.196; 0.195; "
     ]
    }
   ],
   "source": [
    "coeffs = train_model(lr=4)"
   ]
  },
  {
   "cell_type": "markdown",
   "id": "eef3afe0",
   "metadata": {
    "papermill": {
     "duration": 0.14875,
     "end_time": "2023-07-04T11:28:07.092290",
     "exception": false,
     "start_time": "2023-07-04T11:28:06.943540",
     "status": "completed"
    },
    "tags": []
   },
   "source": [
    "...and check its accuracy:"
   ]
  },
  {
   "cell_type": "code",
   "execution_count": 97,
   "id": "0dfe9e47",
   "metadata": {
    "execution": {
     "iopub.execute_input": "2023-07-04T11:28:07.387838Z",
     "iopub.status.busy": "2023-07-04T11:28:07.387574Z",
     "iopub.status.idle": "2023-07-04T11:28:07.393368Z",
     "shell.execute_reply": "2023-07-04T11:28:07.392430Z"
    },
    "papermill": {
     "duration": 0.153659,
     "end_time": "2023-07-04T11:28:07.395067",
     "exception": false,
     "start_time": "2023-07-04T11:28:07.241408",
     "status": "completed"
    },
    "tags": []
   },
   "outputs": [
    {
     "data": {
      "text/plain": [
       "tensor(0.8258)"
      ]
     },
     "execution_count": 97,
     "metadata": {},
     "output_type": "execute_result"
    }
   ],
   "source": [
    "acc(coeffs)"
   ]
  },
  {
   "cell_type": "markdown",
   "id": "9d344122",
   "metadata": {
    "papermill": {
     "duration": 0.149363,
     "end_time": "2023-07-04T11:28:07.691240",
     "exception": false,
     "start_time": "2023-07-04T11:28:07.541877",
     "status": "completed"
    },
    "tags": []
   },
   "source": [
    "## Final thoughts"
   ]
  },
  {
   "cell_type": "markdown",
   "id": "20cb3cf4",
   "metadata": {
    "papermill": {
     "duration": 0.147661,
     "end_time": "2023-07-04T11:28:07.988028",
     "exception": false,
     "start_time": "2023-07-04T11:28:07.840367",
     "status": "completed"
    },
    "tags": []
   },
   "source": [
    "It's actually pretty cool that we've managed to create a real deep learning model from scratch and trained it to get over 80% accuracy on this task, all in the course of a single notebook!\n",
    "\n",
    "The \"real\" deep learning models that are used in research and industry look very similar to this, and in fact if you look inside the source code of any deep learning model you'll recognise the basic steps are the same.\n",
    "\n",
    "The biggest differences in practical models to what we have above are:\n",
    "\n",
    "- How initialisation and normalisation is done to ensure the model trains correctly every time\n",
    "- Regularization (to avoid over-fitting)\n",
    "- Modifying the neural net itself to take advantage of knowledge of the problem domain\n",
    "- Doing gradient descent steps on smaller batches, rather than the whole dataset.\n",
    "\n",
    "I'll be adding notebooks about all these later, and will add links here once they're ready.\n",
    "\n",
    "If you found this notebook useful, please remember to click the little up-arrow at the top to upvote it, since I like to know when people have found my work useful, and it helps others find it too. (BTW, be sure you're looking at my [original notebook here](https://www.kaggle.com/code/jhoward/linear-model-and-neural-net-from-scratch) when you do that, and are not on your own copy of it, otherwise your upvote won't get counted!) And if you have any questions or comments, please pop them below -- I read every comment I receive!"
   ]
  },
  {
   "cell_type": "code",
   "execution_count": null,
   "id": "da8179bc",
   "metadata": {
    "papermill": {
     "duration": 0.151071,
     "end_time": "2023-07-04T11:28:08.289047",
     "exception": false,
     "start_time": "2023-07-04T11:28:08.137976",
     "status": "completed"
    },
    "tags": []
   },
   "outputs": [],
   "source": []
  }
 ],
 "metadata": {
  "kernelspec": {
   "display_name": "Python 3",
   "language": "python",
   "name": "python3"
  },
  "language_info": {
   "codemirror_mode": {
    "name": "ipython",
    "version": 3
   },
   "file_extension": ".py",
   "mimetype": "text/x-python",
   "name": "python",
   "nbconvert_exporter": "python",
   "pygments_lexer": "ipython3",
   "version": "3.7.12"
  },
  "papermill": {
   "default_parameters": {},
   "duration": 68.071555,
   "end_time": "2023-07-04T11:28:09.455836",
   "environment_variables": {},
   "exception": null,
   "input_path": "__notebook__.ipynb",
   "output_path": "__notebook__.ipynb",
   "parameters": {},
   "start_time": "2023-07-04T11:27:01.384281",
   "version": "2.3.4"
  }
 },
 "nbformat": 4,
 "nbformat_minor": 5
}
